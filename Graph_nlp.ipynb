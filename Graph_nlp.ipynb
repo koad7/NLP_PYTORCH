{
  "nbformat": 4,
  "nbformat_minor": 0,
  "metadata": {
    "colab": {
      "provenance": [],
      "machine_shape": "hm",
      "gpuType": "T4",
      "authorship_tag": "ABX9TyOcQDGWzUA+zyT7/401oX+6",
      "include_colab_link": true
    },
    "kernelspec": {
      "name": "python3",
      "display_name": "Python 3"
    },
    "language_info": {
      "name": "python"
    },
    "accelerator": "GPU"
  },
  "cells": [
    {
      "cell_type": "markdown",
      "metadata": {
        "id": "view-in-github",
        "colab_type": "text"
      },
      "source": [
        "<a href=\"https://colab.research.google.com/github/koad7/NLP_PYTORCH/blob/main/Graph_nlp.ipynb\" target=\"_parent\"><img src=\"https://colab.research.google.com/assets/colab-badge.svg\" alt=\"Open In Colab\"/></a>"
      ]
    },
    {
      "cell_type": "code",
      "execution_count": 1,
      "metadata": {
        "colab": {
          "base_uri": "https://localhost:8080/"
        },
        "id": "HqMIatOGrDJO",
        "outputId": "aa4e298e-f904-415c-ef80-866e20c5c0dd"
      },
      "outputs": [
        {
          "output_type": "stream",
          "name": "stdout",
          "text": [
            "\u001b[2K     \u001b[90m━━━━━━━━━━━━━━━━━━━━━━━━━━━━━━━━━━━━━━━\u001b[0m \u001b[32m177.0/177.0 kB\u001b[0m \u001b[31m3.4 MB/s\u001b[0m eta \u001b[36m0:00:00\u001b[0m\n",
            "\u001b[2K     \u001b[90m━━━━━━━━━━━━━━━━━━━━━━━━━━━━━━━━━━━━━━━━\u001b[0m \u001b[32m88.2/88.2 kB\u001b[0m \u001b[31m2.4 MB/s\u001b[0m eta \u001b[36m0:00:00\u001b[0m\n",
            "\u001b[?25h  Preparing metadata (setup.py) ... \u001b[?25l\u001b[?25hdone\n",
            "\u001b[2K     \u001b[90m━━━━━━━━━━━━━━━━━━━━━━━━━━━━━━━━━━━━━━━━\u001b[0m \u001b[32m1.1/1.1 MB\u001b[0m \u001b[31m21.0 MB/s\u001b[0m eta \u001b[36m0:00:00\u001b[0m\n",
            "\u001b[?25h  Preparing metadata (setup.py) ... \u001b[?25l\u001b[?25hdone\n",
            "  Building wheel for umap-learn (setup.py) ... \u001b[?25l\u001b[?25hdone\n",
            "  Building wheel for pynndescent (setup.py) ... \u001b[?25l\u001b[?25hdone\n",
            "\u001b[2K     \u001b[90m━━━━━━━━━━━━━━━━━━━━━━━━━━━━━━━━━━━━━━━━\u001b[0m \u001b[32m5.2/5.2 MB\u001b[0m \u001b[31m44.4 MB/s\u001b[0m eta \u001b[36m0:00:00\u001b[0m\n",
            "\u001b[?25h  Installing build dependencies ... \u001b[?25l\u001b[?25hdone\n",
            "  Getting requirements to build wheel ... \u001b[?25l\u001b[?25hdone\n",
            "  Preparing metadata (pyproject.toml) ... \u001b[?25l\u001b[?25hdone\n",
            "  Building wheel for hdbscan (pyproject.toml) ... \u001b[?25l\u001b[?25hdone\n"
          ]
        }
      ],
      "source": [
        "!pip install --upgrade -q py2neo\n",
        "!pip install -q umap-learn\n",
        "!pip install -q hdbscan"
      ]
    },
    {
      "cell_type": "code",
      "source": [
        "from google.colab import drive\n",
        "drive.mount('/content/drive')"
      ],
      "metadata": {
        "colab": {
          "base_uri": "https://localhost:8080/"
        },
        "id": "Sh6ndaPb_CTe",
        "outputId": "b1dafa58-6103-4561-aebf-e4b81318cb89"
      },
      "execution_count": 3,
      "outputs": [
        {
          "output_type": "stream",
          "name": "stdout",
          "text": [
            "Mounted at /content/drive\n"
          ]
        }
      ]
    },
    {
      "cell_type": "code",
      "source": [
        "import matplotlib.pyplot as plt\n",
        "import numpy as np\n",
        "import os\n",
        "import spacy\n",
        "from scipy.sparse import coo_matrix, save_npz\n",
        "%matplotlib inline\n",
        "import pandas as pd"
      ],
      "metadata": {
        "id": "keJiyg-dw4yM"
      },
      "execution_count": 7,
      "outputs": []
    },
    {
      "cell_type": "code",
      "source": [
        "# Download the ZIP file\n",
        "!wget -P '/content/drive/MyDrive/MSc. DATA SCIENCE/FINAL PROJECT/graph_tuto' https://lp-prod-resources.s3.amazonaws.com/646/109102/2022-07-28-22-18-12/stat-abstract-vectors.tsv.zip\n",
        "!wget -P '/content/drive/MyDrive/MSc. DATA SCIENCE/FINAL PROJECT/graph_tuto' https://lp-prod-resources.s3.amazonaws.com/646/109102/2022-07-28-22-18-05/stat-abstracts.tsv\n",
        "# Unzip the file\n",
        "!unzip stat-abstract-vectors.tsv.zip\n",
        "# Check the files in the current directory to ensure it's unzipped\n",
        "!ls\n",
        "\n",
        "\n",
        "\n"
      ],
      "metadata": {
        "colab": {
          "base_uri": "https://localhost:8080/"
        },
        "id": "wlff2wTgzEJm",
        "outputId": "c70188bd-bc71-4a42-8793-226899e992c1"
      },
      "execution_count": 5,
      "outputs": [
        {
          "output_type": "stream",
          "name": "stdout",
          "text": [
            "--2023-08-21 12:09:23--  https://lp-prod-resources.s3.amazonaws.com/646/109102/2022-07-28-22-18-12/stat-abstract-vectors.tsv.zip\n",
            "Resolving lp-prod-resources.s3.amazonaws.com (lp-prod-resources.s3.amazonaws.com)... 52.92.224.97, 52.92.250.33, 52.218.152.171, ...\n",
            "Connecting to lp-prod-resources.s3.amazonaws.com (lp-prod-resources.s3.amazonaws.com)|52.92.224.97|:443... connected.\n",
            "HTTP request sent, awaiting response... 200 OK\n",
            "Length: 45112095 (43M) [application/octet-stream]\n",
            "Saving to: ‘/content/drive/MyDrive/MSc. DATA SCIENCE/FINAL PROJECT/graph_tuto/stat-abstract-vectors.tsv.zip’\n",
            "\n",
            "stat-abstract-vecto 100%[===================>]  43.02M  12.2MB/s    in 4.5s    \n",
            "\n",
            "2023-08-21 12:09:28 (9.55 MB/s) - ‘/content/drive/MyDrive/MSc. DATA SCIENCE/FINAL PROJECT/graph_tuto/stat-abstract-vectors.tsv.zip’ saved [45112095/45112095]\n",
            "\n",
            "--2023-08-21 12:09:28--  https://lp-prod-resources.s3.amazonaws.com/646/109102/2022-07-28-22-18-05/stat-abstracts.tsv\n",
            "Resolving lp-prod-resources.s3.amazonaws.com (lp-prod-resources.s3.amazonaws.com)... 52.218.250.219, 52.92.139.89, 52.92.137.105, ...\n",
            "Connecting to lp-prod-resources.s3.amazonaws.com (lp-prod-resources.s3.amazonaws.com)|52.218.250.219|:443... connected.\n",
            "HTTP request sent, awaiting response... 200 OK\n",
            "Length: 56891267 (54M) [application/octet-stream]\n",
            "Saving to: ‘/content/drive/MyDrive/MSc. DATA SCIENCE/FINAL PROJECT/graph_tuto/stat-abstracts.tsv’\n",
            "\n",
            "stat-abstracts.tsv  100%[===================>]  54.25M  14.1MB/s    in 4.9s    \n",
            "\n",
            "2023-08-21 12:09:34 (11.0 MB/s) - ‘/content/drive/MyDrive/MSc. DATA SCIENCE/FINAL PROJECT/graph_tuto/stat-abstracts.tsv’ saved [56891267/56891267]\n",
            "\n",
            "Archive:  stat-abstract-vectors.tsv.zip\n",
            "replace stat-abstract-vectors.tsv? [y]es, [n]o, [A]ll, [N]one, [r]ename: y\n",
            "  inflating: stat-abstract-vectors.tsv  \n",
            "drive\t     stat-abstracts.tsv\t\tstat-abstract-vectors.tsv.zip\n",
            "sample_data  stat-abstract-vectors.tsv\n"
          ]
        }
      ]
    },
    {
      "cell_type": "code",
      "source": [
        "DATA_DIR = \"/content/drive/MyDrive/MSc. DATA SCIENCE/FINAL PROJECT/graph_tuto\"\n",
        "ABSTRACT_FILE = os.path.join(DATA_DIR, \"stat-abstracts.tsv\")\n",
        "ABS_VEC_FILE = os.path.join(DATA_DIR, \"stat-abstract-vectors.tsv\")\n",
        "DOCIDS_LIST = os.path.join(DATA_DIR, \"stat-av-docids.txt\")\n",
        "SIM_MATRIX_FILE = os.path.join(DATA_DIR, \"av-simmatrix.npy\")\n",
        "ADJ_MATRIX_FILE = os.path.join(DATA_DIR, \"av-adjmatrix.npz\")"
      ],
      "metadata": {
        "id": "MkWMpMPVytHh"
      },
      "execution_count": 8,
      "outputs": []
    },
    {
      "cell_type": "markdown",
      "source": [
        "## 1-Load the spaCy language model.\n",
        "We will represent documents as vectors using word embeddings. The spaCy medium and large provides 300-dimensional word vectors out of the box. Documents are represented by vectors that are the average of their word vectors. In our project, we will use the medium English language model (en_core_web_md).\n",
        "\n"
      ],
      "metadata": {
        "id": "mmSec01vwJrk"
      }
    },
    {
      "cell_type": "code",
      "source": [
        "!python -m spacy download en_core_web_md\n",
        "nlp = spacy.load(\"en_core_web_md\")"
      ],
      "metadata": {
        "colab": {
          "base_uri": "https://localhost:8080/"
        },
        "id": "6UEKIIn8z9pl",
        "outputId": "c3565ae2-d5a5-4cff-db4f-ec0b9fe029d4"
      },
      "execution_count": 9,
      "outputs": [
        {
          "output_type": "stream",
          "name": "stdout",
          "text": [
            "2023-08-21 12:10:52.915355: W tensorflow/compiler/tf2tensorrt/utils/py_utils.cc:38] TF-TRT Warning: Could not find TensorRT\n",
            "Collecting en-core-web-md==3.6.0\n",
            "  Downloading https://github.com/explosion/spacy-models/releases/download/en_core_web_md-3.6.0/en_core_web_md-3.6.0-py3-none-any.whl (42.8 MB)\n",
            "\u001b[2K     \u001b[90m━━━━━━━━━━━━━━━━━━━━━━━━━━━━━━━━━━━━━━━━\u001b[0m \u001b[32m42.8/42.8 MB\u001b[0m \u001b[31m13.8 MB/s\u001b[0m eta \u001b[36m0:00:00\u001b[0m\n",
            "\u001b[?25hRequirement already satisfied: spacy<3.7.0,>=3.6.0 in /usr/local/lib/python3.10/dist-packages (from en-core-web-md==3.6.0) (3.6.1)\n",
            "Requirement already satisfied: spacy-legacy<3.1.0,>=3.0.11 in /usr/local/lib/python3.10/dist-packages (from spacy<3.7.0,>=3.6.0->en-core-web-md==3.6.0) (3.0.12)\n",
            "Requirement already satisfied: spacy-loggers<2.0.0,>=1.0.0 in /usr/local/lib/python3.10/dist-packages (from spacy<3.7.0,>=3.6.0->en-core-web-md==3.6.0) (1.0.4)\n",
            "Requirement already satisfied: murmurhash<1.1.0,>=0.28.0 in /usr/local/lib/python3.10/dist-packages (from spacy<3.7.0,>=3.6.0->en-core-web-md==3.6.0) (1.0.9)\n",
            "Requirement already satisfied: cymem<2.1.0,>=2.0.2 in /usr/local/lib/python3.10/dist-packages (from spacy<3.7.0,>=3.6.0->en-core-web-md==3.6.0) (2.0.7)\n",
            "Requirement already satisfied: preshed<3.1.0,>=3.0.2 in /usr/local/lib/python3.10/dist-packages (from spacy<3.7.0,>=3.6.0->en-core-web-md==3.6.0) (3.0.8)\n",
            "Requirement already satisfied: thinc<8.2.0,>=8.1.8 in /usr/local/lib/python3.10/dist-packages (from spacy<3.7.0,>=3.6.0->en-core-web-md==3.6.0) (8.1.12)\n",
            "Requirement already satisfied: wasabi<1.2.0,>=0.9.1 in /usr/local/lib/python3.10/dist-packages (from spacy<3.7.0,>=3.6.0->en-core-web-md==3.6.0) (1.1.2)\n",
            "Requirement already satisfied: srsly<3.0.0,>=2.4.3 in /usr/local/lib/python3.10/dist-packages (from spacy<3.7.0,>=3.6.0->en-core-web-md==3.6.0) (2.4.7)\n",
            "Requirement already satisfied: catalogue<2.1.0,>=2.0.6 in /usr/local/lib/python3.10/dist-packages (from spacy<3.7.0,>=3.6.0->en-core-web-md==3.6.0) (2.0.9)\n",
            "Requirement already satisfied: typer<0.10.0,>=0.3.0 in /usr/local/lib/python3.10/dist-packages (from spacy<3.7.0,>=3.6.0->en-core-web-md==3.6.0) (0.9.0)\n",
            "Requirement already satisfied: pathy>=0.10.0 in /usr/local/lib/python3.10/dist-packages (from spacy<3.7.0,>=3.6.0->en-core-web-md==3.6.0) (0.10.2)\n",
            "Requirement already satisfied: smart-open<7.0.0,>=5.2.1 in /usr/local/lib/python3.10/dist-packages (from spacy<3.7.0,>=3.6.0->en-core-web-md==3.6.0) (6.3.0)\n",
            "Requirement already satisfied: tqdm<5.0.0,>=4.38.0 in /usr/local/lib/python3.10/dist-packages (from spacy<3.7.0,>=3.6.0->en-core-web-md==3.6.0) (4.66.1)\n",
            "Requirement already satisfied: numpy>=1.15.0 in /usr/local/lib/python3.10/dist-packages (from spacy<3.7.0,>=3.6.0->en-core-web-md==3.6.0) (1.23.5)\n",
            "Requirement already satisfied: requests<3.0.0,>=2.13.0 in /usr/local/lib/python3.10/dist-packages (from spacy<3.7.0,>=3.6.0->en-core-web-md==3.6.0) (2.31.0)\n",
            "Requirement already satisfied: pydantic!=1.8,!=1.8.1,<3.0.0,>=1.7.4 in /usr/local/lib/python3.10/dist-packages (from spacy<3.7.0,>=3.6.0->en-core-web-md==3.6.0) (2.1.1)\n",
            "Requirement already satisfied: jinja2 in /usr/local/lib/python3.10/dist-packages (from spacy<3.7.0,>=3.6.0->en-core-web-md==3.6.0) (3.1.2)\n",
            "Requirement already satisfied: setuptools in /usr/local/lib/python3.10/dist-packages (from spacy<3.7.0,>=3.6.0->en-core-web-md==3.6.0) (67.7.2)\n",
            "Requirement already satisfied: packaging>=20.0 in /usr/local/lib/python3.10/dist-packages (from spacy<3.7.0,>=3.6.0->en-core-web-md==3.6.0) (23.1)\n",
            "Requirement already satisfied: langcodes<4.0.0,>=3.2.0 in /usr/local/lib/python3.10/dist-packages (from spacy<3.7.0,>=3.6.0->en-core-web-md==3.6.0) (3.3.0)\n",
            "Requirement already satisfied: annotated-types>=0.4.0 in /usr/local/lib/python3.10/dist-packages (from pydantic!=1.8,!=1.8.1,<3.0.0,>=1.7.4->spacy<3.7.0,>=3.6.0->en-core-web-md==3.6.0) (0.5.0)\n",
            "Requirement already satisfied: pydantic-core==2.4.0 in /usr/local/lib/python3.10/dist-packages (from pydantic!=1.8,!=1.8.1,<3.0.0,>=1.7.4->spacy<3.7.0,>=3.6.0->en-core-web-md==3.6.0) (2.4.0)\n",
            "Requirement already satisfied: typing-extensions>=4.6.1 in /usr/local/lib/python3.10/dist-packages (from pydantic!=1.8,!=1.8.1,<3.0.0,>=1.7.4->spacy<3.7.0,>=3.6.0->en-core-web-md==3.6.0) (4.7.1)\n",
            "Requirement already satisfied: charset-normalizer<4,>=2 in /usr/local/lib/python3.10/dist-packages (from requests<3.0.0,>=2.13.0->spacy<3.7.0,>=3.6.0->en-core-web-md==3.6.0) (3.2.0)\n",
            "Requirement already satisfied: idna<4,>=2.5 in /usr/local/lib/python3.10/dist-packages (from requests<3.0.0,>=2.13.0->spacy<3.7.0,>=3.6.0->en-core-web-md==3.6.0) (3.4)\n",
            "Requirement already satisfied: urllib3<3,>=1.21.1 in /usr/local/lib/python3.10/dist-packages (from requests<3.0.0,>=2.13.0->spacy<3.7.0,>=3.6.0->en-core-web-md==3.6.0) (2.0.4)\n",
            "Requirement already satisfied: certifi>=2017.4.17 in /usr/local/lib/python3.10/dist-packages (from requests<3.0.0,>=2.13.0->spacy<3.7.0,>=3.6.0->en-core-web-md==3.6.0) (2023.7.22)\n",
            "Requirement already satisfied: blis<0.8.0,>=0.7.8 in /usr/local/lib/python3.10/dist-packages (from thinc<8.2.0,>=8.1.8->spacy<3.7.0,>=3.6.0->en-core-web-md==3.6.0) (0.7.10)\n",
            "Requirement already satisfied: confection<1.0.0,>=0.0.1 in /usr/local/lib/python3.10/dist-packages (from thinc<8.2.0,>=8.1.8->spacy<3.7.0,>=3.6.0->en-core-web-md==3.6.0) (0.1.1)\n",
            "Requirement already satisfied: click<9.0.0,>=7.1.1 in /usr/local/lib/python3.10/dist-packages (from typer<0.10.0,>=0.3.0->spacy<3.7.0,>=3.6.0->en-core-web-md==3.6.0) (8.1.6)\n",
            "Requirement already satisfied: MarkupSafe>=2.0 in /usr/local/lib/python3.10/dist-packages (from jinja2->spacy<3.7.0,>=3.6.0->en-core-web-md==3.6.0) (2.1.3)\n",
            "\u001b[38;5;2m✔ Download and installation successful\u001b[0m\n",
            "You can now load the package via spacy.load('en_core_web_md')\n"
          ]
        }
      ]
    },
    {
      "cell_type": "markdown",
      "source": [
        "## 2-Extract document vectors.\n",
        "We loop through the abstracts file provided to us, concatenating the title and text for each abstract. Concatenation involves terminating the title with a period and appending the abstract text to the end, essentially treating the title as the first sentence of the resulting text block representing the abstract, and the abstract as the rest. The concatenated text is passed to the spaCy language model. SpaCy will automatically return the average embedding vector described above for each text block.\n"
      ],
      "metadata": {
        "id": "yYn05_Ekw5QI"
      }
    },
    {
      "cell_type": "code",
      "source": [
        "def join_title_text(title, text):\n",
        "  joined_text = None\n",
        "  joined_text = title + \". \" + text\n",
        "  return joined_text\n",
        "\n",
        "example_joined_text = join_title_text(\"this is a title\", \"this is an abstract.\")\n",
        "example_joined_text"
      ],
      "metadata": {
        "colab": {
          "base_uri": "https://localhost:8080/",
          "height": 35
        },
        "id": "Qbl7QqoR0aHY",
        "outputId": "a938cce5-16eb-45f1-a455-97e99c2b6dff"
      },
      "execution_count": 7,
      "outputs": [
        {
          "output_type": "execute_result",
          "data": {
            "text/plain": [
              "'this is a title. this is an abstract.'"
            ],
            "application/vnd.google.colaboratory.intrinsic+json": {
              "type": "string"
            }
          },
          "metadata": {},
          "execution_count": 7
        }
      ]
    },
    {
      "cell_type": "code",
      "source": [
        "def vectorize_text(text, nlp):\n",
        "  vec = None\n",
        "  doc = nlp(text)\n",
        "  vec = doc.vector\n",
        "  return vec\n",
        "example_vector = vectorize_text(example_joined_text, nlp)\n",
        "example_vector.shape"
      ],
      "metadata": {
        "colab": {
          "base_uri": "https://localhost:8080/"
        },
        "id": "ynjBRq4z0oDm",
        "outputId": "baf9843f-ad14-40fa-ce97-7b6710a7525a"
      },
      "execution_count": 8,
      "outputs": [
        {
          "output_type": "execute_result",
          "data": {
            "text/plain": [
              "(300,)"
            ]
          },
          "metadata": {},
          "execution_count": 8
        }
      ]
    },
    {
      "cell_type": "code",
      "source": [
        "num_lines = 0\n",
        "fabs = open(ABSTRACT_FILE, \"r\")\n",
        "fchk = open(ABS_VEC_FILE, \"w\")\n",
        "for line in fabs:\n",
        "  if num_lines % 10000 == 0:\n",
        "    print(\"{:d} docs vectorized\".format(num_lines))\n",
        "  doc_id, title, categories, abs_text = line.strip().split('\\t')\n",
        "  vec_str = None\n",
        "  ## Generate the vector from the title and abstract, and stringify the vector elements\n",
        "  ## into vec_str. Each element should be represented in floating point or exponential\n",
        "  ## notation to 3 decimal places, and elements should be joined using commas (,).\n",
        "  vec = vectorize_text(join_title_text(title, abs_text), nlp)\n",
        "  vec_str = \",\".join([\"{:.3e}\".format(v) for v in vec.tolist()])\n",
        "  fchk.write(\"{:s}\\t{:s}\\n\".format(doc_id, vec_str))\n",
        "  num_lines += 1\n",
        "print(\"{:d} docs vectorized, COMPLETE\".format(num_lines))\n",
        "fchk.close()\n",
        "fabs.close()"
      ],
      "metadata": {
        "colab": {
          "base_uri": "https://localhost:8080/"
        },
        "id": "tn7-dIxj0z82",
        "outputId": "40511605-44c7-4ffe-bd7c-27eebd1f924a"
      },
      "execution_count": 9,
      "outputs": [
        {
          "output_type": "stream",
          "name": "stdout",
          "text": [
            "0 docs vectorized\n",
            "10000 docs vectorized\n",
            "20000 docs vectorized\n",
            "30000 docs vectorized\n",
            "40000 docs vectorized\n",
            "50000 docs vectorized\n",
            "50426 docs vectorized, COMPLETE\n"
          ]
        }
      ]
    },
    {
      "cell_type": "markdown",
      "source": [
        "### 3. Construct a dense document matrix\n",
        "\n",
        "Use the file of vectors generated (indicated by `ABS_VEC_FILE`) and create a list of document IDs (`docids`) and a list of vectors (`vecs`). Each element of the list `vecs` must be a numpy array of size (300,).\n",
        "\n",
        "The next cell displays the size of the `docids` and `vecs` list. Verify that they are identical. Also verify that the elements of the list `vecs` are numpy vectors of size (300,).\n",
        "\n"
      ],
      "metadata": {
        "id": "Bg2wgvq0w7yS"
      }
    },
    {
      "cell_type": "code",
      "source": [
        "docids, vecs = [], []\n",
        "with open(ABS_VEC_FILE, \"r\") as fav:\n",
        "    num_recs = 0\n",
        "    for line in fav:\n",
        "        if num_recs % 10000 == 0:\n",
        "            print(\"{:d} vectors read\".format(num_recs))\n",
        "        doc_id, vec_str = line.strip().split('\\t')\n",
        "        vec = np.array([float(x) for x in vec_str.split(\",\")])\n",
        "        vecs.append(vec)\n",
        "        docids.append(doc_id)\n",
        "        num_recs += 1\n",
        "\n",
        "print(\"{:d} vectors read, COMPLETE\".format(num_recs))"
      ],
      "metadata": {
        "colab": {
          "base_uri": "https://localhost:8080/"
        },
        "id": "qTHACq9Zw7Uy",
        "outputId": "c6862900-691d-4616-dad1-ddb363264da5"
      },
      "execution_count": 10,
      "outputs": [
        {
          "output_type": "stream",
          "name": "stdout",
          "text": [
            "0 vectors read\n",
            "10000 vectors read\n",
            "20000 vectors read\n",
            "30000 vectors read\n",
            "40000 vectors read\n",
            "50000 vectors read\n",
            "50426 vectors read, COMPLETE\n"
          ]
        }
      ]
    },
    {
      "cell_type": "code",
      "source": [
        "print(\"number of docIDs:\", len(docids))\n",
        "print(\"number of vectors:\", len(vecs))\n",
        "print(\"shape of vector in vecs:\", vecs[0].shape)"
      ],
      "metadata": {
        "colab": {
          "base_uri": "https://localhost:8080/"
        },
        "id": "XF5RdHg-4bDz",
        "outputId": "c7c1cc81-ed8d-4d8f-a249-d4f2c4e4c770"
      },
      "execution_count": 11,
      "outputs": [
        {
          "output_type": "stream",
          "name": "stdout",
          "text": [
            "number of docIDs: 50426\n",
            "number of vectors: 50426\n",
            "shape of vector in vecs: (300,)\n"
          ]
        }
      ]
    },
    {
      "cell_type": "markdown",
      "source": [
        "We now convert the list of (300,) vectors into a matrix of documents. There are 50426 documents in the corpus, so verify that the shape of the matrix is (50426, 300)."
      ],
      "metadata": {
        "id": "vcfso3iO7BnY"
      }
    },
    {
      "cell_type": "code",
      "source": [
        "X = np.array(vecs)\n",
        "X.shape"
      ],
      "metadata": {
        "colab": {
          "base_uri": "https://localhost:8080/"
        },
        "id": "S0EA9Iy84eco",
        "outputId": "36f62779-3844-43de-e45e-9244c843e7bb"
      },
      "execution_count": 12,
      "outputs": [
        {
          "output_type": "execute_result",
          "data": {
            "text/plain": [
              "(50426, 300)"
            ]
          },
          "metadata": {},
          "execution_count": 12
        }
      ]
    },
    {
      "cell_type": "markdown",
      "source": [
        "### 4. Construct a document similarity matrix\n",
        "\n",
        "We use cosine similarity as our similarity measure. The formula for cosine similarity between a pair of documents vectors $d_1$ and $d_2$ is given by:\n",
        "\n",
        "$$cosim(d_1, d_2) = \\frac{d_1 \\cdot d_2}{{\\lvert d_1 \\rvert}_2 {\\lvert d_2 \\rvert}_2}$$\n",
        "\n",
        "We can also compute the cosine similarity between all pairs of documents in the document matrix X using the following formula.\n",
        "\n",
        "$$S = \\frac{X \\cdot X^T}{{\\lvert X \\rvert}_2^2}$$\n",
        "\n",
        "Since the denominator on the RHS is a constant, we can re-state the equation above as:\n",
        "\n",
        "$$S \\propto X \\cdot X^T$$\n",
        "\n",
        "\n",
        "\n",
        "**NOTE: this is a time consuming operation. If you would rather skip this, please download the serialized version of the similarity matrix from the code repository for this liveProject and load it into the variable `S` by uncommenting the commented code in the next cell instead (the one containing S = np.load(SIM_MATRIX_FILE).**\n",
        "\n",
        "```\n",
        "wget http://download.location/.../av-simmatrix.npy .\n",
        "```\n"
      ],
      "metadata": {
        "id": "smiPfN-yw-UY"
      }
    },
    {
      "cell_type": "code",
      "source": [
        "S = np.dot(X, X.T)\n",
        "S.shape"
      ],
      "metadata": {
        "colab": {
          "base_uri": "https://localhost:8080/"
        },
        "id": "mbGQUm2u9RpR",
        "outputId": "d8f813bc-838a-4944-dbdd-8043778d42db"
      },
      "execution_count": 13,
      "outputs": [
        {
          "output_type": "execute_result",
          "data": {
            "text/plain": [
              "(50426, 50426)"
            ]
          },
          "metadata": {},
          "execution_count": 13
        }
      ]
    },
    {
      "cell_type": "markdown",
      "source": [
        "## 5-Determine similarity threshold.\n",
        "- The resulting similarity matrix is dense since the document vectors are dense as well. If we built a graph out of this, it would be extremely dense and not provide us with meaningful insights. So we need to establish a similarity threshold above which we will consider a document pair to be related, and below which they would be considered unrelated.\n",
        "- We do this by sampling from the similarity matrix and building a histogram of scores. We determine the threshold by inspecting the histogram. The objective is to build an adjacency matrix that represents a graph that is sparse enough to provide a meaningful structure. That is, we connect two documents only if there is a very high similarity.\n",
        "- Unfortunately, this is somewhat subjective and you might need a few attempts with different thresholds in order to get a meaningful threshold.\n",
        "- Building the histogram against the full document set is quite compute-intensive, so to enable quick development cycles, we sample about 2% of the data (1000 documents) randomly and generate the histogram from it.\n",
        "- A good rule of thumb might be to set the threshold to only include edges with weights that are in the top 1–5% of the population.\n",
        "\n",
        "\n",
        "\n",
        "We sample around 1000 elements from the similarity matrix and plot a histogram to get an idea of the distribution of cosine similarity scores.\n",
        "\n",
        "We want to draw edges only between documents with relatively high similarity. Based on the histogram, a good threshold seems to be 9.5."
      ],
      "metadata": {
        "id": "-FqcXUZpxBAC"
      }
    },
    {
      "cell_type": "code",
      "source": [
        "row_indices = np.random.randint(0, S.shape[0], 1000)\n",
        "col_indices = np.random.randint(0, S.shape[1], 1000)\n",
        "samples = []\n",
        "for row, col in zip(row_indices, col_indices):\n",
        "    samples.append(S[row, col])\n",
        "\n",
        "plt.hist(samples)"
      ],
      "metadata": {
        "colab": {
          "base_uri": "https://localhost:8080/",
          "height": 519
        },
        "id": "EgGL7TeTxAtm",
        "outputId": "a64233f0-a309-49a5-9d56-465f734427ad"
      },
      "execution_count": 14,
      "outputs": [
        {
          "output_type": "execute_result",
          "data": {
            "text/plain": [
              "(array([  6.,   3.,  10.,  28.,  75., 222., 317., 247.,  86.,   6.]),\n",
              " array([ 376.72483202,  469.06694399,  561.40905597,  653.75116795,\n",
              "         746.09327993,  838.43539191,  930.77750389, 1023.11961587,\n",
              "        1115.46172785, 1207.80383983, 1300.14595181]),\n",
              " <BarContainer object of 10 artists>)"
            ]
          },
          "metadata": {},
          "execution_count": 14
        },
        {
          "output_type": "display_data",
          "data": {
            "text/plain": [
              "<Figure size 640x480 with 1 Axes>"
            ],
            "image/png": "[encoded data removed]"
          },
          "metadata": {}
        }
      ]
    },
    {
      "cell_type": "markdown",
      "source": [
        "\n",
        "## 6-Create an adjacency matrix.\n",
        "Remember to set the diagonal to zero. A document is most similar to itself, therefore diagonal elements would be highest, but we are not interested in this relation for our graph.\n",
        "Update the similarity matrix such that any value above the threshold is 1 and any values below it are 0.\n",
        "\n",
        "\n",
        "\n",
        "We can now create an adjacency matrix `A` from the similarity matrix `S`. An adjacency matrix is a square matrix of the same size as the similarity matrix, i.e. an (N, N) matrix where N is the number of documents. An element `A[i, j]` is 1 if there is high similarity between $doc_i$ and $doc_j$, i.e. similarity above the threshold.\n",
        "\n",
        "Also remember to set the diagonal elements of the adjacency matrix to 0. For similarity matrices, the highest values are on the diagonal, since a document is most similar to itself. However, that would translate to self-loops in a graph, which we don't care about."
      ],
      "metadata": {
        "id": "t_lbsqzXxCm3"
      }
    },
    {
      "cell_type": "code",
      "source": [
        "threshold = 9.5\n",
        "\n",
        "A = np.zeros(S.shape)\n",
        "ones_indices = S >= threshold\n",
        "A[ones_indices] = 1\n",
        "\n",
        "np.fill_diagonal(A, 0)"
      ],
      "metadata": {
        "colab": {
          "base_uri": "https://localhost:8080/",
          "height": 252
        },
        "id": "9VoRRZk2xEFg",
        "outputId": "922014a4-84bd-4fe9-ae4c-e2ef88e265ca"
      },
      "execution_count": 2,
      "outputs": [
        {
          "output_type": "error",
          "ename": "NameError",
          "evalue": "ignored",
          "traceback": [
            "\u001b[0;31m---------------------------------------------------------------------------\u001b[0m",
            "\u001b[0;31mNameError\u001b[0m                                 Traceback (most recent call last)",
            "\u001b[0;32m<ipython-input-2-1d24e5d929fd>\u001b[0m in \u001b[0;36m<cell line: 3>\u001b[0;34m()\u001b[0m\n\u001b[1;32m      1\u001b[0m \u001b[0mthreshold\u001b[0m \u001b[0;34m=\u001b[0m \u001b[0;36m9.5\u001b[0m\u001b[0;34m\u001b[0m\u001b[0;34m\u001b[0m\u001b[0m\n\u001b[1;32m      2\u001b[0m \u001b[0;34m\u001b[0m\u001b[0m\n\u001b[0;32m----> 3\u001b[0;31m \u001b[0mA\u001b[0m \u001b[0;34m=\u001b[0m \u001b[0mnp\u001b[0m\u001b[0;34m.\u001b[0m\u001b[0mzeros\u001b[0m\u001b[0;34m(\u001b[0m\u001b[0mS\u001b[0m\u001b[0;34m.\u001b[0m\u001b[0mshape\u001b[0m\u001b[0;34m)\u001b[0m\u001b[0;34m\u001b[0m\u001b[0;34m\u001b[0m\u001b[0m\n\u001b[0m\u001b[1;32m      4\u001b[0m \u001b[0mones_indices\u001b[0m \u001b[0;34m=\u001b[0m \u001b[0mS\u001b[0m \u001b[0;34m>=\u001b[0m \u001b[0mthreshold\u001b[0m\u001b[0;34m\u001b[0m\u001b[0;34m\u001b[0m\u001b[0m\n\u001b[1;32m      5\u001b[0m \u001b[0mA\u001b[0m\u001b[0;34m[\u001b[0m\u001b[0mones_indices\u001b[0m\u001b[0;34m]\u001b[0m \u001b[0;34m=\u001b[0m \u001b[0;36m1\u001b[0m\u001b[0;34m\u001b[0m\u001b[0;34m\u001b[0m\u001b[0m\n",
            "\u001b[0;31mNameError\u001b[0m: name 'np' is not defined"
          ]
        }
      ]
    },
    {
      "cell_type": "markdown",
      "source": [
        "## 7-Save the adjacency matrix for the next milestone.\n",
        "Remember to save the adjacency matrix representing the document graph for the next milestone. We will need the adjacency matrix and a pointer from each row position back to the document ID."
      ],
      "metadata": {
        "id": "S2V6I5z7xEXi"
      }
    },
    {
      "cell_type": "code",
      "source": [
        "# np.save(ADJ_MATRIX_FILE, A)\n",
        "save_npz(ADJ_MATRIX_FILE, coo_matrix(A.astype(np.int8)))"
      ],
      "metadata": {
        "colab": {
          "base_uri": "https://localhost:8080/",
          "height": 199
        },
        "id": "WAShxYskrcqg",
        "outputId": "c71bb5d9-6e26-4c31-a130-17693f475a0c"
      },
      "execution_count": 1,
      "outputs": [
        {
          "output_type": "error",
          "ename": "NameError",
          "evalue": "ignored",
          "traceback": [
            "\u001b[0;31m---------------------------------------------------------------------------\u001b[0m",
            "\u001b[0;31mNameError\u001b[0m                                 Traceback (most recent call last)",
            "\u001b[0;32m<ipython-input-1-149218eb8d75>\u001b[0m in \u001b[0;36m<cell line: 2>\u001b[0;34m()\u001b[0m\n\u001b[1;32m      1\u001b[0m \u001b[0;31m# np.save(ADJ_MATRIX_FILE, A)\u001b[0m\u001b[0;34m\u001b[0m\u001b[0;34m\u001b[0m\u001b[0m\n\u001b[0;32m----> 2\u001b[0;31m \u001b[0msave_npz\u001b[0m\u001b[0;34m(\u001b[0m\u001b[0mADJ_MATRIX_FILE\u001b[0m\u001b[0;34m,\u001b[0m \u001b[0mcoo_matrix\u001b[0m\u001b[0;34m(\u001b[0m\u001b[0mA\u001b[0m\u001b[0;34m.\u001b[0m\u001b[0mastype\u001b[0m\u001b[0;34m(\u001b[0m\u001b[0mnp\u001b[0m\u001b[0;34m.\u001b[0m\u001b[0mint8\u001b[0m\u001b[0;34m)\u001b[0m\u001b[0;34m)\u001b[0m\u001b[0;34m)\u001b[0m\u001b[0;34m\u001b[0m\u001b[0;34m\u001b[0m\u001b[0m\n\u001b[0m",
            "\u001b[0;31mNameError\u001b[0m: name 'save_npz' is not defined"
          ]
        }
      ]
    },
    {
      "cell_type": "code",
      "source": [
        "fdocs = open(DOCIDS_LIST, \"w\")\n",
        "for i, doc_id in enumerate(docids):\n",
        "    fdocs.write(\"{:s}\\t{:d}\\n\".format(doc_id, i))\n",
        "fdocs.close()"
      ],
      "metadata": {
        "id": "6YJv2c_N9xu-"
      },
      "execution_count": null,
      "outputs": []
    }
  ]
}