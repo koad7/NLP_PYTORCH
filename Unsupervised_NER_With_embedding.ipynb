{
  "nbformat": 4,
  "nbformat_minor": 0,
  "metadata": {
    "colab": {
      "provenance": [],
      "machine_shape": "hm",
      "gpuType": "T4",
      "authorship_tag": "ABX9TyMz8eFj0WbpYOba8p9M1d69",
      "include_colab_link": true
    },
    "kernelspec": {
      "name": "python3",
      "display_name": "Python 3"
    },
    "language_info": {
      "name": "python"
    },
    "accelerator": "GPU"
  },
  "cells": [
    {
      "cell_type": "markdown",
      "metadata": {
        "id": "view-in-github",
        "colab_type": "text"
      },
      "source": [
        "<a href=\"https://colab.research.google.com/github/koad7/NLP_PYTORCH/blob/main/Unsupervised_NER_With_embedding.ipynb\" target=\"_parent\"><img src=\"https://colab.research.google.com/assets/colab-badge.svg\" alt=\"Open In Colab\"/></a>"
      ]
    },
    {
      "cell_type": "code",
      "execution_count": null,
      "metadata": {
        "id": "Y3hr5_tNFtm-"
      },
      "outputs": [],
      "source": [
        "from google.colab import drive\n",
        "drive.mount('/content/drive')"
      ]
    },
    {
      "cell_type": "code",
      "source": [
        "!pip install transformers"
      ],
      "metadata": {
        "id": "01q5FS9ssQXc"
      },
      "execution_count": null,
      "outputs": []
    },
    {
      "cell_type": "code",
      "source": [
        "from transformers import BertTokenizer, BertModel\n",
        "import torch\n",
        "\n",
        "# Load pre-trained model and tokenizer\n",
        "tokenizer = BertTokenizer.from_pretrained('bert-base-uncased')\n",
        "model = BertModel.from_pretrained('bert-base-uncased')\n",
        "\n",
        "# Function to convert sentences to embeddings\n",
        "def sentence_to_embedding(sentence):\n",
        "    # Tokenize the sentence\n",
        "    inputs = tokenizer(sentence, return_tensors='pt')\n",
        "\n",
        "    # Get the embeddings\n",
        "    with torch.no_grad():\n",
        "        outputs = model(**inputs)\n",
        "\n",
        "    # The embeddings of the [CLS] token can be used as the embedding of the sentence\n",
        "    sentence_embedding = outputs.last_hidden_state[0, 0, :].numpy()\n",
        "\n",
        "    return sentence_embedding"
      ],
      "metadata": {
        "colab": {
          "base_uri": "https://localhost:8080/"
        },
        "id": "8xF7KuChhDwC",
        "outputId": "94e7276f-ce61-45c0-84d6-57a73d351be3"
      },
      "execution_count": 6,
      "outputs": [
        {
          "output_type": "stream",
          "name": "stderr",
          "text": [
            "Some weights of the model checkpoint at bert-base-uncased were not used when initializing BertModel: ['cls.predictions.transform.LayerNorm.bias', 'cls.predictions.transform.dense.bias', 'cls.predictions.transform.dense.weight', 'cls.predictions.bias', 'cls.predictions.transform.LayerNorm.weight', 'cls.seq_relationship.weight', 'cls.seq_relationship.bias']\n",
            "- This IS expected if you are initializing BertModel from the checkpoint of a model trained on another task or with another architecture (e.g. initializing a BertForSequenceClassification model from a BertForPreTraining model).\n",
            "- This IS NOT expected if you are initializing BertModel from the checkpoint of a model that you expect to be exactly identical (initializing a BertForSequenceClassification model from a BertForSequenceClassification model).\n"
          ]
        }
      ]
    },
    {
      "cell_type": "code",
      "source": [
        "from sklearn.cluster import KMeans\n",
        "import numpy as np\n",
        "\n",
        "\n"
      ],
      "metadata": {
        "id": "Y9ECOufAldb1"
      },
      "execution_count": 7,
      "outputs": []
    },
    {
      "cell_type": "code",
      "source": [
        "sentence = '''When Jack Ma was allocating company shares, he gave Tong 0.2% shares right saying it will worth 100 million when Alibaba goes public into the market later. He asked her to stay in the company, not change to other companies, and she will get 100 million when Alibaba goes public.\n",
        "She waited years but Alibaba never went public. She asked Jack when will Alibaba go public in 2004 and Jack said soon. She asked again in 2006 and Jack Ma said soon, again.\n",
        "However, she never saw it happen and never got 100 million. When Alibaba finally went public on the New York Stock Exchange in September 2014, it was worth 245.7 billion. Tong, the former senior receptionist, and current Vice President of Alibaba, became a millionaire from a receptionist with 320 million worth.\n",
        "Entrepreneurship is a 16-character word where the 6th letter P stands for Patience. Most startups end in this 6th stage because of a lack of patience.\n",
        "Whenever I am going to give up my dreams I read this story when a receptionist has this much patience then how can I give up, I am born to be an Entrepreneur.'''\n",
        "\n",
        "def count_words(text):\n",
        "    words = text.split()\n",
        "    return len(words)\n",
        "print(f'We have {count_words(sentence)} total number of words.')\n",
        "# Tokenize the sentence and get the corresponding input IDs\n",
        "inputs = tokenizer(sentence, return_tensors=\"pt\")\n",
        "\n",
        "# Get the embeddings\n",
        "with torch.no_grad():\n",
        "    outputs = model(**inputs)\n",
        "\n",
        "# The embeddings are stored in the last hidden state\n",
        "embeddings = outputs.last_hidden_state"
      ],
      "metadata": {
        "id": "XA6AUOfTsgxT",
        "outputId": "239a1668-5a92-4361-baef-f9fd7a9175c5",
        "colab": {
          "base_uri": "https://localhost:8080/"
        }
      },
      "execution_count": 74,
      "outputs": [
        {
          "output_type": "stream",
          "name": "stdout",
          "text": [
            "We have 193 total number of words.\n"
          ]
        }
      ]
    },
    {
      "cell_type": "code",
      "source": [
        "embeddings.size()"
      ],
      "metadata": {
        "id": "_fayU27qs6hT",
        "outputId": "eae3d679-3908-49b9-d048-f40416922b8c",
        "colab": {
          "base_uri": "https://localhost:8080/"
        }
      },
      "execution_count": 75,
      "outputs": [
        {
          "output_type": "execute_result",
          "data": {
            "text/plain": [
              "torch.Size([1, 237, 768])"
            ]
          },
          "metadata": {},
          "execution_count": 75
        }
      ]
    },
    {
      "cell_type": "code",
      "source": [
        "import numpy as np\n",
        "\n",
        "# Transofmr tensor from 3D to 2D\n",
        "embeddings_2d = embeddings.view(embeddings.size(1), -1)\n",
        "# Initialize a KMeans object with 2 clusters (for 2 classes: NE and non-NE)\n",
        "kmeans = KMeans(n_clusters=2, random_state=0)\n"
      ],
      "metadata": {
        "id": "XieSBxtPtZXQ"
      },
      "execution_count": 76,
      "outputs": []
    },
    {
      "cell_type": "code",
      "source": [
        "# Now fit the KMeans model\n",
        "labels = kmeans.fit_predict(embeddings_2d)"
      ],
      "metadata": {
        "id": "ynXewfeWsas1",
        "outputId": "58398cf8-b4d8-48bd-bfe5-e419106117c9",
        "colab": {
          "base_uri": "https://localhost:8080/"
        }
      },
      "execution_count": 77,
      "outputs": [
        {
          "output_type": "stream",
          "name": "stderr",
          "text": [
            "/usr/local/lib/python3.10/dist-packages/sklearn/cluster/_kmeans.py:870: FutureWarning: The default value of `n_init` will change from 10 to 'auto' in 1.4. Set the value of `n_init` explicitly to suppress the warning\n",
            "  warnings.warn(\n"
          ]
        }
      ]
    },
    {
      "cell_type": "code",
      "source": [
        "print(f'Total siez: {labels.size} \\n0: {np.count_nonzero(labels)}\\n1: {labels.size-np.count_nonzero(labels)}')\n"
      ],
      "metadata": {
        "id": "O8c89Aq2vQ65",
        "outputId": "94661ee9-fa8c-4b23-870e-f2d399de5de8",
        "colab": {
          "base_uri": "https://localhost:8080/"
        }
      },
      "execution_count": 78,
      "outputs": [
        {
          "output_type": "stream",
          "name": "stdout",
          "text": [
            "Total siez: 237 \n",
            "0: 176\n",
            "1: 61\n"
          ]
        }
      ]
    },
    {
      "cell_type": "code",
      "source": [
        "count_0 = labels.size-np.count_nonzero(labels)\n",
        "count_1 = np.count_nonzero(labels)\n",
        "if  count_1 > count_0:\n",
        "  labels = np.logical_not(labels).astype(int)"
      ],
      "metadata": {
        "id": "kDgIBBP4vsRV"
      },
      "execution_count": 79,
      "outputs": []
    },
    {
      "cell_type": "code",
      "source": [
        "tokens = tokenizer.tokenize(sentence)"
      ],
      "metadata": {
        "id": "ZbgXindu0tGI"
      },
      "execution_count": 92,
      "outputs": []
    },
    {
      "cell_type": "code",
      "source": [
        "tokens.append(\"\")"
      ],
      "metadata": {
        "id": "GYB1_CMm3BFi"
      },
      "execution_count": 93,
      "outputs": []
    },
    {
      "cell_type": "code",
      "source": [
        "tokens.append(\"\")"
      ],
      "metadata": {
        "id": "HdUxDGVM6ECd"
      },
      "execution_count": 94,
      "outputs": []
    },
    {
      "cell_type": "code",
      "source": [
        "import pandas as pd"
      ],
      "metadata": {
        "id": "A7LGqhzs31QL"
      },
      "execution_count": 83,
      "outputs": []
    },
    {
      "cell_type": "code",
      "source": [
        "pd.DataFrame({'tokens':tokens, 'labels':labels})"
      ],
      "metadata": {
        "id": "z0eQNa2l5Ok8",
        "outputId": "f9f39e33-8739-469f-f866-28947e995792",
        "colab": {
          "base_uri": "https://localhost:8080/",
          "height": 655
        }
      },
      "execution_count": 95,
      "outputs": [
        {
          "output_type": "execute_result",
          "data": {
            "text/plain": [
              "           tokens  labels\n",
              "0            when       0\n",
              "1            jack       0\n",
              "2              ma       0\n",
              "3             was       0\n",
              "4             all       0\n",
              "..            ...     ...\n",
              "232            an       0\n",
              "233  entrepreneur       0\n",
              "234             .       1\n",
              "235                     0\n",
              "236                     1\n",
              "\n",
              "[237 rows x 2 columns]"
            ],
            "text/html": [
              "\n",
              "  <div id=\"df-e96ea3a1-6db5-411f-b693-91fdcbb1e14f\">\n",
              "    <div class=\"colab-df-container\">\n",
              "      <div>\n",
              "<style scoped>\n",
              "    .dataframe tbody tr th:only-of-type {\n",
              "        vertical-align: middle;\n",
              "    }\n",
              "\n",
              "    .dataframe tbody tr th {\n",
              "        vertical-align: top;\n",
              "    }\n",
              "\n",
              "    .dataframe thead th {\n",
              "        text-align: right;\n",
              "    }\n",
              "</style>\n",
              "<table border=\"1\" class=\"dataframe\">\n",
              "  <thead>\n",
              "    <tr style=\"text-align: right;\">\n",
              "      <th></th>\n",
              "      <th>tokens</th>\n",
              "      <th>labels</th>\n",
              "    </tr>\n",
              "  </thead>\n",
              "  <tbody>\n",
              "    <tr>\n",
              "      <th>0</th>\n",
              "      <td>when</td>\n",
              "      <td>0</td>\n",
              "    </tr>\n",
              "    <tr>\n",
              "      <th>1</th>\n",
              "      <td>jack</td>\n",
              "      <td>0</td>\n",
              "    </tr>\n",
              "    <tr>\n",
              "      <th>2</th>\n",
              "      <td>ma</td>\n",
              "      <td>0</td>\n",
              "    </tr>\n",
              "    <tr>\n",
              "      <th>3</th>\n",
              "      <td>was</td>\n",
              "      <td>0</td>\n",
              "    </tr>\n",
              "    <tr>\n",
              "      <th>4</th>\n",
              "      <td>all</td>\n",
              "      <td>0</td>\n",
              "    </tr>\n",
              "    <tr>\n",
              "      <th>...</th>\n",
              "      <td>...</td>\n",
              "      <td>...</td>\n",
              "    </tr>\n",
              "    <tr>\n",
              "      <th>232</th>\n",
              "      <td>an</td>\n",
              "      <td>0</td>\n",
              "    </tr>\n",
              "    <tr>\n",
              "      <th>233</th>\n",
              "      <td>entrepreneur</td>\n",
              "      <td>0</td>\n",
              "    </tr>\n",
              "    <tr>\n",
              "      <th>234</th>\n",
              "      <td>.</td>\n",
              "      <td>1</td>\n",
              "    </tr>\n",
              "    <tr>\n",
              "      <th>235</th>\n",
              "      <td></td>\n",
              "      <td>0</td>\n",
              "    </tr>\n",
              "    <tr>\n",
              "      <th>236</th>\n",
              "      <td></td>\n",
              "      <td>1</td>\n",
              "    </tr>\n",
              "  </tbody>\n",
              "</table>\n",
              "<p>237 rows × 2 columns</p>\n",
              "</div>\n",
              "      <button class=\"colab-df-convert\" onclick=\"convertToInteractive('df-e96ea3a1-6db5-411f-b693-91fdcbb1e14f')\"\n",
              "              title=\"Convert this dataframe to an interactive table.\"\n",
              "              style=\"display:none;\">\n",
              "        \n",
              "  <svg xmlns=\"http://www.w3.org/2000/svg\" height=\"24px\"viewBox=\"0 0 24 24\"\n",
              "       width=\"24px\">\n",
              "    <path d=\"M0 0h24v24H0V0z\" fill=\"none\"/>\n",
              "    <path d=\"M18.56 5.44l.94 2.06.94-2.06 2.06-.94-2.06-.94-.94-2.06-.94 2.06-2.06.94zm-11 1L8.5 8.5l.94-2.06 2.06-.94-2.06-.94L8.5 2.5l-.94 2.06-2.06.94zm10 10l.94 2.06.94-2.06 2.06-.94-2.06-.94-.94-2.06-.94 2.06-2.06.94z\"/><path d=\"M17.41 7.96l-1.37-1.37c-.4-.4-.92-.59-1.43-.59-.52 0-1.04.2-1.43.59L10.3 9.45l-7.72 7.72c-.78.78-.78 2.05 0 2.83L4 21.41c.39.39.9.59 1.41.59.51 0 1.02-.2 1.41-.59l7.78-7.78 2.81-2.81c.8-.78.8-2.07 0-2.86zM5.41 20L4 18.59l7.72-7.72 1.47 1.35L5.41 20z\"/>\n",
              "  </svg>\n",
              "      </button>\n",
              "      \n",
              "  <style>\n",
              "    .colab-df-container {\n",
              "      display:flex;\n",
              "      flex-wrap:wrap;\n",
              "      gap: 12px;\n",
              "    }\n",
              "\n",
              "    .colab-df-convert {\n",
              "      background-color: #E8F0FE;\n",
              "      border: none;\n",
              "      border-radius: 50%;\n",
              "      cursor: pointer;\n",
              "      display: none;\n",
              "      fill: #1967D2;\n",
              "      height: 32px;\n",
              "      padding: 0 0 0 0;\n",
              "      width: 32px;\n",
              "    }\n",
              "\n",
              "    .colab-df-convert:hover {\n",
              "      background-color: #E2EBFA;\n",
              "      box-shadow: 0px 1px 2px rgba(60, 64, 67, 0.3), 0px 1px 3px 1px rgba(60, 64, 67, 0.15);\n",
              "      fill: #174EA6;\n",
              "    }\n",
              "\n",
              "    [theme=dark] .colab-df-convert {\n",
              "      background-color: #3B4455;\n",
              "      fill: #D2E3FC;\n",
              "    }\n",
              "\n",
              "    [theme=dark] .colab-df-convert:hover {\n",
              "      background-color: #434B5C;\n",
              "      box-shadow: 0px 1px 3px 1px rgba(0, 0, 0, 0.15);\n",
              "      filter: drop-shadow(0px 1px 2px rgba(0, 0, 0, 0.3));\n",
              "      fill: #FFFFFF;\n",
              "    }\n",
              "  </style>\n",
              "\n",
              "      <script>\n",
              "        const buttonEl =\n",
              "          document.querySelector('#df-e96ea3a1-6db5-411f-b693-91fdcbb1e14f button.colab-df-convert');\n",
              "        buttonEl.style.display =\n",
              "          google.colab.kernel.accessAllowed ? 'block' : 'none';\n",
              "\n",
              "        async function convertToInteractive(key) {\n",
              "          const element = document.querySelector('#df-e96ea3a1-6db5-411f-b693-91fdcbb1e14f');\n",
              "          const dataTable =\n",
              "            await google.colab.kernel.invokeFunction('convertToInteractive',\n",
              "                                                     [key], {});\n",
              "          if (!dataTable) return;\n",
              "\n",
              "          const docLinkHtml = 'Like what you see? Visit the ' +\n",
              "            '<a target=\"_blank\" href=https://colab.research.google.com/notebooks/data_table.ipynb>data table notebook</a>'\n",
              "            + ' to learn more about interactive tables.';\n",
              "          element.innerHTML = '';\n",
              "          dataTable['output_type'] = 'display_data';\n",
              "          await google.colab.output.renderOutput(dataTable, element);\n",
              "          const docLink = document.createElement('div');\n",
              "          docLink.innerHTML = docLinkHtml;\n",
              "          element.appendChild(docLink);\n",
              "        }\n",
              "      </script>\n",
              "    </div>\n",
              "  </div>\n",
              "  "
            ]
          },
          "metadata": {},
          "execution_count": 95
        }
      ]
    },
    {
      "cell_type": "code",
      "source": [
        "import spacy\n",
        "spacy.cli.download(\"en_core_web_sm\")\n",
        "nlp = spacy.load(\"en_core_web_sm\")\n",
        "sentence = ('It has also arisen in criminal justice, healthcare, and hiring, compounding existing racial, economic, and gender biases.')\n",
        "doc = nlp(sentence)\n",
        "tokens = [token.text for token in doc]\n",
        "tokens\n"
      ],
      "metadata": {
        "id": "AaI5ClAo5qfi",
        "outputId": "6c10da30-e8a5-4970-b264-c41c16cd2c96",
        "colab": {
          "base_uri": "https://localhost:8080/"
        }
      },
      "execution_count": 1,
      "outputs": [
        {
          "output_type": "stream",
          "name": "stdout",
          "text": [
            "\u001b[38;5;2m✔ Download and installation successful\u001b[0m\n",
            "You can now load the package via spacy.load('en_core_web_sm')\n"
          ]
        },
        {
          "output_type": "execute_result",
          "data": {
            "text/plain": [
              "['It',\n",
              " 'has',\n",
              " 'also',\n",
              " 'arisen',\n",
              " 'in',\n",
              " 'criminal',\n",
              " 'justice',\n",
              " ',',\n",
              " 'healthcare',\n",
              " ',',\n",
              " 'and',\n",
              " 'hiring',\n",
              " ',',\n",
              " 'compounding',\n",
              " 'existing',\n",
              " 'racial',\n",
              " ',',\n",
              " 'economic',\n",
              " ',',\n",
              " 'and',\n",
              " 'gender',\n",
              " 'biases',\n",
              " '.']"
            ]
          },
          "metadata": {},
          "execution_count": 1
        }
      ]
    },
    {
      "cell_type": "code",
      "source": [
        "from collections import Counter\n",
        "import pandas as pd\n",
        "bag_of_words = Counter(tokens)\n",
        "bag_of_words"
      ],
      "metadata": {
        "id": "YmjA2rBcBe6_",
        "outputId": "bd6f1e69-68d6-4f91-ab1a-b8dfac2bb460",
        "colab": {
          "base_uri": "https://localhost:8080/"
        }
      },
      "execution_count": 5,
      "outputs": [
        {
          "output_type": "execute_result",
          "data": {
            "text/plain": [
              "Counter({'It': 1,\n",
              "         'has': 1,\n",
              "         'also': 1,\n",
              "         'arisen': 1,\n",
              "         'in': 1,\n",
              "         'criminal': 1,\n",
              "         'justice': 1,\n",
              "         ',': 5,\n",
              "         'healthcare': 1,\n",
              "         'and': 2,\n",
              "         'hiring': 1,\n",
              "         'compounding': 1,\n",
              "         'existing': 1,\n",
              "         'racial': 1,\n",
              "         'economic': 1,\n",
              "         'gender': 1,\n",
              "         'biases': 1,\n",
              "         '.': 1})"
            ]
          },
          "metadata": {},
          "execution_count": 5
        }
      ]
    },
    {
      "cell_type": "code",
      "source": [
        "bag_of_words.most_common(3)"
      ],
      "metadata": {
        "id": "AOsPe38aEzo1",
        "outputId": "af0fc9c9-f9d5-4910-8217-3b5c27f2640a",
        "colab": {
          "base_uri": "https://localhost:8080/"
        }
      },
      "execution_count": 6,
      "outputs": [
        {
          "output_type": "execute_result",
          "data": {
            "text/plain": [
              "[(',', 5), ('and', 2), ('It', 1)]"
            ]
          },
          "metadata": {},
          "execution_count": 6
        }
      ]
    },
    {
      "cell_type": "code",
      "source": [
        "counts = pd.Series(dict(bag_of_words.most_common()))\n",
        "counts"
      ],
      "metadata": {
        "id": "wLwDTaUpEzzw",
        "outputId": "609c2f24-968a-47b0-f09c-ed50920fa85b",
        "colab": {
          "base_uri": "https://localhost:8080/"
        }
      },
      "execution_count": 7,
      "outputs": [
        {
          "output_type": "execute_result",
          "data": {
            "text/plain": [
              ",              5\n",
              "and            2\n",
              "It             1\n",
              "has            1\n",
              "also           1\n",
              "arisen         1\n",
              "in             1\n",
              "criminal       1\n",
              "justice        1\n",
              "healthcare     1\n",
              "hiring         1\n",
              "compounding    1\n",
              "existing       1\n",
              "racial         1\n",
              "economic       1\n",
              "gender         1\n",
              "biases         1\n",
              ".              1\n",
              "dtype: int64"
            ]
          },
          "metadata": {},
          "execution_count": 7
        }
      ]
    },
    {
      "cell_type": "code",
      "source": [
        "counts / counts.sum()"
      ],
      "metadata": {
        "id": "7jXftQFCE_wJ",
        "outputId": "0e2882e6-83f5-4315-e3d2-7053a745b70b",
        "colab": {
          "base_uri": "https://localhost:8080/"
        }
      },
      "execution_count": 8,
      "outputs": [
        {
          "output_type": "execute_result",
          "data": {
            "text/plain": [
              ",              0.217391\n",
              "and            0.086957\n",
              "It             0.043478\n",
              "has            0.043478\n",
              "also           0.043478\n",
              "arisen         0.043478\n",
              "in             0.043478\n",
              "criminal       0.043478\n",
              "justice        0.043478\n",
              "healthcare     0.043478\n",
              "hiring         0.043478\n",
              "compounding    0.043478\n",
              "existing       0.043478\n",
              "racial         0.043478\n",
              "economic       0.043478\n",
              "gender         0.043478\n",
              "biases         0.043478\n",
              ".              0.043478\n",
              "dtype: float64"
            ]
          },
          "metadata": {},
          "execution_count": 8
        }
      ]
    },
    {
      "cell_type": "code",
      "source": [
        "sentences2 = '''\n",
        "Algorithmic bias describes systematic and repeatable errors in a computer system that create\n",
        "unfair outcomes, such as privileging one arbitrary group of users over others. Bias can emerge\n",
        "due to many factors, including but not limited to the design of the algorithm or the unintended or\n",
        "unanticipated use or decisions relating to the way data is coded, collected, selected or used to\n",
        "train the algorithm. Algorithmic bias is found across platforms, including but not limited to\n",
        "search engine results and social media platforms, and can have impacts ranging from\n",
        "inadvertent privacy violations to reinforcing social biases of race, gender, sexuality, and\n",
        "ethnicity. The study of algorithmic bias is most concerned with algorithms that reflect\n",
        "\"systematic and unfair\" discrimination. This bias has only recently been addressed in legal\n",
        "frameworks, such as the 2018 European Union’s General Data Protection Regulation. More\n",
        "comprehensive regulation is needed as emerging technologies become increasingly advanced\n",
        "and opaque.\n",
        "As algorithms expand their ability to organize society, politics, institutions, and behavior,\n",
        "sociologists have become concerned with the ways in which unanticipated output and\n",
        "manipulation of data can impact the physical world. Because algorithms are often considered to\n",
        "be neutral and unbiased, they can inaccurately project greater authority than human expertise,\n",
        "and in some cases, reliance on algorithms can displace human responsibility for their outcomes.\n",
        "Bias can enter into algorithmic systems as a result of pre-existing cultural, social, or\n",
        "institutional expectations; because of technical limitations of their design; or by being used in\n",
        "unanticipated contexts or by audiences who are not considered in the software’s initial design.\n",
        "Algorithmic bias has been cited in cases ranging from election outcomes to the spread of online\n",
        "hate speech. It has also arisen in criminal justice, healthcare, and hiring, compounding existing\n",
        "racial, economic, and gender biases. The relative inability of facial recognition technology to\n",
        "accurately identify darker-skinned faces has been linked to multiple wrongful arrests of men of\n",
        "color, an issue stemming from imbalanced datasets. Problems in understanding, researching,\n",
        "and discovering algorithmic bias persist due to the proprietary nature of algorithms, which are\n",
        "typically treated as trade secrets. Even when full transparency is provided, the complexity of\n",
        "certain algorithms poses a barrier to understanding their functioning. Furthermore, algorithms\n",
        "may change, or respond to input or output in ways that cannot be anticipated or easily\n",
        "reproduced for analysis. In many cases, even within a single website or application, there is no\n",
        "single \"algorithm\" to examine, but a network of many interrelated programs and data inputs,\n",
        "even between users of the same service.\n",
        "'''"
      ],
      "metadata": {
        "id": "8sU3KmK9FH5D"
      },
      "execution_count": 10,
      "outputs": []
    },
    {
      "cell_type": "code",
      "source": [
        "tokens = [tok.text for tok in nlp(sentences2)]"
      ],
      "metadata": {
        "id": "8Yrn2uSLFtIe"
      },
      "execution_count": 11,
      "outputs": []
    },
    {
      "cell_type": "code",
      "source": [
        "counts = Counter(tokens)"
      ],
      "metadata": {
        "id": "x5dpWXg7F2FW"
      },
      "execution_count": 13,
      "outputs": []
    },
    {
      "cell_type": "code",
      "source": [
        "import requests"
      ],
      "metadata": {
        "id": "ZhFFeqiwF20y"
      },
      "execution_count": 15,
      "outputs": []
    },
    {
      "cell_type": "code",
      "source": [
        "url = ('https://gitlab.com/tangibleai/nlpia2/-/raw/main/src/nlpia2/ch03/bias_intro.txt')\n",
        "response = requests.get(url)"
      ],
      "metadata": {
        "id": "lgZ0N_BzF8D7"
      },
      "execution_count": 16,
      "outputs": []
    },
    {
      "cell_type": "code",
      "source": [
        "bias_intro = response.content.decode()\n",
        "bias_intro[:60]"
      ],
      "metadata": {
        "id": "mbYe2fgwGX-l",
        "outputId": "d1c3a0dd-705c-494a-8e10-1866f0ba469a",
        "colab": {
          "base_uri": "https://localhost:8080/",
          "height": 35
        }
      },
      "execution_count": 17,
      "outputs": [
        {
          "output_type": "execute_result",
          "data": {
            "text/plain": [
              "'Algorithmic bias describes systematic and repeatable errors '"
            ],
            "application/vnd.google.colaboratory.intrinsic+json": {
              "type": "string"
            }
          },
          "metadata": {},
          "execution_count": 17
        }
      ]
    },
    {
      "cell_type": "code",
      "source": [
        "tokens = [tok.text for tok in nlp(bias_intro)]\n",
        "counts = Counter(tokens)\n",
        "counts.most_common(5)"
      ],
      "metadata": {
        "id": "Yq77-igEGbeG",
        "outputId": "316dedb7-383c-4594-d77e-3382f3583908",
        "colab": {
          "base_uri": "https://localhost:8080/"
        }
      },
      "execution_count": 18,
      "outputs": [
        {
          "output_type": "execute_result",
          "data": {
            "text/plain": [
              "[(',', 35), ('of', 16), ('.', 16), ('to', 15), ('and', 14)]"
            ]
          },
          "metadata": {},
          "execution_count": 18
        }
      ]
    },
    {
      "cell_type": "code",
      "source": [
        "docs = [nlp(s) for s in bias_intro.split('\\n') if s.strip()]"
      ],
      "metadata": {
        "id": "iFxr-Jk5Gglt"
      },
      "execution_count": 21,
      "outputs": []
    },
    {
      "cell_type": "code",
      "source": [
        "counts = []\n",
        "for doc in docs:\n",
        "  counts.append(Counter([t.text.lower() for t in doc]))"
      ],
      "metadata": {
        "id": "jZp7Whp3GpzL"
      },
      "execution_count": 24,
      "outputs": []
    },
    {
      "cell_type": "code",
      "source": [
        "df = pd.DataFrame(counts)"
      ],
      "metadata": {
        "id": "V0Na5hAPHt6p"
      },
      "execution_count": 26,
      "outputs": []
    },
    {
      "cell_type": "code",
      "source": [
        "df = df.fillna(0).astype(int)"
      ],
      "metadata": {
        "id": "iYT06OJjIZFz"
      },
      "execution_count": 28,
      "outputs": []
    },
    {
      "cell_type": "code",
      "source": [
        "df.head()"
      ],
      "metadata": {
        "id": "koxHLD37IiZJ",
        "outputId": "601aa620-80de-4359-e8c1-667a02c687c4",
        "colab": {
          "base_uri": "https://localhost:8080/",
          "height": 300
        }
      },
      "execution_count": 29,
      "outputs": [
        {
          "output_type": "execute_result",
          "data": {
            "text/plain": [
              "   algorithmic  bias  describes  systematic  and  repeatable  errors  in  a  \\\n",
              "0            1     1          1           1    1           1       1   1  1   \n",
              "1            0     1          0           0    0           0       0   0  0   \n",
              "2            1     1          0           0    3           0       0   0  0   \n",
              "3            1     1          0           1    1           0       0   0  0   \n",
              "4            0     1          0           0    0           0       0   1  0   \n",
              "\n",
              "   computer  ...  there  no  examine  network  interrelated  programs  inputs  \\\n",
              "0         1  ...      0   0        0        0             0         0       0   \n",
              "1         0  ...      0   0        0        0             0         0       0   \n",
              "2         0  ...      0   0        0        0             0         0       0   \n",
              "3         0  ...      0   0        0        0             0         0       0   \n",
              "4         0  ...      0   0        0        0             0         0       0   \n",
              "\n",
              "   between  same  service  \n",
              "0        0     0        0  \n",
              "1        0     0        0  \n",
              "2        0     0        0  \n",
              "3        0     0        0  \n",
              "4        0     0        0  \n",
              "\n",
              "[5 rows x 246 columns]"
            ],
            "text/html": [
              "\n",
              "  <div id=\"df-51038926-35e6-4d5e-adbf-6d378168b7c3\">\n",
              "    <div class=\"colab-df-container\">\n",
              "      <div>\n",
              "<style scoped>\n",
              "    .dataframe tbody tr th:only-of-type {\n",
              "        vertical-align: middle;\n",
              "    }\n",
              "\n",
              "    .dataframe tbody tr th {\n",
              "        vertical-align: top;\n",
              "    }\n",
              "\n",
              "    .dataframe thead th {\n",
              "        text-align: right;\n",
              "    }\n",
              "</style>\n",
              "<table border=\"1\" class=\"dataframe\">\n",
              "  <thead>\n",
              "    <tr style=\"text-align: right;\">\n",
              "      <th></th>\n",
              "      <th>algorithmic</th>\n",
              "      <th>bias</th>\n",
              "      <th>describes</th>\n",
              "      <th>systematic</th>\n",
              "      <th>and</th>\n",
              "      <th>repeatable</th>\n",
              "      <th>errors</th>\n",
              "      <th>in</th>\n",
              "      <th>a</th>\n",
              "      <th>computer</th>\n",
              "      <th>...</th>\n",
              "      <th>there</th>\n",
              "      <th>no</th>\n",
              "      <th>examine</th>\n",
              "      <th>network</th>\n",
              "      <th>interrelated</th>\n",
              "      <th>programs</th>\n",
              "      <th>inputs</th>\n",
              "      <th>between</th>\n",
              "      <th>same</th>\n",
              "      <th>service</th>\n",
              "    </tr>\n",
              "  </thead>\n",
              "  <tbody>\n",
              "    <tr>\n",
              "      <th>0</th>\n",
              "      <td>1</td>\n",
              "      <td>1</td>\n",
              "      <td>1</td>\n",
              "      <td>1</td>\n",
              "      <td>1</td>\n",
              "      <td>1</td>\n",
              "      <td>1</td>\n",
              "      <td>1</td>\n",
              "      <td>1</td>\n",
              "      <td>1</td>\n",
              "      <td>...</td>\n",
              "      <td>0</td>\n",
              "      <td>0</td>\n",
              "      <td>0</td>\n",
              "      <td>0</td>\n",
              "      <td>0</td>\n",
              "      <td>0</td>\n",
              "      <td>0</td>\n",
              "      <td>0</td>\n",
              "      <td>0</td>\n",
              "      <td>0</td>\n",
              "    </tr>\n",
              "    <tr>\n",
              "      <th>1</th>\n",
              "      <td>0</td>\n",
              "      <td>1</td>\n",
              "      <td>0</td>\n",
              "      <td>0</td>\n",
              "      <td>0</td>\n",
              "      <td>0</td>\n",
              "      <td>0</td>\n",
              "      <td>0</td>\n",
              "      <td>0</td>\n",
              "      <td>0</td>\n",
              "      <td>...</td>\n",
              "      <td>0</td>\n",
              "      <td>0</td>\n",
              "      <td>0</td>\n",
              "      <td>0</td>\n",
              "      <td>0</td>\n",
              "      <td>0</td>\n",
              "      <td>0</td>\n",
              "      <td>0</td>\n",
              "      <td>0</td>\n",
              "      <td>0</td>\n",
              "    </tr>\n",
              "    <tr>\n",
              "      <th>2</th>\n",
              "      <td>1</td>\n",
              "      <td>1</td>\n",
              "      <td>0</td>\n",
              "      <td>0</td>\n",
              "      <td>3</td>\n",
              "      <td>0</td>\n",
              "      <td>0</td>\n",
              "      <td>0</td>\n",
              "      <td>0</td>\n",
              "      <td>0</td>\n",
              "      <td>...</td>\n",
              "      <td>0</td>\n",
              "      <td>0</td>\n",
              "      <td>0</td>\n",
              "      <td>0</td>\n",
              "      <td>0</td>\n",
              "      <td>0</td>\n",
              "      <td>0</td>\n",
              "      <td>0</td>\n",
              "      <td>0</td>\n",
              "      <td>0</td>\n",
              "    </tr>\n",
              "    <tr>\n",
              "      <th>3</th>\n",
              "      <td>1</td>\n",
              "      <td>1</td>\n",
              "      <td>0</td>\n",
              "      <td>1</td>\n",
              "      <td>1</td>\n",
              "      <td>0</td>\n",
              "      <td>0</td>\n",
              "      <td>0</td>\n",
              "      <td>0</td>\n",
              "      <td>0</td>\n",
              "      <td>...</td>\n",
              "      <td>0</td>\n",
              "      <td>0</td>\n",
              "      <td>0</td>\n",
              "      <td>0</td>\n",
              "      <td>0</td>\n",
              "      <td>0</td>\n",
              "      <td>0</td>\n",
              "      <td>0</td>\n",
              "      <td>0</td>\n",
              "      <td>0</td>\n",
              "    </tr>\n",
              "    <tr>\n",
              "      <th>4</th>\n",
              "      <td>0</td>\n",
              "      <td>1</td>\n",
              "      <td>0</td>\n",
              "      <td>0</td>\n",
              "      <td>0</td>\n",
              "      <td>0</td>\n",
              "      <td>0</td>\n",
              "      <td>1</td>\n",
              "      <td>0</td>\n",
              "      <td>0</td>\n",
              "      <td>...</td>\n",
              "      <td>0</td>\n",
              "      <td>0</td>\n",
              "      <td>0</td>\n",
              "      <td>0</td>\n",
              "      <td>0</td>\n",
              "      <td>0</td>\n",
              "      <td>0</td>\n",
              "      <td>0</td>\n",
              "      <td>0</td>\n",
              "      <td>0</td>\n",
              "    </tr>\n",
              "  </tbody>\n",
              "</table>\n",
              "<p>5 rows × 246 columns</p>\n",
              "</div>\n",
              "      <button class=\"colab-df-convert\" onclick=\"convertToInteractive('df-51038926-35e6-4d5e-adbf-6d378168b7c3')\"\n",
              "              title=\"Convert this dataframe to an interactive table.\"\n",
              "              style=\"display:none;\">\n",
              "        \n",
              "  <svg xmlns=\"http://www.w3.org/2000/svg\" height=\"24px\"viewBox=\"0 0 24 24\"\n",
              "       width=\"24px\">\n",
              "    <path d=\"M0 0h24v24H0V0z\" fill=\"none\"/>\n",
              "    <path d=\"M18.56 5.44l.94 2.06.94-2.06 2.06-.94-2.06-.94-.94-2.06-.94 2.06-2.06.94zm-11 1L8.5 8.5l.94-2.06 2.06-.94-2.06-.94L8.5 2.5l-.94 2.06-2.06.94zm10 10l.94 2.06.94-2.06 2.06-.94-2.06-.94-.94-2.06-.94 2.06-2.06.94z\"/><path d=\"M17.41 7.96l-1.37-1.37c-.4-.4-.92-.59-1.43-.59-.52 0-1.04.2-1.43.59L10.3 9.45l-7.72 7.72c-.78.78-.78 2.05 0 2.83L4 21.41c.39.39.9.59 1.41.59.51 0 1.02-.2 1.41-.59l7.78-7.78 2.81-2.81c.8-.78.8-2.07 0-2.86zM5.41 20L4 18.59l7.72-7.72 1.47 1.35L5.41 20z\"/>\n",
              "  </svg>\n",
              "      </button>\n",
              "      \n",
              "  <style>\n",
              "    .colab-df-container {\n",
              "      display:flex;\n",
              "      flex-wrap:wrap;\n",
              "      gap: 12px;\n",
              "    }\n",
              "\n",
              "    .colab-df-convert {\n",
              "      background-color: #E8F0FE;\n",
              "      border: none;\n",
              "      border-radius: 50%;\n",
              "      cursor: pointer;\n",
              "      display: none;\n",
              "      fill: #1967D2;\n",
              "      height: 32px;\n",
              "      padding: 0 0 0 0;\n",
              "      width: 32px;\n",
              "    }\n",
              "\n",
              "    .colab-df-convert:hover {\n",
              "      background-color: #E2EBFA;\n",
              "      box-shadow: 0px 1px 2px rgba(60, 64, 67, 0.3), 0px 1px 3px 1px rgba(60, 64, 67, 0.15);\n",
              "      fill: #174EA6;\n",
              "    }\n",
              "\n",
              "    [theme=dark] .colab-df-convert {\n",
              "      background-color: #3B4455;\n",
              "      fill: #D2E3FC;\n",
              "    }\n",
              "\n",
              "    [theme=dark] .colab-df-convert:hover {\n",
              "      background-color: #434B5C;\n",
              "      box-shadow: 0px 1px 3px 1px rgba(0, 0, 0, 0.15);\n",
              "      filter: drop-shadow(0px 1px 2px rgba(0, 0, 0, 0.3));\n",
              "      fill: #FFFFFF;\n",
              "    }\n",
              "  </style>\n",
              "\n",
              "      <script>\n",
              "        const buttonEl =\n",
              "          document.querySelector('#df-51038926-35e6-4d5e-adbf-6d378168b7c3 button.colab-df-convert');\n",
              "        buttonEl.style.display =\n",
              "          google.colab.kernel.accessAllowed ? 'block' : 'none';\n",
              "\n",
              "        async function convertToInteractive(key) {\n",
              "          const element = document.querySelector('#df-51038926-35e6-4d5e-adbf-6d378168b7c3');\n",
              "          const dataTable =\n",
              "            await google.colab.kernel.invokeFunction('convertToInteractive',\n",
              "                                                     [key], {});\n",
              "          if (!dataTable) return;\n",
              "\n",
              "          const docLinkHtml = 'Like what you see? Visit the ' +\n",
              "            '<a target=\"_blank\" href=https://colab.research.google.com/notebooks/data_table.ipynb>data table notebook</a>'\n",
              "            + ' to learn more about interactive tables.';\n",
              "          element.innerHTML = '';\n",
              "          dataTable['output_type'] = 'display_data';\n",
              "          await google.colab.output.renderOutput(dataTable, element);\n",
              "          const docLink = document.createElement('div');\n",
              "          docLink.innerHTML = docLinkHtml;\n",
              "          element.appendChild(docLink);\n",
              "        }\n",
              "      </script>\n",
              "    </div>\n",
              "  </div>\n",
              "  "
            ]
          },
          "metadata": {},
          "execution_count": 29
        }
      ]
    },
    {
      "cell_type": "code",
      "source": [
        "docs = list(nlp(bias_intro).sents)"
      ],
      "metadata": {
        "id": "w9oATtEBInp2"
      },
      "execution_count": 31,
      "outputs": []
    },
    {
      "cell_type": "code",
      "source": [
        "counts = []\n",
        "for doc in docs:\n",
        "  counts.append(Counter([t.text.lower() for t in doc]))"
      ],
      "metadata": {
        "id": "CLIzIgS3IsIt"
      },
      "execution_count": 32,
      "outputs": []
    },
    {
      "cell_type": "code",
      "source": [
        "df = pd.DataFrame(counts)\n",
        "df = df.fillna(0).astype(int)"
      ],
      "metadata": {
        "id": "7jCT18_gJGK5"
      },
      "execution_count": 33,
      "outputs": []
    },
    {
      "cell_type": "code",
      "source": [
        "docs_tokens = []\n",
        "for doc_text in docs:\n",
        "  doc_text = doc_text.text.lower()\n",
        "  docs_tokens.append([tok.text for tok in nlp(doc_text)])\n"
      ],
      "metadata": {
        "id": "rxbt3SNxJKaH"
      },
      "execution_count": 35,
      "outputs": []
    },
    {
      "cell_type": "code",
      "source": [
        "all_doc_tokens = []\n",
        "for doc_tokens in docs_tokens:\n",
        "  all_doc_tokens.extend(doc_tokens)\n"
      ],
      "metadata": {
        "id": "Fb0RYRevJfEi"
      },
      "execution_count": 44,
      "outputs": []
    },
    {
      "cell_type": "code",
      "source": [
        "vocab = sorted(set(all_doc_tokens))\n"
      ],
      "metadata": {
        "id": "rRUIbQT4Klrp"
      },
      "execution_count": 46,
      "outputs": []
    },
    {
      "cell_type": "code",
      "source": [
        "lexicon = vocab[9:]"
      ],
      "metadata": {
        "id": "1rNaMzAMNXYg"
      },
      "execution_count": 59,
      "outputs": []
    },
    {
      "cell_type": "code",
      "source": [
        "from collections import OrderedDict\n",
        "zero_vector = OrderedDict((token, 0) for token in lexicon)\n"
      ],
      "metadata": {
        "id": "rGnXiXURKvog"
      },
      "execution_count": 60,
      "outputs": []
    },
    {
      "cell_type": "code",
      "source": [
        "zero_vector"
      ],
      "metadata": {
        "id": "DVf65znWLNP5",
        "outputId": "75f35c63-f92a-4e18-8b8f-2d086f24ca78",
        "colab": {
          "base_uri": "https://localhost:8080/"
        }
      },
      "execution_count": 61,
      "outputs": [
        {
          "output_type": "execute_result",
          "data": {
            "text/plain": [
              "OrderedDict([('a', 0),\n",
              "             ('ability', 0),\n",
              "             ('accurately', 0),\n",
              "             ('across', 0),\n",
              "             ('addressed', 0),\n",
              "             ('advanced', 0),\n",
              "             ('algorithm', 0),\n",
              "             ('algorithmic', 0),\n",
              "             ('algorithms', 0),\n",
              "             ('also', 0),\n",
              "             ('an', 0),\n",
              "             ('analysis', 0),\n",
              "             ('and', 0),\n",
              "             ('anticipated', 0),\n",
              "             ('application', 0),\n",
              "             ('arbitrary', 0),\n",
              "             ('are', 0),\n",
              "             ('arisen', 0),\n",
              "             ('arrests', 0),\n",
              "             ('as', 0),\n",
              "             ('audiences', 0),\n",
              "             ('authority', 0),\n",
              "             ('barrier', 0),\n",
              "             ('be', 0),\n",
              "             ('because', 0),\n",
              "             ('become', 0),\n",
              "             ('been', 0),\n",
              "             ('behavior', 0),\n",
              "             ('being', 0),\n",
              "             ('between', 0),\n",
              "             ('bias', 0),\n",
              "             ('biases', 0),\n",
              "             ('but', 0),\n",
              "             ('by', 0),\n",
              "             ('can', 0),\n",
              "             ('cases', 0),\n",
              "             ('certain', 0),\n",
              "             ('change', 0),\n",
              "             ('cited', 0),\n",
              "             ('coded', 0),\n",
              "             ('collected', 0),\n",
              "             ('color', 0),\n",
              "             ('complexity', 0),\n",
              "             ('compounding', 0),\n",
              "             ('comprehensive', 0),\n",
              "             ('computer', 0),\n",
              "             ('concerned', 0),\n",
              "             ('considered', 0),\n",
              "             ('contexts', 0),\n",
              "             ('create', 0),\n",
              "             ('criminal', 0),\n",
              "             ('cultural', 0),\n",
              "             ('darker', 0),\n",
              "             ('data', 0),\n",
              "             ('datasets', 0),\n",
              "             ('decisions', 0),\n",
              "             ('describes', 0),\n",
              "             ('design', 0),\n",
              "             ('discovering', 0),\n",
              "             ('discrimination', 0),\n",
              "             ('displace', 0),\n",
              "             ('due', 0),\n",
              "             ('easily', 0),\n",
              "             ('economic', 0),\n",
              "             ('election', 0),\n",
              "             ('emerge', 0),\n",
              "             ('emerging', 0),\n",
              "             ('engine', 0),\n",
              "             ('enter', 0),\n",
              "             ('errors', 0),\n",
              "             ('ethnicity', 0),\n",
              "             ('european', 0),\n",
              "             ('even', 0),\n",
              "             ('examine', 0),\n",
              "             ('existing', 0),\n",
              "             ('expand', 0),\n",
              "             ('expectations', 0),\n",
              "             ('expertise', 0),\n",
              "             ('faces', 0),\n",
              "             ('facial', 0),\n",
              "             ('factors', 0),\n",
              "             ('for', 0),\n",
              "             ('found', 0),\n",
              "             ('frameworks', 0),\n",
              "             ('from', 0),\n",
              "             ('full', 0),\n",
              "             ('functioning', 0),\n",
              "             ('furthermore', 0),\n",
              "             ('gender', 0),\n",
              "             ('general', 0),\n",
              "             ('greater', 0),\n",
              "             ('group', 0),\n",
              "             ('has', 0),\n",
              "             ('hate', 0),\n",
              "             ('have', 0),\n",
              "             ('healthcare', 0),\n",
              "             ('hiring', 0),\n",
              "             ('human', 0),\n",
              "             ('identify', 0),\n",
              "             ('imbalanced', 0),\n",
              "             ('impact', 0),\n",
              "             ('impacts', 0),\n",
              "             ('in', 0),\n",
              "             ('inability', 0),\n",
              "             ('inaccurately', 0),\n",
              "             ('inadvertent', 0),\n",
              "             ('including', 0),\n",
              "             ('increasingly', 0),\n",
              "             ('initial', 0),\n",
              "             ('input', 0),\n",
              "             ('inputs', 0),\n",
              "             ('institutional', 0),\n",
              "             ('institutions', 0),\n",
              "             ('interrelated', 0),\n",
              "             ('into', 0),\n",
              "             ('is', 0),\n",
              "             ('issue', 0),\n",
              "             ('it', 0),\n",
              "             ('justice', 0),\n",
              "             ('legal', 0),\n",
              "             ('limitations', 0),\n",
              "             ('limited', 0),\n",
              "             ('linked', 0),\n",
              "             ('manipulation', 0),\n",
              "             ('many', 0),\n",
              "             ('may', 0),\n",
              "             ('media', 0),\n",
              "             ('men', 0),\n",
              "             ('more', 0),\n",
              "             ('most', 0),\n",
              "             ('multiple', 0),\n",
              "             ('nature', 0),\n",
              "             ('needed', 0),\n",
              "             ('network', 0),\n",
              "             ('neutral', 0),\n",
              "             ('no', 0),\n",
              "             ('not', 0),\n",
              "             ('of', 0),\n",
              "             ('often', 0),\n",
              "             ('on', 0),\n",
              "             ('one', 0),\n",
              "             ('online', 0),\n",
              "             ('only', 0),\n",
              "             ('opaque', 0),\n",
              "             ('or', 0),\n",
              "             ('organize', 0),\n",
              "             ('others', 0),\n",
              "             ('outcomes', 0),\n",
              "             ('output', 0),\n",
              "             ('over', 0),\n",
              "             ('persist', 0),\n",
              "             ('physical', 0),\n",
              "             ('platforms', 0),\n",
              "             ('politics', 0),\n",
              "             ('poses', 0),\n",
              "             ('pre', 0),\n",
              "             ('privacy', 0),\n",
              "             ('privileging', 0),\n",
              "             ('problems', 0),\n",
              "             ('programs', 0),\n",
              "             ('project', 0),\n",
              "             ('proprietary', 0),\n",
              "             ('protection', 0),\n",
              "             ('provided', 0),\n",
              "             ('race', 0),\n",
              "             ('racial', 0),\n",
              "             ('ranging', 0),\n",
              "             ('recently', 0),\n",
              "             ('recognition', 0),\n",
              "             ('reflect', 0),\n",
              "             ('regulation', 0),\n",
              "             ('reinforcing', 0),\n",
              "             ('relating', 0),\n",
              "             ('relative', 0),\n",
              "             ('reliance', 0),\n",
              "             ('repeatable', 0),\n",
              "             ('reproduced', 0),\n",
              "             ('researching', 0),\n",
              "             ('respond', 0),\n",
              "             ('responsibility', 0),\n",
              "             ('result', 0),\n",
              "             ('results', 0),\n",
              "             ('same', 0),\n",
              "             ('search', 0),\n",
              "             ('secrets', 0),\n",
              "             ('selected', 0),\n",
              "             ('service', 0),\n",
              "             ('sexuality', 0),\n",
              "             ('single', 0),\n",
              "             ('skinned', 0),\n",
              "             ('social', 0),\n",
              "             ('society', 0),\n",
              "             ('sociologists', 0),\n",
              "             ('software', 0),\n",
              "             ('some', 0),\n",
              "             ('speech', 0),\n",
              "             ('spread', 0),\n",
              "             ('stemming', 0),\n",
              "             ('study', 0),\n",
              "             ('such', 0),\n",
              "             ('system', 0),\n",
              "             ('systematic', 0),\n",
              "             ('systems', 0),\n",
              "             ('technical', 0),\n",
              "             ('technologies', 0),\n",
              "             ('technology', 0),\n",
              "             ('than', 0),\n",
              "             ('that', 0),\n",
              "             ('the', 0),\n",
              "             ('their', 0),\n",
              "             ('there', 0),\n",
              "             ('they', 0),\n",
              "             ('this', 0),\n",
              "             ('to', 0),\n",
              "             ('trade', 0),\n",
              "             ('train', 0),\n",
              "             ('transparency', 0),\n",
              "             ('treated', 0),\n",
              "             ('typically', 0),\n",
              "             ('unanticipated', 0),\n",
              "             ('unbiased', 0),\n",
              "             ('understanding', 0),\n",
              "             ('unfair', 0),\n",
              "             ('unintended', 0),\n",
              "             ('union', 0),\n",
              "             ('use', 0),\n",
              "             ('used', 0),\n",
              "             ('users', 0),\n",
              "             ('violations', 0),\n",
              "             ('way', 0),\n",
              "             ('ways', 0),\n",
              "             ('website', 0),\n",
              "             ('when', 0),\n",
              "             ('which', 0),\n",
              "             ('who', 0),\n",
              "             ('with', 0),\n",
              "             ('within', 0),\n",
              "             ('world', 0),\n",
              "             ('wrongful', 0)])"
            ]
          },
          "metadata": {},
          "execution_count": 61
        }
      ]
    },
    {
      "cell_type": "code",
      "source": [
        "import copy\n",
        "doc_vectors = []\n",
        "for doc in docs:\n",
        "  vec = copy.copy(zero_vector)\n",
        "  tokens = [token.text for token in nlp(doc.text.lower())]\n",
        "  token_counts = Counter(tokens)\n",
        "  for key, value in token_counts.items():\n",
        "    vec[key] = value / len(lexicon)\n",
        "  doc_vectors.append(vec)"
      ],
      "metadata": {
        "id": "dpa-0MkkLuo3"
      },
      "execution_count": 63,
      "outputs": []
    },
    {
      "cell_type": "code",
      "source": [
        "from sklearn.feature_extraction.text import CountVectorizer\n",
        "corpus = docs\n",
        "vectorizer = CountVectorizer()\n"
      ],
      "metadata": {
        "id": "rFMzwG1SOA5j"
      },
      "execution_count": 67,
      "outputs": []
    },
    {
      "cell_type": "code",
      "source": [
        "corpus = [doc for doc in corpus]\n",
        "count_vectors = vectorizer.fit_transform(corpus)"
      ],
      "metadata": {
        "id": "zV9Lujs8OZsI"
      },
      "execution_count": 74,
      "outputs": []
    },
    {
      "cell_type": "code",
      "source": [
        "print(count_vectors.toarray())"
      ],
      "metadata": {
        "id": "PeTxdpdKOCOL",
        "outputId": "2efb51d4-89cf-46d4-da56-9f0573740482",
        "colab": {
          "base_uri": "https://localhost:8080/"
        }
      },
      "execution_count": 75,
      "outputs": [
        {
          "output_type": "stream",
          "name": "stdout",
          "text": [
            "[[0 0 0 ... 0 0 0]\n",
            " [0 0 0 ... 0 0 0]\n",
            " [0 0 0 ... 0 0 0]\n",
            " ...\n",
            " [0 0 0 ... 0 0 0]\n",
            " [0 0 0 ... 0 0 0]\n",
            " [0 0 0 ... 1 0 0]]\n"
          ]
        }
      ]
    },
    {
      "cell_type": "code",
      "source": [
        "import numpy as np\n",
        "v1 = np.array(list(range(5)))\n",
        "v2 = pd.Series(reversed(range(5)))\n",
        "slow_answer = sum([4.2 * (x1 * x2) for x1, x2 in zip(v1, v2)])\n",
        "slow_answer"
      ],
      "metadata": {
        "id": "RiAMQi6ZQcmO",
        "outputId": "d27d9648-d5f3-4b8e-851e-cac665f31e99",
        "colab": {
          "base_uri": "https://localhost:8080/"
        }
      },
      "execution_count": 77,
      "outputs": [
        {
          "output_type": "execute_result",
          "data": {
            "text/plain": [
              "42.0"
            ]
          },
          "metadata": {},
          "execution_count": 77
        }
      ]
    },
    {
      "cell_type": "code",
      "source": [
        "import math\n",
        "def cosine_sim(vec1, vec2):\n",
        "  vec1 = [val for val in vec1.values()]\n",
        "  vec2 = [val for val in vec2.values()]\n",
        "\n",
        "  dot_prod = 0\n",
        "  for i, v in enumerate(vec1):\n",
        "    dot_prod += v * vec2[i]\n",
        "\n",
        "  mag_1 = math.sqrt(sum([x**2 for x in vec1]))\n",
        "  mag_2 = math.sqrt(sum([x**2 for x in vec2]))\n",
        "\n",
        "  return dot_prod / (mag_1 * mag_2)"
      ],
      "metadata": {
        "id": "pSjWVLwlQ_6x"
      },
      "execution_count": 79,
      "outputs": []
    },
    {
      "cell_type": "code",
      "source": [
        "from this import s\n",
        "\n",
        "print(s)"
      ],
      "metadata": {
        "id": "WZyv-h_PT4V2",
        "outputId": "229af830-9c3a-48e6-c8c0-cecd7a82365e",
        "colab": {
          "base_uri": "https://localhost:8080/"
        }
      },
      "execution_count": 80,
      "outputs": [
        {
          "output_type": "stream",
          "name": "stdout",
          "text": [
            "The Zen of Python, by Tim Peters\n",
            "\n",
            "Beautiful is better than ugly.\n",
            "Explicit is better than implicit.\n",
            "Simple is better than complex.\n",
            "Complex is better than complicated.\n",
            "Flat is better than nested.\n",
            "Sparse is better than dense.\n",
            "Readability counts.\n",
            "Special cases aren't special enough to break the rules.\n",
            "Although practicality beats purity.\n",
            "Errors should never pass silently.\n",
            "Unless explicitly silenced.\n",
            "In the face of ambiguity, refuse the temptation to guess.\n",
            "There should be one-- and preferably only one --obvious way to do it.\n",
            "Although that way may not be obvious at first unless you're Dutch.\n",
            "Now is better than never.\n",
            "Although never is often better than *right* now.\n",
            "If the implementation is hard to explain, it's a bad idea.\n",
            "If the implementation is easy to explain, it may be a good idea.\n",
            "Namespaces are one honking great idea -- let's do more of those!\n",
            "Gur Mra bs Clguba, ol Gvz Crgref\n",
            "\n",
            "Ornhgvshy vf orggre guna htyl.\n",
            "Rkcyvpvg vf orggre guna vzcyvpvg.\n",
            "Fvzcyr vf orggre guna pbzcyrk.\n",
            "Pbzcyrk vf orggre guna pbzcyvpngrq.\n",
            "Syng vf orggre guna arfgrq.\n",
            "Fcnefr vf orggre guna qrafr.\n",
            "Ernqnovyvgl pbhagf.\n",
            "Fcrpvny pnfrf nera'g fcrpvny rabhtu gb oernx gur ehyrf.\n",
            "Nygubhtu cenpgvpnyvgl orngf chevgl.\n",
            "Reebef fubhyq arire cnff fvyragyl.\n",
            "Hayrff rkcyvpvgyl fvyraprq.\n",
            "Va gur snpr bs nzovthvgl, ershfr gur grzcgngvba gb thrff.\n",
            "Gurer fubhyq or bar-- naq cersrenoyl bayl bar --boivbhf jnl gb qb vg.\n",
            "Nygubhtu gung jnl znl abg or boivbhf ng svefg hayrff lbh'er Qhgpu.\n",
            "Abj vf orggre guna arire.\n",
            "Nygubhtu arire vf bsgra orggre guna *evtug* abj.\n",
            "Vs gur vzcyrzragngvba vf uneq gb rkcynva, vg'f n onq vqrn.\n",
            "Vs gur vzcyrzragngvba vf rnfl gb rkcynva, vg znl or n tbbq vqrn.\n",
            "Anzrfcnprf ner bar ubaxvat terng vqrn -- yrg'f qb zber bs gubfr!\n"
          ]
        }
      ]
    },
    {
      "cell_type": "code",
      "source": [
        "import this as a\n"
      ],
      "metadata": {
        "id": "gMqLJTdcUiHM"
      },
      "execution_count": 81,
      "outputs": []
    },
    {
      "cell_type": "code",
      "source": [
        "DATA_DIR = ('https://gitlab.com/tangibleai/nlpia/-/raw/master/src/nlpia/data')\n",
        "url = DATA_DIR + '/machine_learning_full_article.txt'\n",
        "ml_text = requests.get(url).content.decode()\n",
        "ml_char_frequencies = char_vectorizer.fit_transform(ml_text)\n",
        "generate_histogram(s_char_frequencies, s_char_vectorizer)"
      ],
      "metadata": {
        "id": "f4r9fbtBUt3K",
        "outputId": "ce6e6192-f959-4c97-da0c-05878ec72984",
        "colab": {
          "base_uri": "https://localhost:8080/",
          "height": 349
        }
      },
      "execution_count": 86,
      "outputs": [
        {
          "output_type": "error",
          "ename": "ValueError",
          "evalue": "ignored",
          "traceback": [
            "\u001b[0;31m---------------------------------------------------------------------------\u001b[0m",
            "\u001b[0;31mValueError\u001b[0m                                Traceback (most recent call last)",
            "\u001b[0;32m<ipython-input-86-57c5af27d4fc>\u001b[0m in \u001b[0;36m<cell line: 4>\u001b[0;34m()\u001b[0m\n\u001b[1;32m      2\u001b[0m \u001b[0murl\u001b[0m \u001b[0;34m=\u001b[0m \u001b[0mDATA_DIR\u001b[0m \u001b[0;34m+\u001b[0m \u001b[0;34m'/machine_learning_full_article.txt'\u001b[0m\u001b[0;34m\u001b[0m\u001b[0;34m\u001b[0m\u001b[0m\n\u001b[1;32m      3\u001b[0m \u001b[0mml_text\u001b[0m \u001b[0;34m=\u001b[0m \u001b[0mrequests\u001b[0m\u001b[0;34m.\u001b[0m\u001b[0mget\u001b[0m\u001b[0;34m(\u001b[0m\u001b[0murl\u001b[0m\u001b[0;34m)\u001b[0m\u001b[0;34m.\u001b[0m\u001b[0mcontent\u001b[0m\u001b[0;34m.\u001b[0m\u001b[0mdecode\u001b[0m\u001b[0;34m(\u001b[0m\u001b[0;34m)\u001b[0m\u001b[0;34m\u001b[0m\u001b[0;34m\u001b[0m\u001b[0m\n\u001b[0;32m----> 4\u001b[0;31m \u001b[0mml_char_frequencies\u001b[0m \u001b[0;34m=\u001b[0m \u001b[0mchar_vectorizer\u001b[0m\u001b[0;34m.\u001b[0m\u001b[0mfit_transform\u001b[0m\u001b[0;34m(\u001b[0m\u001b[0mml_text\u001b[0m\u001b[0;34m)\u001b[0m\u001b[0;34m\u001b[0m\u001b[0;34m\u001b[0m\u001b[0m\n\u001b[0m\u001b[1;32m      5\u001b[0m \u001b[0mgenerate_histogram\u001b[0m\u001b[0;34m(\u001b[0m\u001b[0ms_char_frequencies\u001b[0m\u001b[0;34m,\u001b[0m \u001b[0ms_char_vectorizer\u001b[0m\u001b[0;34m)\u001b[0m\u001b[0;34m\u001b[0m\u001b[0;34m\u001b[0m\u001b[0m\n",
            "\u001b[0;32m/usr/local/lib/python3.10/dist-packages/sklearn/feature_extraction/text.py\u001b[0m in \u001b[0;36mfit_transform\u001b[0;34m(self, raw_documents, y)\u001b[0m\n\u001b[1;32m   1363\u001b[0m         \u001b[0;31m# TfidfVectorizer.\u001b[0m\u001b[0;34m\u001b[0m\u001b[0;34m\u001b[0m\u001b[0m\n\u001b[1;32m   1364\u001b[0m         \u001b[0;32mif\u001b[0m \u001b[0misinstance\u001b[0m\u001b[0;34m(\u001b[0m\u001b[0mraw_documents\u001b[0m\u001b[0;34m,\u001b[0m \u001b[0mstr\u001b[0m\u001b[0;34m)\u001b[0m\u001b[0;34m:\u001b[0m\u001b[0;34m\u001b[0m\u001b[0;34m\u001b[0m\u001b[0m\n\u001b[0;32m-> 1365\u001b[0;31m             raise ValueError(\n\u001b[0m\u001b[1;32m   1366\u001b[0m                 \u001b[0;34m\"Iterable over raw text documents expected, string object received.\"\u001b[0m\u001b[0;34m\u001b[0m\u001b[0;34m\u001b[0m\u001b[0m\n\u001b[1;32m   1367\u001b[0m             )\n",
            "\u001b[0;31mValueError\u001b[0m: Iterable over raw text documents expected, string object received."
          ]
        }
      ]
    },
    {
      "cell_type": "code",
      "source": [],
      "metadata": {
        "id": "nQkBxVn5UwVe"
      },
      "execution_count": null,
      "outputs": []
    }
  ]
}