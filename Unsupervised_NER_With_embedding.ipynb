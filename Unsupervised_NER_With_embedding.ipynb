{
  "nbformat": 4,
  "nbformat_minor": 0,
  "metadata": {
    "colab": {
      "provenance": [],
      "machine_shape": "hm",
      "gpuType": "T4",
      "authorship_tag": "ABX9TyMvHeszulO45qRLd3g7PVXt",
      "include_colab_link": true
    },
    "kernelspec": {
      "name": "python3",
      "display_name": "Python 3"
    },
    "language_info": {
      "name": "python"
    },
    "accelerator": "GPU"
  },
  "cells": [
    {
      "cell_type": "markdown",
      "metadata": {
        "id": "view-in-github",
        "colab_type": "text"
      },
      "source": [
        "<a href=\"https://colab.research.google.com/github/koad7/NLP_PYTORCH/blob/main/Unsupervised_NER_With_embedding.ipynb\" target=\"_parent\"><img src=\"https://colab.research.google.com/assets/colab-badge.svg\" alt=\"Open In Colab\"/></a>"
      ]
    },
    {
      "cell_type": "code",
      "execution_count": null,
      "metadata": {
        "id": "Y3hr5_tNFtm-"
      },
      "outputs": [],
      "source": [
        "from google.colab import drive\n",
        "drive.mount('/content/drive')"
      ]
    },
    {
      "cell_type": "code",
      "source": [
        "!pip install transformers"
      ],
      "metadata": {
        "id": "01q5FS9ssQXc"
      },
      "execution_count": null,
      "outputs": []
    },
    {
      "cell_type": "code",
      "source": [
        "from transformers import BertTokenizer, BertModel\n",
        "import torch\n",
        "\n",
        "# Load pre-trained model and tokenizer\n",
        "tokenizer = BertTokenizer.from_pretrained('bert-base-uncased')\n",
        "model = BertModel.from_pretrained('bert-base-uncased')\n",
        "\n",
        "# Function to convert sentences to embeddings\n",
        "def sentence_to_embedding(sentence):\n",
        "    # Tokenize the sentence\n",
        "    inputs = tokenizer(sentence, return_tensors='pt')\n",
        "\n",
        "    # Get the embeddings\n",
        "    with torch.no_grad():\n",
        "        outputs = model(**inputs)\n",
        "\n",
        "    # The embeddings of the [CLS] token can be used as the embedding of the sentence\n",
        "    sentence_embedding = outputs.last_hidden_state[0, 0, :].numpy()\n",
        "\n",
        "    return sentence_embedding"
      ],
      "metadata": {
        "colab": {
          "base_uri": "https://localhost:8080/"
        },
        "id": "8xF7KuChhDwC",
        "outputId": "94e7276f-ce61-45c0-84d6-57a73d351be3"
      },
      "execution_count": 6,
      "outputs": [
        {
          "output_type": "stream",
          "name": "stderr",
          "text": [
            "Some weights of the model checkpoint at bert-base-uncased were not used when initializing BertModel: ['cls.predictions.transform.LayerNorm.bias', 'cls.predictions.transform.dense.bias', 'cls.predictions.transform.dense.weight', 'cls.predictions.bias', 'cls.predictions.transform.LayerNorm.weight', 'cls.seq_relationship.weight', 'cls.seq_relationship.bias']\n",
            "- This IS expected if you are initializing BertModel from the checkpoint of a model trained on another task or with another architecture (e.g. initializing a BertForSequenceClassification model from a BertForPreTraining model).\n",
            "- This IS NOT expected if you are initializing BertModel from the checkpoint of a model that you expect to be exactly identical (initializing a BertForSequenceClassification model from a BertForSequenceClassification model).\n"
          ]
        }
      ]
    },
    {
      "cell_type": "code",
      "source": [
        "from sklearn.cluster import KMeans\n",
        "import numpy as np\n",
        "\n",
        "\n"
      ],
      "metadata": {
        "id": "Y9ECOufAldb1"
      },
      "execution_count": 7,
      "outputs": []
    },
    {
      "cell_type": "code",
      "source": [
        "sentence = '''When Jack Ma was allocating company shares, he gave Tong 0.2% shares right saying it will worth 100 million when Alibaba goes public into the market later. He asked her to stay in the company, not change to other companies, and she will get 100 million when Alibaba goes public.\n",
        "She waited years but Alibaba never went public. She asked Jack when will Alibaba go public in 2004 and Jack said soon. She asked again in 2006 and Jack Ma said soon, again.\n",
        "However, she never saw it happen and never got 100 million. When Alibaba finally went public on the New York Stock Exchange in September 2014, it was worth 245.7 billion. Tong, the former senior receptionist, and current Vice President of Alibaba, became a millionaire from a receptionist with 320 million worth.\n",
        "Entrepreneurship is a 16-character word where the 6th letter P stands for Patience. Most startups end in this 6th stage because of a lack of patience.\n",
        "Whenever I am going to give up my dreams I read this story when a receptionist has this much patience then how can I give up, I am born to be an Entrepreneur.'''\n",
        "\n",
        "def count_words(text):\n",
        "    words = text.split()\n",
        "    return len(words)\n",
        "print(f'We have {count_words(sentence)} total number of words.')\n",
        "# Tokenize the sentence and get the corresponding input IDs\n",
        "inputs = tokenizer(sentence, return_tensors=\"pt\")\n",
        "\n",
        "# Get the embeddings\n",
        "with torch.no_grad():\n",
        "    outputs = model(**inputs)\n",
        "\n",
        "# The embeddings are stored in the last hidden state\n",
        "embeddings = outputs.last_hidden_state"
      ],
      "metadata": {
        "colab": {
          "base_uri": "https://localhost:8080/"
        },
        "id": "XA6AUOfTsgxT",
        "outputId": "239a1668-5a92-4361-baef-f9fd7a9175c5"
      },
      "execution_count": 74,
      "outputs": [
        {
          "output_type": "stream",
          "name": "stdout",
          "text": [
            "We have 193 total number of words.\n"
          ]
        }
      ]
    },
    {
      "cell_type": "code",
      "source": [
        "embeddings.size()"
      ],
      "metadata": {
        "colab": {
          "base_uri": "https://localhost:8080/"
        },
        "id": "_fayU27qs6hT",
        "outputId": "eae3d679-3908-49b9-d048-f40416922b8c"
      },
      "execution_count": 75,
      "outputs": [
        {
          "output_type": "execute_result",
          "data": {
            "text/plain": [
              "torch.Size([1, 237, 768])"
            ]
          },
          "metadata": {},
          "execution_count": 75
        }
      ]
    },
    {
      "cell_type": "code",
      "source": [
        "import numpy as np\n",
        "\n",
        "# Transofmr tensor from 3D to 2D\n",
        "embeddings_2d = embeddings.view(embeddings.size(1), -1)\n",
        "# Initialize a KMeans object with 2 clusters (for 2 classes: NE and non-NE)\n",
        "kmeans = KMeans(n_clusters=2, random_state=0)\n"
      ],
      "metadata": {
        "id": "XieSBxtPtZXQ"
      },
      "execution_count": 76,
      "outputs": []
    },
    {
      "cell_type": "code",
      "source": [
        "# Now fit the KMeans model\n",
        "labels = kmeans.fit_predict(embeddings_2d)"
      ],
      "metadata": {
        "colab": {
          "base_uri": "https://localhost:8080/"
        },
        "id": "ynXewfeWsas1",
        "outputId": "58398cf8-b4d8-48bd-bfe5-e419106117c9"
      },
      "execution_count": 77,
      "outputs": [
        {
          "output_type": "stream",
          "name": "stderr",
          "text": [
            "/usr/local/lib/python3.10/dist-packages/sklearn/cluster/_kmeans.py:870: FutureWarning: The default value of `n_init` will change from 10 to 'auto' in 1.4. Set the value of `n_init` explicitly to suppress the warning\n",
            "  warnings.warn(\n"
          ]
        }
      ]
    },
    {
      "cell_type": "code",
      "source": [
        "print(f'Total siez: {labels.size} \\n0: {np.count_nonzero(labels)}\\n1: {labels.size-np.count_nonzero(labels)}')\n"
      ],
      "metadata": {
        "colab": {
          "base_uri": "https://localhost:8080/"
        },
        "id": "O8c89Aq2vQ65",
        "outputId": "94661ee9-fa8c-4b23-870e-f2d399de5de8"
      },
      "execution_count": 78,
      "outputs": [
        {
          "output_type": "stream",
          "name": "stdout",
          "text": [
            "Total siez: 237 \n",
            "0: 176\n",
            "1: 61\n"
          ]
        }
      ]
    },
    {
      "cell_type": "code",
      "source": [
        "count_0 = labels.size-np.count_nonzero(labels)\n",
        "count_1 = np.count_nonzero(labels)\n",
        "if  count_1 > count_0:\n",
        "  labels = np.logical_not(labels).astype(int)"
      ],
      "metadata": {
        "id": "kDgIBBP4vsRV"
      },
      "execution_count": 79,
      "outputs": []
    },
    {
      "cell_type": "code",
      "source": [
        "tokens = tokenizer.tokenize(sentence)"
      ],
      "metadata": {
        "id": "ZbgXindu0tGI"
      },
      "execution_count": 92,
      "outputs": []
    },
    {
      "cell_type": "code",
      "source": [
        "tokens.append(\"\")"
      ],
      "metadata": {
        "id": "GYB1_CMm3BFi"
      },
      "execution_count": 93,
      "outputs": []
    },
    {
      "cell_type": "code",
      "source": [
        "tokens.append(\"\")"
      ],
      "metadata": {
        "id": "HdUxDGVM6ECd"
      },
      "execution_count": 94,
      "outputs": []
    },
    {
      "cell_type": "code",
      "source": [
        "import pandas as pd"
      ],
      "metadata": {
        "id": "A7LGqhzs31QL"
      },
      "execution_count": 83,
      "outputs": []
    },
    {
      "cell_type": "code",
      "source": [
        "pd.DataFrame({'tokens':tokens, 'labels':labels})"
      ],
      "metadata": {
        "colab": {
          "base_uri": "https://localhost:8080/",
          "height": 655
        },
        "id": "z0eQNa2l5Ok8",
        "outputId": "f9f39e33-8739-469f-f866-28947e995792"
      },
      "execution_count": 95,
      "outputs": [
        {
          "output_type": "execute_result",
          "data": {
            "text/plain": [
              "           tokens  labels\n",
              "0            when       0\n",
              "1            jack       0\n",
              "2              ma       0\n",
              "3             was       0\n",
              "4             all       0\n",
              "..            ...     ...\n",
              "232            an       0\n",
              "233  entrepreneur       0\n",
              "234             .       1\n",
              "235                     0\n",
              "236                     1\n",
              "\n",
              "[237 rows x 2 columns]"
            ],
            "text/html": [
              "\n",
              "  <div id=\"df-e96ea3a1-6db5-411f-b693-91fdcbb1e14f\">\n",
              "    <div class=\"colab-df-container\">\n",
              "      <div>\n",
              "<style scoped>\n",
              "    .dataframe tbody tr th:only-of-type {\n",
              "        vertical-align: middle;\n",
              "    }\n",
              "\n",
              "    .dataframe tbody tr th {\n",
              "        vertical-align: top;\n",
              "    }\n",
              "\n",
              "    .dataframe thead th {\n",
              "        text-align: right;\n",
              "    }\n",
              "</style>\n",
              "<table border=\"1\" class=\"dataframe\">\n",
              "  <thead>\n",
              "    <tr style=\"text-align: right;\">\n",
              "      <th></th>\n",
              "      <th>tokens</th>\n",
              "      <th>labels</th>\n",
              "    </tr>\n",
              "  </thead>\n",
              "  <tbody>\n",
              "    <tr>\n",
              "      <th>0</th>\n",
              "      <td>when</td>\n",
              "      <td>0</td>\n",
              "    </tr>\n",
              "    <tr>\n",
              "      <th>1</th>\n",
              "      <td>jack</td>\n",
              "      <td>0</td>\n",
              "    </tr>\n",
              "    <tr>\n",
              "      <th>2</th>\n",
              "      <td>ma</td>\n",
              "      <td>0</td>\n",
              "    </tr>\n",
              "    <tr>\n",
              "      <th>3</th>\n",
              "      <td>was</td>\n",
              "      <td>0</td>\n",
              "    </tr>\n",
              "    <tr>\n",
              "      <th>4</th>\n",
              "      <td>all</td>\n",
              "      <td>0</td>\n",
              "    </tr>\n",
              "    <tr>\n",
              "      <th>...</th>\n",
              "      <td>...</td>\n",
              "      <td>...</td>\n",
              "    </tr>\n",
              "    <tr>\n",
              "      <th>232</th>\n",
              "      <td>an</td>\n",
              "      <td>0</td>\n",
              "    </tr>\n",
              "    <tr>\n",
              "      <th>233</th>\n",
              "      <td>entrepreneur</td>\n",
              "      <td>0</td>\n",
              "    </tr>\n",
              "    <tr>\n",
              "      <th>234</th>\n",
              "      <td>.</td>\n",
              "      <td>1</td>\n",
              "    </tr>\n",
              "    <tr>\n",
              "      <th>235</th>\n",
              "      <td></td>\n",
              "      <td>0</td>\n",
              "    </tr>\n",
              "    <tr>\n",
              "      <th>236</th>\n",
              "      <td></td>\n",
              "      <td>1</td>\n",
              "    </tr>\n",
              "  </tbody>\n",
              "</table>\n",
              "<p>237 rows × 2 columns</p>\n",
              "</div>\n",
              "      <button class=\"colab-df-convert\" onclick=\"convertToInteractive('df-e96ea3a1-6db5-411f-b693-91fdcbb1e14f')\"\n",
              "              title=\"Convert this dataframe to an interactive table.\"\n",
              "              style=\"display:none;\">\n",
              "        \n",
              "  <svg xmlns=\"http://www.w3.org/2000/svg\" height=\"24px\"viewBox=\"0 0 24 24\"\n",
              "       width=\"24px\">\n",
              "    <path d=\"M0 0h24v24H0V0z\" fill=\"none\"/>\n",
              "    <path d=\"M18.56 5.44l.94 2.06.94-2.06 2.06-.94-2.06-.94-.94-2.06-.94 2.06-2.06.94zm-11 1L8.5 8.5l.94-2.06 2.06-.94-2.06-.94L8.5 2.5l-.94 2.06-2.06.94zm10 10l.94 2.06.94-2.06 2.06-.94-2.06-.94-.94-2.06-.94 2.06-2.06.94z\"/><path d=\"M17.41 7.96l-1.37-1.37c-.4-.4-.92-.59-1.43-.59-.52 0-1.04.2-1.43.59L10.3 9.45l-7.72 7.72c-.78.78-.78 2.05 0 2.83L4 21.41c.39.39.9.59 1.41.59.51 0 1.02-.2 1.41-.59l7.78-7.78 2.81-2.81c.8-.78.8-2.07 0-2.86zM5.41 20L4 18.59l7.72-7.72 1.47 1.35L5.41 20z\"/>\n",
              "  </svg>\n",
              "      </button>\n",
              "      \n",
              "  <style>\n",
              "    .colab-df-container {\n",
              "      display:flex;\n",
              "      flex-wrap:wrap;\n",
              "      gap: 12px;\n",
              "    }\n",
              "\n",
              "    .colab-df-convert {\n",
              "      background-color: #E8F0FE;\n",
              "      border: none;\n",
              "      border-radius: 50%;\n",
              "      cursor: pointer;\n",
              "      display: none;\n",
              "      fill: #1967D2;\n",
              "      height: 32px;\n",
              "      padding: 0 0 0 0;\n",
              "      width: 32px;\n",
              "    }\n",
              "\n",
              "    .colab-df-convert:hover {\n",
              "      background-color: #E2EBFA;\n",
              "      box-shadow: 0px 1px 2px rgba(60, 64, 67, 0.3), 0px 1px 3px 1px rgba(60, 64, 67, 0.15);\n",
              "      fill: #174EA6;\n",
              "    }\n",
              "\n",
              "    [theme=dark] .colab-df-convert {\n",
              "      background-color: #3B4455;\n",
              "      fill: #D2E3FC;\n",
              "    }\n",
              "\n",
              "    [theme=dark] .colab-df-convert:hover {\n",
              "      background-color: #434B5C;\n",
              "      box-shadow: 0px 1px 3px 1px rgba(0, 0, 0, 0.15);\n",
              "      filter: drop-shadow(0px 1px 2px rgba(0, 0, 0, 0.3));\n",
              "      fill: #FFFFFF;\n",
              "    }\n",
              "  </style>\n",
              "\n",
              "      <script>\n",
              "        const buttonEl =\n",
              "          document.querySelector('#df-e96ea3a1-6db5-411f-b693-91fdcbb1e14f button.colab-df-convert');\n",
              "        buttonEl.style.display =\n",
              "          google.colab.kernel.accessAllowed ? 'block' : 'none';\n",
              "\n",
              "        async function convertToInteractive(key) {\n",
              "          const element = document.querySelector('#df-e96ea3a1-6db5-411f-b693-91fdcbb1e14f');\n",
              "          const dataTable =\n",
              "            await google.colab.kernel.invokeFunction('convertToInteractive',\n",
              "                                                     [key], {});\n",
              "          if (!dataTable) return;\n",
              "\n",
              "          const docLinkHtml = 'Like what you see? Visit the ' +\n",
              "            '<a target=\"_blank\" href=https://colab.research.google.com/notebooks/data_table.ipynb>data table notebook</a>'\n",
              "            + ' to learn more about interactive tables.';\n",
              "          element.innerHTML = '';\n",
              "          dataTable['output_type'] = 'display_data';\n",
              "          await google.colab.output.renderOutput(dataTable, element);\n",
              "          const docLink = document.createElement('div');\n",
              "          docLink.innerHTML = docLinkHtml;\n",
              "          element.appendChild(docLink);\n",
              "        }\n",
              "      </script>\n",
              "    </div>\n",
              "  </div>\n",
              "  "
            ]
          },
          "metadata": {},
          "execution_count": 95
        }
      ]
    },
    {
      "cell_type": "code",
      "source": [
        "import spacy\n",
        "spacy.cli.download(\"en_core_web_sm\")\n",
        "nlp = spacy.load(\"en_core_web_sm\")\n",
        "sentence = ('It has also arisen in criminal justice, healthcare, and hiring, compounding existing racial, economic, and gender biases.')\n",
        "doc = nlp(sentence)\n",
        "tokens = [token.text for token in doc]\n",
        "tokens\n"
      ],
      "metadata": {
        "colab": {
          "base_uri": "https://localhost:8080/"
        },
        "id": "AaI5ClAo5qfi",
        "outputId": "e4d67f70-0ef7-47dc-b771-9f613d806b3d"
      },
      "execution_count": 43,
      "outputs": [
        {
          "output_type": "stream",
          "name": "stdout",
          "text": [
            "\u001b[38;5;2m✔ Download and installation successful\u001b[0m\n",
            "You can now load the package via spacy.load('en_core_web_sm')\n"
          ]
        },
        {
          "output_type": "execute_result",
          "data": {
            "text/plain": [
              "['It',\n",
              " 'has',\n",
              " 'also',\n",
              " 'arisen',\n",
              " 'in',\n",
              " 'criminal',\n",
              " 'justice',\n",
              " ',',\n",
              " 'healthcare',\n",
              " ',',\n",
              " 'and',\n",
              " 'hiring',\n",
              " ',',\n",
              " 'compounding',\n",
              " 'existing',\n",
              " 'racial',\n",
              " ',',\n",
              " 'economic',\n",
              " ',',\n",
              " 'and',\n",
              " 'gender',\n",
              " 'biases',\n",
              " '.']"
            ]
          },
          "metadata": {},
          "execution_count": 43
        }
      ]
    },
    {
      "cell_type": "code",
      "source": [
        "from collections import Counter\n",
        "import pandas as pd\n",
        "bag_of_words = Counter(tokens)"
      ],
      "metadata": {
        "colab": {
          "base_uri": "https://localhost:8080/"
        },
        "id": "YmjA2rBcBe6_",
        "outputId": "00e7772c-1abb-4fb5-9372-8fbb3d11e767"
      },
      "execution_count": 44,
      "outputs": [
        {
          "output_type": "execute_result",
          "data": {
            "text/plain": [
              "Counter({'It': 1,\n",
              "         'has': 1,\n",
              "         'also': 1,\n",
              "         'arisen': 1,\n",
              "         'in': 1,\n",
              "         'criminal': 1,\n",
              "         'justice': 1,\n",
              "         ',': 5,\n",
              "         'healthcare': 1,\n",
              "         'and': 2,\n",
              "         'hiring': 1,\n",
              "         'compounding': 1,\n",
              "         'existing': 1,\n",
              "         'racial': 1,\n",
              "         'economic': 1,\n",
              "         'gender': 1,\n",
              "         'biases': 1,\n",
              "         '.': 1})"
            ]
          },
          "metadata": {},
          "execution_count": 44
        }
      ]
    },
    {
      "cell_type": "code",
      "source": [
        "bag_of_words.most_common(3)"
      ],
      "metadata": {
        "colab": {
          "base_uri": "https://localhost:8080/"
        },
        "id": "AOsPe38aEzo1",
        "outputId": "97a4792e-307c-4158-b73d-75d6d4a614ab"
      },
      "execution_count": 45,
      "outputs": [
        {
          "output_type": "execute_result",
          "data": {
            "text/plain": [
              "[(',', 5), ('and', 2), ('It', 1)]"
            ]
          },
          "metadata": {},
          "execution_count": 45
        }
      ]
    },
    {
      "cell_type": "code",
      "source": [
        "counts = pd.Series(dict(bag_of_words.most_common()))"
      ],
      "metadata": {
        "id": "wLwDTaUpEzzw"
      },
      "execution_count": 46,
      "outputs": []
    },
    {
      "cell_type": "code",
      "source": [
        "counts / counts.sum()"
      ],
      "metadata": {
        "colab": {
          "base_uri": "https://localhost:8080/"
        },
        "id": "7jXftQFCE_wJ",
        "outputId": "7c925aa7-f1f7-4dff-ac79-74a540c2c516"
      },
      "execution_count": 47,
      "outputs": [
        {
          "output_type": "execute_result",
          "data": {
            "text/plain": [
              ",              0.217391\n",
              "and            0.086957\n",
              "It             0.043478\n",
              "has            0.043478\n",
              "also           0.043478\n",
              "arisen         0.043478\n",
              "in             0.043478\n",
              "criminal       0.043478\n",
              "justice        0.043478\n",
              "healthcare     0.043478\n",
              "hiring         0.043478\n",
              "compounding    0.043478\n",
              "existing       0.043478\n",
              "racial         0.043478\n",
              "economic       0.043478\n",
              "gender         0.043478\n",
              "biases         0.043478\n",
              ".              0.043478\n",
              "dtype: float64"
            ]
          },
          "metadata": {},
          "execution_count": 47
        }
      ]
    },
    {
      "cell_type": "code",
      "source": [
        "sentences2 = '''\n",
        "Algorithmic bias describes systematic and repeatable errors in a computer system that create\n",
        "unfair outcomes, such as privileging one arbitrary group of users over others. Bias can emerge\n",
        "due to many factors, including but not limited to the design of the algorithm or the unintended or\n",
        "unanticipated use or decisions relating to the way data is coded, collected, selected or used to\n",
        "train the algorithm. Algorithmic bias is found across platforms, including but not limited to\n",
        "search engine results and social media platforms, and can have impacts ranging from\n",
        "inadvertent privacy violations to reinforcing social biases of race, gender, sexuality, and\n",
        "ethnicity. The study of algorithmic bias is most concerned with algorithms that reflect\n",
        "\"systematic and unfair\" discrimination. This bias has only recently been addressed in legal\n",
        "frameworks, such as the 2018 European Union’s General Data Protection Regulation. More\n",
        "comprehensive regulation is needed as emerging technologies become increasingly advanced\n",
        "and opaque.\n",
        "As algorithms expand their ability to organize society, politics, institutions, and behavior,\n",
        "sociologists have become concerned with the ways in which unanticipated output and\n",
        "manipulation of data can impact the physical world. Because algorithms are often considered to\n",
        "be neutral and unbiased, they can inaccurately project greater authority than human expertise,\n",
        "and in some cases, reliance on algorithms can displace human responsibility for their outcomes.\n",
        "Bias can enter into algorithmic systems as a result of pre-existing cultural, social, or\n",
        "institutional expectations; because of technical limitations of their design; or by being used in\n",
        "unanticipated contexts or by audiences who are not considered in the software’s initial design.\n",
        "Algorithmic bias has been cited in cases ranging from election outcomes to the spread of online\n",
        "hate speech. It has also arisen in criminal justice, healthcare, and hiring, compounding existing\n",
        "racial, economic, and gender biases. The relative inability of facial recognition technology to\n",
        "accurately identify darker-skinned faces has been linked to multiple wrongful arrests of men of\n",
        "color, an issue stemming from imbalanced datasets. Problems in understanding, researching,\n",
        "and discovering algorithmic bias persist due to the proprietary nature of algorithms, which are\n",
        "typically treated as trade secrets. Even when full transparency is provided, the complexity of\n",
        "certain algorithms poses a barrier to understanding their functioning. Furthermore, algorithms\n",
        "may change, or respond to input or output in ways that cannot be anticipated or easily\n",
        "reproduced for analysis. In many cases, even within a single website or application, there is no\n",
        "single \"algorithm\" to examine, but a network of many interrelated programs and data inputs,\n",
        "even between users of the same service.\n",
        "'''"
      ],
      "metadata": {
        "id": "8sU3KmK9FH5D"
      },
      "execution_count": 48,
      "outputs": []
    },
    {
      "cell_type": "code",
      "source": [
        "tokens = [tok.text for tok in nlp(sentences2)]"
      ],
      "metadata": {
        "id": "8Yrn2uSLFtIe"
      },
      "execution_count": 49,
      "outputs": []
    },
    {
      "cell_type": "code",
      "source": [
        "counts = Counter(tokens)"
      ],
      "metadata": {
        "id": "x5dpWXg7F2FW"
      },
      "execution_count": 50,
      "outputs": []
    },
    {
      "cell_type": "code",
      "source": [
        "import requests"
      ],
      "metadata": {
        "id": "ZhFFeqiwF20y"
      },
      "execution_count": 51,
      "outputs": []
    },
    {
      "cell_type": "code",
      "source": [
        "url = ('https://gitlab.com/tangibleai/nlpia2/-/raw/main/src/nlpia2/ch03/bias_intro.txt')\n",
        "response = requests.get(url)"
      ],
      "metadata": {
        "id": "lgZ0N_BzF8D7"
      },
      "execution_count": 52,
      "outputs": []
    },
    {
      "cell_type": "code",
      "source": [
        "bias_intro = response.content.decode()\n",
        "bias_intro[:60]"
      ],
      "metadata": {
        "colab": {
          "base_uri": "https://localhost:8080/",
          "height": 35
        },
        "id": "mbYe2fgwGX-l",
        "outputId": "5e7b0252-a646-4bf2-eaaf-f9845b11e295"
      },
      "execution_count": 53,
      "outputs": [
        {
          "output_type": "execute_result",
          "data": {
            "text/plain": [
              "'Algorithmic bias describes systematic and repeatable errors '"
            ],
            "application/vnd.google.colaboratory.intrinsic+json": {
              "type": "string"
            }
          },
          "metadata": {},
          "execution_count": 53
        }
      ]
    },
    {
      "cell_type": "code",
      "source": [
        "tokens = [tok.text for tok in nlp(bias_intro)]\n",
        "counts = Counter(tokens)\n",
        "counts.most_common(5)"
      ],
      "metadata": {
        "colab": {
          "base_uri": "https://localhost:8080/"
        },
        "id": "Yq77-igEGbeG",
        "outputId": "dd2afc70-d308-4a4d-f21d-6eb88853d051"
      },
      "execution_count": 54,
      "outputs": [
        {
          "output_type": "execute_result",
          "data": {
            "text/plain": [
              "[(',', 35), ('of', 16), ('.', 16), ('to', 15), ('and', 14)]"
            ]
          },
          "metadata": {},
          "execution_count": 54
        }
      ]
    },
    {
      "cell_type": "code",
      "source": [
        "docs = [nlp(s) for s in bias_intro.split('\\n') if s.strip()]"
      ],
      "metadata": {
        "id": "iFxr-Jk5Gglt"
      },
      "execution_count": 55,
      "outputs": []
    },
    {
      "cell_type": "code",
      "source": [
        "counts = []\n",
        "for doc in docs:\n",
        "  counts.append(Counter([t.text.lower() for t in doc]))"
      ],
      "metadata": {
        "id": "jZp7Whp3GpzL"
      },
      "execution_count": 24,
      "outputs": []
    },
    {
      "cell_type": "code",
      "source": [
        "df = pd.DataFrame(counts)"
      ],
      "metadata": {
        "id": "V0Na5hAPHt6p"
      },
      "execution_count": 26,
      "outputs": []
    },
    {
      "cell_type": "code",
      "source": [
        "df = df.fillna(0).astype(int)"
      ],
      "metadata": {
        "id": "iYT06OJjIZFz"
      },
      "execution_count": 28,
      "outputs": []
    },
    {
      "cell_type": "code",
      "source": [
        "df.head()"
      ],
      "metadata": {
        "colab": {
          "base_uri": "https://localhost:8080/",
          "height": 300
        },
        "id": "koxHLD37IiZJ",
        "outputId": "601aa620-80de-4359-e8c1-667a02c687c4"
      },
      "execution_count": 29,
      "outputs": [
        {
          "output_type": "execute_result",
          "data": {
            "text/plain": [
              "   algorithmic  bias  describes  systematic  and  repeatable  errors  in  a  \\\n",
              "0            1     1          1           1    1           1       1   1  1   \n",
              "1            0     1          0           0    0           0       0   0  0   \n",
              "2            1     1          0           0    3           0       0   0  0   \n",
              "3            1     1          0           1    1           0       0   0  0   \n",
              "4            0     1          0           0    0           0       0   1  0   \n",
              "\n",
              "   computer  ...  there  no  examine  network  interrelated  programs  inputs  \\\n",
              "0         1  ...      0   0        0        0             0         0       0   \n",
              "1         0  ...      0   0        0        0             0         0       0   \n",
              "2         0  ...      0   0        0        0             0         0       0   \n",
              "3         0  ...      0   0        0        0             0         0       0   \n",
              "4         0  ...      0   0        0        0             0         0       0   \n",
              "\n",
              "   between  same  service  \n",
              "0        0     0        0  \n",
              "1        0     0        0  \n",
              "2        0     0        0  \n",
              "3        0     0        0  \n",
              "4        0     0        0  \n",
              "\n",
              "[5 rows x 246 columns]"
            ],
            "text/html": [
              "\n",
              "  <div id=\"df-51038926-35e6-4d5e-adbf-6d378168b7c3\">\n",
              "    <div class=\"colab-df-container\">\n",
              "      <div>\n",
              "<style scoped>\n",
              "    .dataframe tbody tr th:only-of-type {\n",
              "        vertical-align: middle;\n",
              "    }\n",
              "\n",
              "    .dataframe tbody tr th {\n",
              "        vertical-align: top;\n",
              "    }\n",
              "\n",
              "    .dataframe thead th {\n",
              "        text-align: right;\n",
              "    }\n",
              "</style>\n",
              "<table border=\"1\" class=\"dataframe\">\n",
              "  <thead>\n",
              "    <tr style=\"text-align: right;\">\n",
              "      <th></th>\n",
              "      <th>algorithmic</th>\n",
              "      <th>bias</th>\n",
              "      <th>describes</th>\n",
              "      <th>systematic</th>\n",
              "      <th>and</th>\n",
              "      <th>repeatable</th>\n",
              "      <th>errors</th>\n",
              "      <th>in</th>\n",
              "      <th>a</th>\n",
              "      <th>computer</th>\n",
              "      <th>...</th>\n",
              "      <th>there</th>\n",
              "      <th>no</th>\n",
              "      <th>examine</th>\n",
              "      <th>network</th>\n",
              "      <th>interrelated</th>\n",
              "      <th>programs</th>\n",
              "      <th>inputs</th>\n",
              "      <th>between</th>\n",
              "      <th>same</th>\n",
              "      <th>service</th>\n",
              "    </tr>\n",
              "  </thead>\n",
              "  <tbody>\n",
              "    <tr>\n",
              "      <th>0</th>\n",
              "      <td>1</td>\n",
              "      <td>1</td>\n",
              "      <td>1</td>\n",
              "      <td>1</td>\n",
              "      <td>1</td>\n",
              "      <td>1</td>\n",
              "      <td>1</td>\n",
              "      <td>1</td>\n",
              "      <td>1</td>\n",
              "      <td>1</td>\n",
              "      <td>...</td>\n",
              "      <td>0</td>\n",
              "      <td>0</td>\n",
              "      <td>0</td>\n",
              "      <td>0</td>\n",
              "      <td>0</td>\n",
              "      <td>0</td>\n",
              "      <td>0</td>\n",
              "      <td>0</td>\n",
              "      <td>0</td>\n",
              "      <td>0</td>\n",
              "    </tr>\n",
              "    <tr>\n",
              "      <th>1</th>\n",
              "      <td>0</td>\n",
              "      <td>1</td>\n",
              "      <td>0</td>\n",
              "      <td>0</td>\n",
              "      <td>0</td>\n",
              "      <td>0</td>\n",
              "      <td>0</td>\n",
              "      <td>0</td>\n",
              "      <td>0</td>\n",
              "      <td>0</td>\n",
              "      <td>...</td>\n",
              "      <td>0</td>\n",
              "      <td>0</td>\n",
              "      <td>0</td>\n",
              "      <td>0</td>\n",
              "      <td>0</td>\n",
              "      <td>0</td>\n",
              "      <td>0</td>\n",
              "      <td>0</td>\n",
              "      <td>0</td>\n",
              "      <td>0</td>\n",
              "    </tr>\n",
              "    <tr>\n",
              "      <th>2</th>\n",
              "      <td>1</td>\n",
              "      <td>1</td>\n",
              "      <td>0</td>\n",
              "      <td>0</td>\n",
              "      <td>3</td>\n",
              "      <td>0</td>\n",
              "      <td>0</td>\n",
              "      <td>0</td>\n",
              "      <td>0</td>\n",
              "      <td>0</td>\n",
              "      <td>...</td>\n",
              "      <td>0</td>\n",
              "      <td>0</td>\n",
              "      <td>0</td>\n",
              "      <td>0</td>\n",
              "      <td>0</td>\n",
              "      <td>0</td>\n",
              "      <td>0</td>\n",
              "      <td>0</td>\n",
              "      <td>0</td>\n",
              "      <td>0</td>\n",
              "    </tr>\n",
              "    <tr>\n",
              "      <th>3</th>\n",
              "      <td>1</td>\n",
              "      <td>1</td>\n",
              "      <td>0</td>\n",
              "      <td>1</td>\n",
              "      <td>1</td>\n",
              "      <td>0</td>\n",
              "      <td>0</td>\n",
              "      <td>0</td>\n",
              "      <td>0</td>\n",
              "      <td>0</td>\n",
              "      <td>...</td>\n",
              "      <td>0</td>\n",
              "      <td>0</td>\n",
              "      <td>0</td>\n",
              "      <td>0</td>\n",
              "      <td>0</td>\n",
              "      <td>0</td>\n",
              "      <td>0</td>\n",
              "      <td>0</td>\n",
              "      <td>0</td>\n",
              "      <td>0</td>\n",
              "    </tr>\n",
              "    <tr>\n",
              "      <th>4</th>\n",
              "      <td>0</td>\n",
              "      <td>1</td>\n",
              "      <td>0</td>\n",
              "      <td>0</td>\n",
              "      <td>0</td>\n",
              "      <td>0</td>\n",
              "      <td>0</td>\n",
              "      <td>1</td>\n",
              "      <td>0</td>\n",
              "      <td>0</td>\n",
              "      <td>...</td>\n",
              "      <td>0</td>\n",
              "      <td>0</td>\n",
              "      <td>0</td>\n",
              "      <td>0</td>\n",
              "      <td>0</td>\n",
              "      <td>0</td>\n",
              "      <td>0</td>\n",
              "      <td>0</td>\n",
              "      <td>0</td>\n",
              "      <td>0</td>\n",
              "    </tr>\n",
              "  </tbody>\n",
              "</table>\n",
              "<p>5 rows × 246 columns</p>\n",
              "</div>\n",
              "      <button class=\"colab-df-convert\" onclick=\"convertToInteractive('df-51038926-35e6-4d5e-adbf-6d378168b7c3')\"\n",
              "              title=\"Convert this dataframe to an interactive table.\"\n",
              "              style=\"display:none;\">\n",
              "        \n",
              "  <svg xmlns=\"http://www.w3.org/2000/svg\" height=\"24px\"viewBox=\"0 0 24 24\"\n",
              "       width=\"24px\">\n",
              "    <path d=\"M0 0h24v24H0V0z\" fill=\"none\"/>\n",
              "    <path d=\"M18.56 5.44l.94 2.06.94-2.06 2.06-.94-2.06-.94-.94-2.06-.94 2.06-2.06.94zm-11 1L8.5 8.5l.94-2.06 2.06-.94-2.06-.94L8.5 2.5l-.94 2.06-2.06.94zm10 10l.94 2.06.94-2.06 2.06-.94-2.06-.94-.94-2.06-.94 2.06-2.06.94z\"/><path d=\"M17.41 7.96l-1.37-1.37c-.4-.4-.92-.59-1.43-.59-.52 0-1.04.2-1.43.59L10.3 9.45l-7.72 7.72c-.78.78-.78 2.05 0 2.83L4 21.41c.39.39.9.59 1.41.59.51 0 1.02-.2 1.41-.59l7.78-7.78 2.81-2.81c.8-.78.8-2.07 0-2.86zM5.41 20L4 18.59l7.72-7.72 1.47 1.35L5.41 20z\"/>\n",
              "  </svg>\n",
              "      </button>\n",
              "      \n",
              "  <style>\n",
              "    .colab-df-container {\n",
              "      display:flex;\n",
              "      flex-wrap:wrap;\n",
              "      gap: 12px;\n",
              "    }\n",
              "\n",
              "    .colab-df-convert {\n",
              "      background-color: #E8F0FE;\n",
              "      border: none;\n",
              "      border-radius: 50%;\n",
              "      cursor: pointer;\n",
              "      display: none;\n",
              "      fill: #1967D2;\n",
              "      height: 32px;\n",
              "      padding: 0 0 0 0;\n",
              "      width: 32px;\n",
              "    }\n",
              "\n",
              "    .colab-df-convert:hover {\n",
              "      background-color: #E2EBFA;\n",
              "      box-shadow: 0px 1px 2px rgba(60, 64, 67, 0.3), 0px 1px 3px 1px rgba(60, 64, 67, 0.15);\n",
              "      fill: #174EA6;\n",
              "    }\n",
              "\n",
              "    [theme=dark] .colab-df-convert {\n",
              "      background-color: #3B4455;\n",
              "      fill: #D2E3FC;\n",
              "    }\n",
              "\n",
              "    [theme=dark] .colab-df-convert:hover {\n",
              "      background-color: #434B5C;\n",
              "      box-shadow: 0px 1px 3px 1px rgba(0, 0, 0, 0.15);\n",
              "      filter: drop-shadow(0px 1px 2px rgba(0, 0, 0, 0.3));\n",
              "      fill: #FFFFFF;\n",
              "    }\n",
              "  </style>\n",
              "\n",
              "      <script>\n",
              "        const buttonEl =\n",
              "          document.querySelector('#df-51038926-35e6-4d5e-adbf-6d378168b7c3 button.colab-df-convert');\n",
              "        buttonEl.style.display =\n",
              "          google.colab.kernel.accessAllowed ? 'block' : 'none';\n",
              "\n",
              "        async function convertToInteractive(key) {\n",
              "          const element = document.querySelector('#df-51038926-35e6-4d5e-adbf-6d378168b7c3');\n",
              "          const dataTable =\n",
              "            await google.colab.kernel.invokeFunction('convertToInteractive',\n",
              "                                                     [key], {});\n",
              "          if (!dataTable) return;\n",
              "\n",
              "          const docLinkHtml = 'Like what you see? Visit the ' +\n",
              "            '<a target=\"_blank\" href=https://colab.research.google.com/notebooks/data_table.ipynb>data table notebook</a>'\n",
              "            + ' to learn more about interactive tables.';\n",
              "          element.innerHTML = '';\n",
              "          dataTable['output_type'] = 'display_data';\n",
              "          await google.colab.output.renderOutput(dataTable, element);\n",
              "          const docLink = document.createElement('div');\n",
              "          docLink.innerHTML = docLinkHtml;\n",
              "          element.appendChild(docLink);\n",
              "        }\n",
              "      </script>\n",
              "    </div>\n",
              "  </div>\n",
              "  "
            ]
          },
          "metadata": {},
          "execution_count": 29
        }
      ]
    },
    {
      "cell_type": "code",
      "source": [
        "docs = list(nlp(bias_intro).sents)"
      ],
      "metadata": {
        "id": "w9oATtEBInp2"
      },
      "execution_count": 31,
      "outputs": []
    },
    {
      "cell_type": "code",
      "source": [
        "counts = []\n",
        "for doc in docs:\n",
        "  counts.append(Counter([t.text.lower() for t in doc]))"
      ],
      "metadata": {
        "id": "CLIzIgS3IsIt"
      },
      "execution_count": 32,
      "outputs": []
    },
    {
      "cell_type": "code",
      "source": [
        "df = pd.DataFrame(counts)\n",
        "df = df.fillna(0).astype(int)"
      ],
      "metadata": {
        "id": "7jCT18_gJGK5"
      },
      "execution_count": 33,
      "outputs": []
    },
    {
      "cell_type": "code",
      "source": [
        "docs_tokens = []\n",
        "for doc_text in docs:\n",
        "  doc_text = doc_text.text.lower()\n",
        "  docs_tokens.append([tok.text for tok in nlp(doc_text)])\n"
      ],
      "metadata": {
        "id": "rxbt3SNxJKaH"
      },
      "execution_count": 35,
      "outputs": []
    },
    {
      "cell_type": "code",
      "source": [
        "all_doc_tokens = []\n",
        "for doc_tokens in docs_tokens:\n",
        "  all_doc_tokens.extend(doc_tokens)\n"
      ],
      "metadata": {
        "id": "Fb0RYRevJfEi"
      },
      "execution_count": 44,
      "outputs": []
    },
    {
      "cell_type": "code",
      "source": [
        "vocab = sorted(set(all_doc_tokens))\n"
      ],
      "metadata": {
        "id": "rRUIbQT4Klrp"
      },
      "execution_count": 46,
      "outputs": []
    },
    {
      "cell_type": "code",
      "source": [
        "lexicon = vocab[9:]"
      ],
      "metadata": {
        "id": "1rNaMzAMNXYg"
      },
      "execution_count": 59,
      "outputs": []
    },
    {
      "cell_type": "code",
      "source": [
        "from collections import OrderedDict\n",
        "zero_vector = OrderedDict((token, 0) for token in lexicon)\n"
      ],
      "metadata": {
        "id": "rGnXiXURKvog"
      },
      "execution_count": 60,
      "outputs": []
    },
    {
      "cell_type": "code",
      "source": [
        "zero_vector"
      ],
      "metadata": {
        "colab": {
          "base_uri": "https://localhost:8080/"
        },
        "id": "DVf65znWLNP5",
        "outputId": "75f35c63-f92a-4e18-8b8f-2d086f24ca78"
      },
      "execution_count": 61,
      "outputs": [
        {
          "output_type": "execute_result",
          "data": {
            "text/plain": [
              "OrderedDict([('a', 0),\n",
              "             ('ability', 0),\n",
              "             ('accurately', 0),\n",
              "             ('across', 0),\n",
              "             ('addressed', 0),\n",
              "             ('advanced', 0),\n",
              "             ('algorithm', 0),\n",
              "             ('algorithmic', 0),\n",
              "             ('algorithms', 0),\n",
              "             ('also', 0),\n",
              "             ('an', 0),\n",
              "             ('analysis', 0),\n",
              "             ('and', 0),\n",
              "             ('anticipated', 0),\n",
              "             ('application', 0),\n",
              "             ('arbitrary', 0),\n",
              "             ('are', 0),\n",
              "             ('arisen', 0),\n",
              "             ('arrests', 0),\n",
              "             ('as', 0),\n",
              "             ('audiences', 0),\n",
              "             ('authority', 0),\n",
              "             ('barrier', 0),\n",
              "             ('be', 0),\n",
              "             ('because', 0),\n",
              "             ('become', 0),\n",
              "             ('been', 0),\n",
              "             ('behavior', 0),\n",
              "             ('being', 0),\n",
              "             ('between', 0),\n",
              "             ('bias', 0),\n",
              "             ('biases', 0),\n",
              "             ('but', 0),\n",
              "             ('by', 0),\n",
              "             ('can', 0),\n",
              "             ('cases', 0),\n",
              "             ('certain', 0),\n",
              "             ('change', 0),\n",
              "             ('cited', 0),\n",
              "             ('coded', 0),\n",
              "             ('collected', 0),\n",
              "             ('color', 0),\n",
              "             ('complexity', 0),\n",
              "             ('compounding', 0),\n",
              "             ('comprehensive', 0),\n",
              "             ('computer', 0),\n",
              "             ('concerned', 0),\n",
              "             ('considered', 0),\n",
              "             ('contexts', 0),\n",
              "             ('create', 0),\n",
              "             ('criminal', 0),\n",
              "             ('cultural', 0),\n",
              "             ('darker', 0),\n",
              "             ('data', 0),\n",
              "             ('datasets', 0),\n",
              "             ('decisions', 0),\n",
              "             ('describes', 0),\n",
              "             ('design', 0),\n",
              "             ('discovering', 0),\n",
              "             ('discrimination', 0),\n",
              "             ('displace', 0),\n",
              "             ('due', 0),\n",
              "             ('easily', 0),\n",
              "             ('economic', 0),\n",
              "             ('election', 0),\n",
              "             ('emerge', 0),\n",
              "             ('emerging', 0),\n",
              "             ('engine', 0),\n",
              "             ('enter', 0),\n",
              "             ('errors', 0),\n",
              "             ('ethnicity', 0),\n",
              "             ('european', 0),\n",
              "             ('even', 0),\n",
              "             ('examine', 0),\n",
              "             ('existing', 0),\n",
              "             ('expand', 0),\n",
              "             ('expectations', 0),\n",
              "             ('expertise', 0),\n",
              "             ('faces', 0),\n",
              "             ('facial', 0),\n",
              "             ('factors', 0),\n",
              "             ('for', 0),\n",
              "             ('found', 0),\n",
              "             ('frameworks', 0),\n",
              "             ('from', 0),\n",
              "             ('full', 0),\n",
              "             ('functioning', 0),\n",
              "             ('furthermore', 0),\n",
              "             ('gender', 0),\n",
              "             ('general', 0),\n",
              "             ('greater', 0),\n",
              "             ('group', 0),\n",
              "             ('has', 0),\n",
              "             ('hate', 0),\n",
              "             ('have', 0),\n",
              "             ('healthcare', 0),\n",
              "             ('hiring', 0),\n",
              "             ('human', 0),\n",
              "             ('identify', 0),\n",
              "             ('imbalanced', 0),\n",
              "             ('impact', 0),\n",
              "             ('impacts', 0),\n",
              "             ('in', 0),\n",
              "             ('inability', 0),\n",
              "             ('inaccurately', 0),\n",
              "             ('inadvertent', 0),\n",
              "             ('including', 0),\n",
              "             ('increasingly', 0),\n",
              "             ('initial', 0),\n",
              "             ('input', 0),\n",
              "             ('inputs', 0),\n",
              "             ('institutional', 0),\n",
              "             ('institutions', 0),\n",
              "             ('interrelated', 0),\n",
              "             ('into', 0),\n",
              "             ('is', 0),\n",
              "             ('issue', 0),\n",
              "             ('it', 0),\n",
              "             ('justice', 0),\n",
              "             ('legal', 0),\n",
              "             ('limitations', 0),\n",
              "             ('limited', 0),\n",
              "             ('linked', 0),\n",
              "             ('manipulation', 0),\n",
              "             ('many', 0),\n",
              "             ('may', 0),\n",
              "             ('media', 0),\n",
              "             ('men', 0),\n",
              "             ('more', 0),\n",
              "             ('most', 0),\n",
              "             ('multiple', 0),\n",
              "             ('nature', 0),\n",
              "             ('needed', 0),\n",
              "             ('network', 0),\n",
              "             ('neutral', 0),\n",
              "             ('no', 0),\n",
              "             ('not', 0),\n",
              "             ('of', 0),\n",
              "             ('often', 0),\n",
              "             ('on', 0),\n",
              "             ('one', 0),\n",
              "             ('online', 0),\n",
              "             ('only', 0),\n",
              "             ('opaque', 0),\n",
              "             ('or', 0),\n",
              "             ('organize', 0),\n",
              "             ('others', 0),\n",
              "             ('outcomes', 0),\n",
              "             ('output', 0),\n",
              "             ('over', 0),\n",
              "             ('persist', 0),\n",
              "             ('physical', 0),\n",
              "             ('platforms', 0),\n",
              "             ('politics', 0),\n",
              "             ('poses', 0),\n",
              "             ('pre', 0),\n",
              "             ('privacy', 0),\n",
              "             ('privileging', 0),\n",
              "             ('problems', 0),\n",
              "             ('programs', 0),\n",
              "             ('project', 0),\n",
              "             ('proprietary', 0),\n",
              "             ('protection', 0),\n",
              "             ('provided', 0),\n",
              "             ('race', 0),\n",
              "             ('racial', 0),\n",
              "             ('ranging', 0),\n",
              "             ('recently', 0),\n",
              "             ('recognition', 0),\n",
              "             ('reflect', 0),\n",
              "             ('regulation', 0),\n",
              "             ('reinforcing', 0),\n",
              "             ('relating', 0),\n",
              "             ('relative', 0),\n",
              "             ('reliance', 0),\n",
              "             ('repeatable', 0),\n",
              "             ('reproduced', 0),\n",
              "             ('researching', 0),\n",
              "             ('respond', 0),\n",
              "             ('responsibility', 0),\n",
              "             ('result', 0),\n",
              "             ('results', 0),\n",
              "             ('same', 0),\n",
              "             ('search', 0),\n",
              "             ('secrets', 0),\n",
              "             ('selected', 0),\n",
              "             ('service', 0),\n",
              "             ('sexuality', 0),\n",
              "             ('single', 0),\n",
              "             ('skinned', 0),\n",
              "             ('social', 0),\n",
              "             ('society', 0),\n",
              "             ('sociologists', 0),\n",
              "             ('software', 0),\n",
              "             ('some', 0),\n",
              "             ('speech', 0),\n",
              "             ('spread', 0),\n",
              "             ('stemming', 0),\n",
              "             ('study', 0),\n",
              "             ('such', 0),\n",
              "             ('system', 0),\n",
              "             ('systematic', 0),\n",
              "             ('systems', 0),\n",
              "             ('technical', 0),\n",
              "             ('technologies', 0),\n",
              "             ('technology', 0),\n",
              "             ('than', 0),\n",
              "             ('that', 0),\n",
              "             ('the', 0),\n",
              "             ('their', 0),\n",
              "             ('there', 0),\n",
              "             ('they', 0),\n",
              "             ('this', 0),\n",
              "             ('to', 0),\n",
              "             ('trade', 0),\n",
              "             ('train', 0),\n",
              "             ('transparency', 0),\n",
              "             ('treated', 0),\n",
              "             ('typically', 0),\n",
              "             ('unanticipated', 0),\n",
              "             ('unbiased', 0),\n",
              "             ('understanding', 0),\n",
              "             ('unfair', 0),\n",
              "             ('unintended', 0),\n",
              "             ('union', 0),\n",
              "             ('use', 0),\n",
              "             ('used', 0),\n",
              "             ('users', 0),\n",
              "             ('violations', 0),\n",
              "             ('way', 0),\n",
              "             ('ways', 0),\n",
              "             ('website', 0),\n",
              "             ('when', 0),\n",
              "             ('which', 0),\n",
              "             ('who', 0),\n",
              "             ('with', 0),\n",
              "             ('within', 0),\n",
              "             ('world', 0),\n",
              "             ('wrongful', 0)])"
            ]
          },
          "metadata": {},
          "execution_count": 61
        }
      ]
    },
    {
      "cell_type": "code",
      "source": [
        "import copy\n",
        "doc_vectors = []\n",
        "for doc in docs:\n",
        "  vec = copy.copy(zero_vector)\n",
        "  tokens = [token.text for token in nlp(doc.text.lower())]\n",
        "  token_counts = Counter(tokens)\n",
        "  for key, value in token_counts.items():\n",
        "    vec[key] = value / len(lexicon)\n",
        "  doc_vectors.append(vec)"
      ],
      "metadata": {
        "id": "dpa-0MkkLuo3"
      },
      "execution_count": 63,
      "outputs": []
    },
    {
      "cell_type": "code",
      "source": [
        "from sklearn.feature_extraction.text import CountVectorizer\n",
        "corpus = docs\n",
        "vectorizer = CountVectorizer()\n"
      ],
      "metadata": {
        "id": "rFMzwG1SOA5j"
      },
      "execution_count": 67,
      "outputs": []
    },
    {
      "cell_type": "code",
      "source": [
        "corpus = [doc for doc in corpus]\n",
        "count_vectors = vectorizer.fit_transform(corpus)"
      ],
      "metadata": {
        "id": "zV9Lujs8OZsI"
      },
      "execution_count": 74,
      "outputs": []
    },
    {
      "cell_type": "code",
      "source": [
        "print(count_vectors.toarray())"
      ],
      "metadata": {
        "colab": {
          "base_uri": "https://localhost:8080/"
        },
        "id": "PeTxdpdKOCOL",
        "outputId": "2efb51d4-89cf-46d4-da56-9f0573740482"
      },
      "execution_count": 75,
      "outputs": [
        {
          "output_type": "stream",
          "name": "stdout",
          "text": [
            "[[0 0 0 ... 0 0 0]\n",
            " [0 0 0 ... 0 0 0]\n",
            " [0 0 0 ... 0 0 0]\n",
            " ...\n",
            " [0 0 0 ... 0 0 0]\n",
            " [0 0 0 ... 0 0 0]\n",
            " [0 0 0 ... 1 0 0]]\n"
          ]
        }
      ]
    },
    {
      "cell_type": "code",
      "source": [
        "import numpy as np\n",
        "v1 = np.array(list(range(5)))\n",
        "v2 = pd.Series(reversed(range(5)))\n",
        "slow_answer = sum([4.2 * (x1 * x2) for x1, x2 in zip(v1, v2)])\n",
        "slow_answer"
      ],
      "metadata": {
        "colab": {
          "base_uri": "https://localhost:8080/"
        },
        "id": "RiAMQi6ZQcmO",
        "outputId": "d27d9648-d5f3-4b8e-851e-cac665f31e99"
      },
      "execution_count": 77,
      "outputs": [
        {
          "output_type": "execute_result",
          "data": {
            "text/plain": [
              "42.0"
            ]
          },
          "metadata": {},
          "execution_count": 77
        }
      ]
    },
    {
      "cell_type": "code",
      "source": [
        "import math\n",
        "def cosine_sim(vec1, vec2):\n",
        "  vec1 = [val for val in vec1.values()]\n",
        "  vec2 = [val for val in vec2.values()]\n",
        "\n",
        "  dot_prod = 0\n",
        "  for i, v in enumerate(vec1):\n",
        "    dot_prod += v * vec2[i]\n",
        "\n",
        "  mag_1 = math.sqrt(sum([x**2 for x in vec1]))\n",
        "  mag_2 = math.sqrt(sum([x**2 for x in vec2]))\n",
        "\n",
        "  return dot_prod / (mag_1 * mag_2)"
      ],
      "metadata": {
        "id": "pSjWVLwlQ_6x"
      },
      "execution_count": 79,
      "outputs": []
    },
    {
      "cell_type": "code",
      "source": [
        "from this import s\n",
        "\n",
        "print(s)"
      ],
      "metadata": {
        "colab": {
          "base_uri": "https://localhost:8080/"
        },
        "id": "WZyv-h_PT4V2",
        "outputId": "229af830-9c3a-48e6-c8c0-cecd7a82365e"
      },
      "execution_count": 80,
      "outputs": [
        {
          "output_type": "stream",
          "name": "stdout",
          "text": [
            "The Zen of Python, by Tim Peters\n",
            "\n",
            "Beautiful is better than ugly.\n",
            "Explicit is better than implicit.\n",
            "Simple is better than complex.\n",
            "Complex is better than complicated.\n",
            "Flat is better than nested.\n",
            "Sparse is better than dense.\n",
            "Readability counts.\n",
            "Special cases aren't special enough to break the rules.\n",
            "Although practicality beats purity.\n",
            "Errors should never pass silently.\n",
            "Unless explicitly silenced.\n",
            "In the face of ambiguity, refuse the temptation to guess.\n",
            "There should be one-- and preferably only one --obvious way to do it.\n",
            "Although that way may not be obvious at first unless you're Dutch.\n",
            "Now is better than never.\n",
            "Although never is often better than *right* now.\n",
            "If the implementation is hard to explain, it's a bad idea.\n",
            "If the implementation is easy to explain, it may be a good idea.\n",
            "Namespaces are one honking great idea -- let's do more of those!\n",
            "Gur Mra bs Clguba, ol Gvz Crgref\n",
            "\n",
            "Ornhgvshy vf orggre guna htyl.\n",
            "Rkcyvpvg vf orggre guna vzcyvpvg.\n",
            "Fvzcyr vf orggre guna pbzcyrk.\n",
            "Pbzcyrk vf orggre guna pbzcyvpngrq.\n",
            "Syng vf orggre guna arfgrq.\n",
            "Fcnefr vf orggre guna qrafr.\n",
            "Ernqnovyvgl pbhagf.\n",
            "Fcrpvny pnfrf nera'g fcrpvny rabhtu gb oernx gur ehyrf.\n",
            "Nygubhtu cenpgvpnyvgl orngf chevgl.\n",
            "Reebef fubhyq arire cnff fvyragyl.\n",
            "Hayrff rkcyvpvgyl fvyraprq.\n",
            "Va gur snpr bs nzovthvgl, ershfr gur grzcgngvba gb thrff.\n",
            "Gurer fubhyq or bar-- naq cersrenoyl bayl bar --boivbhf jnl gb qb vg.\n",
            "Nygubhtu gung jnl znl abg or boivbhf ng svefg hayrff lbh'er Qhgpu.\n",
            "Abj vf orggre guna arire.\n",
            "Nygubhtu arire vf bsgra orggre guna *evtug* abj.\n",
            "Vs gur vzcyrzragngvba vf uneq gb rkcynva, vg'f n onq vqrn.\n",
            "Vs gur vzcyrzragngvba vf rnfl gb rkcynva, vg znl or n tbbq vqrn.\n",
            "Anzrfcnprf ner bar ubaxvat terng vqrn -- yrg'f qb zber bs gubfr!\n"
          ]
        }
      ]
    },
    {
      "cell_type": "code",
      "source": [
        "import this as a\n"
      ],
      "metadata": {
        "id": "gMqLJTdcUiHM"
      },
      "execution_count": 81,
      "outputs": []
    },
    {
      "cell_type": "code",
      "source": [
        "DATA_DIR = ('https://gitlab.com/tangibleai/nlpia/-/raw/master/src/nlpia/data')\n",
        "url = DATA_DIR + '/machine_learning_full_article.txt'\n",
        "ml_text = requests.get(url).content.decode()\n",
        "ml_char_frequencies = char_vectorizer.fit_transform(ml_text)\n",
        "generate_histogram(s_char_frequencies, s_char_vectorizer)"
      ],
      "metadata": {
        "colab": {
          "base_uri": "https://localhost:8080/",
          "height": 349
        },
        "id": "f4r9fbtBUt3K",
        "outputId": "ce6e6192-f959-4c97-da0c-05878ec72984"
      },
      "execution_count": 86,
      "outputs": [
        {
          "output_type": "error",
          "ename": "ValueError",
          "evalue": "ignored",
          "traceback": [
            "\u001b[0;31m---------------------------------------------------------------------------\u001b[0m",
            "\u001b[0;31mValueError\u001b[0m                                Traceback (most recent call last)",
            "\u001b[0;32m<ipython-input-86-57c5af27d4fc>\u001b[0m in \u001b[0;36m<cell line: 4>\u001b[0;34m()\u001b[0m\n\u001b[1;32m      2\u001b[0m \u001b[0murl\u001b[0m \u001b[0;34m=\u001b[0m \u001b[0mDATA_DIR\u001b[0m \u001b[0;34m+\u001b[0m \u001b[0;34m'/machine_learning_full_article.txt'\u001b[0m\u001b[0;34m\u001b[0m\u001b[0;34m\u001b[0m\u001b[0m\n\u001b[1;32m      3\u001b[0m \u001b[0mml_text\u001b[0m \u001b[0;34m=\u001b[0m \u001b[0mrequests\u001b[0m\u001b[0;34m.\u001b[0m\u001b[0mget\u001b[0m\u001b[0;34m(\u001b[0m\u001b[0murl\u001b[0m\u001b[0;34m)\u001b[0m\u001b[0;34m.\u001b[0m\u001b[0mcontent\u001b[0m\u001b[0;34m.\u001b[0m\u001b[0mdecode\u001b[0m\u001b[0;34m(\u001b[0m\u001b[0;34m)\u001b[0m\u001b[0;34m\u001b[0m\u001b[0;34m\u001b[0m\u001b[0m\n\u001b[0;32m----> 4\u001b[0;31m \u001b[0mml_char_frequencies\u001b[0m \u001b[0;34m=\u001b[0m \u001b[0mchar_vectorizer\u001b[0m\u001b[0;34m.\u001b[0m\u001b[0mfit_transform\u001b[0m\u001b[0;34m(\u001b[0m\u001b[0mml_text\u001b[0m\u001b[0;34m)\u001b[0m\u001b[0;34m\u001b[0m\u001b[0;34m\u001b[0m\u001b[0m\n\u001b[0m\u001b[1;32m      5\u001b[0m \u001b[0mgenerate_histogram\u001b[0m\u001b[0;34m(\u001b[0m\u001b[0ms_char_frequencies\u001b[0m\u001b[0;34m,\u001b[0m \u001b[0ms_char_vectorizer\u001b[0m\u001b[0;34m)\u001b[0m\u001b[0;34m\u001b[0m\u001b[0;34m\u001b[0m\u001b[0m\n",
            "\u001b[0;32m/usr/local/lib/python3.10/dist-packages/sklearn/feature_extraction/text.py\u001b[0m in \u001b[0;36mfit_transform\u001b[0;34m(self, raw_documents, y)\u001b[0m\n\u001b[1;32m   1363\u001b[0m         \u001b[0;31m# TfidfVectorizer.\u001b[0m\u001b[0;34m\u001b[0m\u001b[0;34m\u001b[0m\u001b[0m\n\u001b[1;32m   1364\u001b[0m         \u001b[0;32mif\u001b[0m \u001b[0misinstance\u001b[0m\u001b[0;34m(\u001b[0m\u001b[0mraw_documents\u001b[0m\u001b[0;34m,\u001b[0m \u001b[0mstr\u001b[0m\u001b[0;34m)\u001b[0m\u001b[0;34m:\u001b[0m\u001b[0;34m\u001b[0m\u001b[0;34m\u001b[0m\u001b[0m\n\u001b[0;32m-> 1365\u001b[0;31m             raise ValueError(\n\u001b[0m\u001b[1;32m   1366\u001b[0m                 \u001b[0;34m\"Iterable over raw text documents expected, string object received.\"\u001b[0m\u001b[0;34m\u001b[0m\u001b[0;34m\u001b[0m\u001b[0m\n\u001b[1;32m   1367\u001b[0m             )\n",
            "\u001b[0;31mValueError\u001b[0m: Iterable over raw text documents expected, string object received."
          ]
        }
      ]
    },
    {
      "cell_type": "code",
      "source": [
        "import nltk\n",
        "nltk.download('brown')"
      ],
      "metadata": {
        "colab": {
          "base_uri": "https://localhost:8080/"
        },
        "id": "nQkBxVn5UwVe",
        "outputId": "f4307103-ff84-45ae-b858-86d2303f4cdd"
      },
      "execution_count": 1,
      "outputs": [
        {
          "output_type": "stream",
          "name": "stderr",
          "text": [
            "[nltk_data] Downloading package brown to /root/nltk_data...\n",
            "[nltk_data]   Unzipping corpora/brown.zip.\n"
          ]
        },
        {
          "output_type": "execute_result",
          "data": {
            "text/plain": [
              "True"
            ]
          },
          "metadata": {},
          "execution_count": 1
        }
      ]
    },
    {
      "cell_type": "code",
      "source": [
        "from nltk.corpus import brown"
      ],
      "metadata": {
        "id": "TRmKEWBNibdH"
      },
      "execution_count": 2,
      "outputs": []
    },
    {
      "cell_type": "code",
      "source": [
        "brown.words()[:10]"
      ],
      "metadata": {
        "id": "CYr2CgX8ifGx",
        "outputId": "e27c17ff-c696-4737-e2ab-6a8024dfcff0",
        "colab": {
          "base_uri": "https://localhost:8080/"
        }
      },
      "execution_count": 3,
      "outputs": [
        {
          "output_type": "execute_result",
          "data": {
            "text/plain": [
              "['The',\n",
              " 'Fulton',\n",
              " 'County',\n",
              " 'Grand',\n",
              " 'Jury',\n",
              " 'said',\n",
              " 'Friday',\n",
              " 'an',\n",
              " 'investigation',\n",
              " 'of']"
            ]
          },
          "metadata": {},
          "execution_count": 3
        }
      ]
    },
    {
      "cell_type": "code",
      "source": [
        "brown.tagged_words()[:5]"
      ],
      "metadata": {
        "id": "eCK0QpS9ihUa",
        "outputId": "1bf53009-ead8-4d9d-b6e8-7592ca1690b5",
        "colab": {
          "base_uri": "https://localhost:8080/"
        }
      },
      "execution_count": 4,
      "outputs": [
        {
          "output_type": "execute_result",
          "data": {
            "text/plain": [
              "[('The', 'AT'),\n",
              " ('Fulton', 'NP-TL'),\n",
              " ('County', 'NN-TL'),\n",
              " ('Grand', 'JJ-TL'),\n",
              " ('Jury', 'NN-TL')]"
            ]
          },
          "metadata": {},
          "execution_count": 4
        }
      ]
    },
    {
      "cell_type": "code",
      "source": [
        "from collections import Counter\n",
        "puncs = set((',', '.', '--', '-', '!', '?',':', ';', '``', \"''\", '(', ')', '[', ']'))"
      ],
      "metadata": {
        "id": "yftutrgSijZ5"
      },
      "execution_count": 5,
      "outputs": []
    },
    {
      "cell_type": "code",
      "source": [
        "word_list = (x.lower() for x in brown.words() if x not in puncs)\n",
        "token_counts = Counter(word_list)\n",
        "token_counts.most_common(10)"
      ],
      "metadata": {
        "id": "v5CFsAwlipVf",
        "outputId": "a4362164-c10c-48d7-ccae-c47c2a7f88b6",
        "colab": {
          "base_uri": "https://localhost:8080/"
        }
      },
      "execution_count": 6,
      "outputs": [
        {
          "output_type": "execute_result",
          "data": {
            "text/plain": [
              "[('the', 69971),\n",
              " ('of', 36412),\n",
              " ('and', 28853),\n",
              " ('to', 26158),\n",
              " ('a', 23195),\n",
              " ('in', 21337),\n",
              " ('that', 10594),\n",
              " ('is', 10109),\n",
              " ('was', 9815),\n",
              " ('he', 9548)]"
            ]
          },
          "metadata": {},
          "execution_count": 6
        }
      ]
    },
    {
      "cell_type": "code",
      "source": [
        "import pandas as pd\n",
        "import matplotlib.pyplot as plt\n",
        "import requests"
      ],
      "metadata": {
        "id": "OQGpo5LHi-QT"
      },
      "execution_count": 34,
      "outputs": []
    },
    {
      "cell_type": "code",
      "source": [
        "df = pd.read_html('https://en.wikipedia.org/wiki/List_of_United_States_cities_by_population', header=0)[4]"
      ],
      "metadata": {
        "id": "iIaIt303jU3L"
      },
      "execution_count": 29,
      "outputs": []
    },
    {
      "cell_type": "code",
      "source": [],
      "metadata": {
        "id": "LIqRBbCHjVhL"
      },
      "execution_count": 29,
      "outputs": []
    },
    {
      "cell_type": "code",
      "source": [
        "\n",
        "rankpop = df[[df.columns[0], df.columns[3]]]\n",
        "axes = rankpop.plot(style='o', logx=True, logy=True)\n",
        "xlabel = plt.xlabel('US City Rank in Population')\n",
        "ylabel = plt.ylabel('US City Population')\n",
        "plt.title('Counting People in Cities Like Counting Words in Documents')\n",
        "plt.tight_layout()\n",
        "plt.show()\n"
      ],
      "metadata": {
        "id": "TY55rEugiuyh",
        "outputId": "90f0f1fc-91ba-418a-8164-8c7e196bf91d",
        "colab": {
          "base_uri": "https://localhost:8080/",
          "height": 487
        }
      },
      "execution_count": 30,
      "outputs": [
        {
          "output_type": "display_data",
          "data": {
            "text/plain": [
              "<Figure size 640x480 with 1 Axes>"
            ],
            "image/png": "[encoded data removed]"
          },
          "metadata": {}
        }
      ]
    },
    {
      "cell_type": "code",
      "source": [
        "DATA_DIR = ('https://gitlab.com/tangibleai/nlpia/-/raw/master/src/nlpia/data')\n",
        "url = DATA_DIR + '/bias_discrimination.txt'\n",
        "bias_discrimination = requests.get(url).content.decode()\n",
        "intro_tokens = [token.text for token in nlp(bias_intro.lower())]\n",
        "disc_tokens = [token.text for token in nlp(bias_discrimination.lower())]\n",
        "intro_total = len(intro_tokens)\n",
        "intro_total"
      ],
      "metadata": {
        "id": "TQV7oArEi8TX",
        "outputId": "cd4d52b3-f680-43e1-a8e2-6859a05da035",
        "colab": {
          "base_uri": "https://localhost:8080/",
          "height": 242
        }
      },
      "execution_count": 35,
      "outputs": [
        {
          "output_type": "error",
          "ename": "NameError",
          "evalue": "ignored",
          "traceback": [
            "\u001b[0;31m---------------------------------------------------------------------------\u001b[0m",
            "\u001b[0;31mNameError\u001b[0m                                 Traceback (most recent call last)",
            "\u001b[0;32m<ipython-input-35-30c44d07f38c>\u001b[0m in \u001b[0;36m<cell line: 4>\u001b[0;34m()\u001b[0m\n\u001b[1;32m      2\u001b[0m \u001b[0murl\u001b[0m \u001b[0;34m=\u001b[0m \u001b[0mDATA_DIR\u001b[0m \u001b[0;34m+\u001b[0m \u001b[0;34m'/bias_discrimination.txt'\u001b[0m\u001b[0;34m\u001b[0m\u001b[0;34m\u001b[0m\u001b[0m\n\u001b[1;32m      3\u001b[0m \u001b[0mbias_discrimination\u001b[0m \u001b[0;34m=\u001b[0m \u001b[0mrequests\u001b[0m\u001b[0;34m.\u001b[0m\u001b[0mget\u001b[0m\u001b[0;34m(\u001b[0m\u001b[0murl\u001b[0m\u001b[0;34m)\u001b[0m\u001b[0;34m.\u001b[0m\u001b[0mcontent\u001b[0m\u001b[0;34m.\u001b[0m\u001b[0mdecode\u001b[0m\u001b[0;34m(\u001b[0m\u001b[0;34m)\u001b[0m\u001b[0;34m\u001b[0m\u001b[0;34m\u001b[0m\u001b[0m\n\u001b[0;32m----> 4\u001b[0;31m \u001b[0mintro_tokens\u001b[0m \u001b[0;34m=\u001b[0m \u001b[0;34m[\u001b[0m\u001b[0mtoken\u001b[0m\u001b[0;34m.\u001b[0m\u001b[0mtext\u001b[0m \u001b[0;32mfor\u001b[0m \u001b[0mtoken\u001b[0m \u001b[0;32min\u001b[0m \u001b[0mnlp\u001b[0m\u001b[0;34m(\u001b[0m\u001b[0mbias_intro\u001b[0m\u001b[0;34m.\u001b[0m\u001b[0mlower\u001b[0m\u001b[0;34m(\u001b[0m\u001b[0;34m)\u001b[0m\u001b[0;34m)\u001b[0m\u001b[0;34m]\u001b[0m\u001b[0;34m\u001b[0m\u001b[0;34m\u001b[0m\u001b[0m\n\u001b[0m\u001b[1;32m      5\u001b[0m \u001b[0mdisc_tokens\u001b[0m \u001b[0;34m=\u001b[0m \u001b[0;34m[\u001b[0m\u001b[0mtoken\u001b[0m\u001b[0;34m.\u001b[0m\u001b[0mtext\u001b[0m \u001b[0;32mfor\u001b[0m \u001b[0mtoken\u001b[0m \u001b[0;32min\u001b[0m \u001b[0mnlp\u001b[0m\u001b[0;34m(\u001b[0m\u001b[0mbias_discrimination\u001b[0m\u001b[0;34m.\u001b[0m\u001b[0mlower\u001b[0m\u001b[0;34m(\u001b[0m\u001b[0;34m)\u001b[0m\u001b[0;34m)\u001b[0m\u001b[0;34m]\u001b[0m\u001b[0;34m\u001b[0m\u001b[0;34m\u001b[0m\u001b[0m\n\u001b[1;32m      6\u001b[0m \u001b[0mintro_total\u001b[0m \u001b[0;34m=\u001b[0m \u001b[0mlen\u001b[0m\u001b[0;34m(\u001b[0m\u001b[0mintro_tokens\u001b[0m\u001b[0;34m)\u001b[0m\u001b[0;34m\u001b[0m\u001b[0;34m\u001b[0m\u001b[0m\n",
            "\u001b[0;31mNameError\u001b[0m: name 'nlp' is not defined"
          ]
        }
      ]
    },
    {
      "cell_type": "code",
      "source": [
        "from sklearn.feature_extraction.text import TfidfVectorizer"
      ],
      "metadata": {
        "id": "2zcMbIkBkGSb"
      },
      "execution_count": 36,
      "outputs": []
    },
    {
      "cell_type": "code",
      "source": [
        "corpus = [doc.text for doc in corpus]"
      ],
      "metadata": {
        "id": "Yarp4RLXk6rc"
      },
      "execution_count": 58,
      "outputs": []
    },
    {
      "cell_type": "code",
      "source": [
        "vectorizer = TfidfVectorizer(min_df=1)\n",
        "model = vectorizer.fit_transform(corpus)\n",
        "print(model.todense().round(2))"
      ],
      "metadata": {
        "id": "F4GqP8tBk8ID",
        "outputId": "21ede3fb-6fc4-4ba3-cfb7-b8e1ab4fb7cd",
        "colab": {
          "base_uri": "https://localhost:8080/"
        }
      },
      "execution_count": 59,
      "outputs": [
        {
          "output_type": "stream",
          "name": "stdout",
          "text": [
            "[[0.   0.   0.   ... 0.   0.   0.  ]\n",
            " [0.   0.   0.   ... 0.   0.   0.  ]\n",
            " [0.   0.   0.   ... 0.   0.   0.  ]\n",
            " ...\n",
            " [0.   0.   0.   ... 0.   0.   0.  ]\n",
            " [0.   0.   0.   ... 0.   0.   0.  ]\n",
            " [0.   0.   0.   ... 0.19 0.   0.  ]]\n"
          ]
        }
      ]
    },
    {
      "cell_type": "code",
      "source": [
        "DS_FAQ_URL = ('https://gitlab.com/tangibleai/qary/-/raw/main/src/qary/data/faq/faq-python-data-science-cleaned.csv')"
      ],
      "metadata": {
        "id": "eKvXFhPIle9R"
      },
      "execution_count": 62,
      "outputs": []
    },
    {
      "cell_type": "code",
      "source": [
        "qa_dataset = pd.read_csv(DS_FAQ_URL)"
      ],
      "metadata": {
        "id": "39mj1Rp8p2PT"
      },
      "execution_count": 63,
      "outputs": []
    },
    {
      "cell_type": "code",
      "source": [
        "qa_dataset"
      ],
      "metadata": {
        "id": "ctjvcfVgp35P",
        "outputId": "6e254469-3139-406d-f73a-2bb759fb3fcf",
        "colab": {
          "base_uri": "https://localhost:8080/",
          "height": 112
        }
      },
      "execution_count": 65,
      "outputs": [
        {
          "output_type": "execute_result",
          "data": {
            "text/plain": [
              "                                           question   \\\n",
              "0  How to detect outliers in a data set and how t...   \n",
              "1            What is a static model or distribution?   \n",
              "\n",
              "                                              answer  \n",
              "0  Like other pipeline design challenges, I do ou...  \n",
              "1  A probability distribution or model whose unde...  "
            ],
            "text/html": [
              "\n",
              "  <div id=\"df-8d0b3323-c9f2-4337-ab56-1546eddc38f7\">\n",
              "    <div class=\"colab-df-container\">\n",
              "      <div>\n",
              "<style scoped>\n",
              "    .dataframe tbody tr th:only-of-type {\n",
              "        vertical-align: middle;\n",
              "    }\n",
              "\n",
              "    .dataframe tbody tr th {\n",
              "        vertical-align: top;\n",
              "    }\n",
              "\n",
              "    .dataframe thead th {\n",
              "        text-align: right;\n",
              "    }\n",
              "</style>\n",
              "<table border=\"1\" class=\"dataframe\">\n",
              "  <thead>\n",
              "    <tr style=\"text-align: right;\">\n",
              "      <th></th>\n",
              "      <th>question</th>\n",
              "      <th>answer</th>\n",
              "    </tr>\n",
              "  </thead>\n",
              "  <tbody>\n",
              "    <tr>\n",
              "      <th>0</th>\n",
              "      <td>How to detect outliers in a data set and how t...</td>\n",
              "      <td>Like other pipeline design challenges, I do ou...</td>\n",
              "    </tr>\n",
              "    <tr>\n",
              "      <th>1</th>\n",
              "      <td>What is a static model or distribution?</td>\n",
              "      <td>A probability distribution or model whose unde...</td>\n",
              "    </tr>\n",
              "  </tbody>\n",
              "</table>\n",
              "</div>\n",
              "      <button class=\"colab-df-convert\" onclick=\"convertToInteractive('df-8d0b3323-c9f2-4337-ab56-1546eddc38f7')\"\n",
              "              title=\"Convert this dataframe to an interactive table.\"\n",
              "              style=\"display:none;\">\n",
              "        \n",
              "  <svg xmlns=\"http://www.w3.org/2000/svg\" height=\"24px\"viewBox=\"0 0 24 24\"\n",
              "       width=\"24px\">\n",
              "    <path d=\"M0 0h24v24H0V0z\" fill=\"none\"/>\n",
              "    <path d=\"M18.56 5.44l.94 2.06.94-2.06 2.06-.94-2.06-.94-.94-2.06-.94 2.06-2.06.94zm-11 1L8.5 8.5l.94-2.06 2.06-.94-2.06-.94L8.5 2.5l-.94 2.06-2.06.94zm10 10l.94 2.06.94-2.06 2.06-.94-2.06-.94-.94-2.06-.94 2.06-2.06.94z\"/><path d=\"M17.41 7.96l-1.37-1.37c-.4-.4-.92-.59-1.43-.59-.52 0-1.04.2-1.43.59L10.3 9.45l-7.72 7.72c-.78.78-.78 2.05 0 2.83L4 21.41c.39.39.9.59 1.41.59.51 0 1.02-.2 1.41-.59l7.78-7.78 2.81-2.81c.8-.78.8-2.07 0-2.86zM5.41 20L4 18.59l7.72-7.72 1.47 1.35L5.41 20z\"/>\n",
              "  </svg>\n",
              "      </button>\n",
              "      \n",
              "  <style>\n",
              "    .colab-df-container {\n",
              "      display:flex;\n",
              "      flex-wrap:wrap;\n",
              "      gap: 12px;\n",
              "    }\n",
              "\n",
              "    .colab-df-convert {\n",
              "      background-color: #E8F0FE;\n",
              "      border: none;\n",
              "      border-radius: 50%;\n",
              "      cursor: pointer;\n",
              "      display: none;\n",
              "      fill: #1967D2;\n",
              "      height: 32px;\n",
              "      padding: 0 0 0 0;\n",
              "      width: 32px;\n",
              "    }\n",
              "\n",
              "    .colab-df-convert:hover {\n",
              "      background-color: #E2EBFA;\n",
              "      box-shadow: 0px 1px 2px rgba(60, 64, 67, 0.3), 0px 1px 3px 1px rgba(60, 64, 67, 0.15);\n",
              "      fill: #174EA6;\n",
              "    }\n",
              "\n",
              "    [theme=dark] .colab-df-convert {\n",
              "      background-color: #3B4455;\n",
              "      fill: #D2E3FC;\n",
              "    }\n",
              "\n",
              "    [theme=dark] .colab-df-convert:hover {\n",
              "      background-color: #434B5C;\n",
              "      box-shadow: 0px 1px 3px 1px rgba(0, 0, 0, 0.15);\n",
              "      filter: drop-shadow(0px 1px 2px rgba(0, 0, 0, 0.3));\n",
              "      fill: #FFFFFF;\n",
              "    }\n",
              "  </style>\n",
              "\n",
              "      <script>\n",
              "        const buttonEl =\n",
              "          document.querySelector('#df-8d0b3323-c9f2-4337-ab56-1546eddc38f7 button.colab-df-convert');\n",
              "        buttonEl.style.display =\n",
              "          google.colab.kernel.accessAllowed ? 'block' : 'none';\n",
              "\n",
              "        async function convertToInteractive(key) {\n",
              "          const element = document.querySelector('#df-8d0b3323-c9f2-4337-ab56-1546eddc38f7');\n",
              "          const dataTable =\n",
              "            await google.colab.kernel.invokeFunction('convertToInteractive',\n",
              "                                                     [key], {});\n",
              "          if (!dataTable) return;\n",
              "\n",
              "          const docLinkHtml = 'Like what you see? Visit the ' +\n",
              "            '<a target=\"_blank\" href=https://colab.research.google.com/notebooks/data_table.ipynb>data table notebook</a>'\n",
              "            + ' to learn more about interactive tables.';\n",
              "          element.innerHTML = '';\n",
              "          dataTable['output_type'] = 'display_data';\n",
              "          await google.colab.output.renderOutput(dataTable, element);\n",
              "          const docLink = document.createElement('div');\n",
              "          docLink.innerHTML = docLinkHtml;\n",
              "          element.appendChild(docLink);\n",
              "        }\n",
              "      </script>\n",
              "    </div>\n",
              "  </div>\n",
              "  "
            ]
          },
          "metadata": {},
          "execution_count": 65
        }
      ]
    },
    {
      "cell_type": "code",
      "source": [
        "import pandas as pd\n",
        "pd.options.display.width = 120\n",
        "\n",
        "DATA_DIR = ('https://gitlab.com/tangibleai/nlpia/-/raw/master/src/nlpia/data')\n",
        "url= DATA_DIR + '/toxic_comment_small.csv'\n",
        "\n"
      ],
      "metadata": {
        "id": "WNjzWlXBrYdk"
      },
      "execution_count": 66,
      "outputs": []
    },
    {
      "cell_type": "code",
      "source": [
        "comments = pd.read_csv(url)\n"
      ],
      "metadata": {
        "id": "D71u0Iw-86K_"
      },
      "execution_count": 67,
      "outputs": []
    },
    {
      "cell_type": "code",
      "source": [
        "comments.head()"
      ],
      "metadata": {
        "id": "gacu03jh87sM",
        "outputId": "2921132d-dc60-4b12-af3f-60d4d9c2e3ef",
        "colab": {
          "base_uri": "https://localhost:8080/",
          "height": 206
        }
      },
      "execution_count": 68,
      "outputs": [
        {
          "output_type": "execute_result",
          "data": {
            "text/plain": [
              "                                                text  toxic\n",
              "0  you have yet to identify where my edits violat...      0\n",
              "1  \"\\n as i have already said,wp:rfc or wp:ani. (...      0\n",
              "2  your vote on wikiquote simple english when it ...      0\n",
              "3  your stalking of my edits i've opened a thread...      0\n",
              "4  straight from the smear site itself. the perso...      1"
            ],
            "text/html": [
              "\n",
              "  <div id=\"df-9c967648-398a-4233-908d-1ba8d4c912c0\">\n",
              "    <div class=\"colab-df-container\">\n",
              "      <div>\n",
              "<style scoped>\n",
              "    .dataframe tbody tr th:only-of-type {\n",
              "        vertical-align: middle;\n",
              "    }\n",
              "\n",
              "    .dataframe tbody tr th {\n",
              "        vertical-align: top;\n",
              "    }\n",
              "\n",
              "    .dataframe thead th {\n",
              "        text-align: right;\n",
              "    }\n",
              "</style>\n",
              "<table border=\"1\" class=\"dataframe\">\n",
              "  <thead>\n",
              "    <tr style=\"text-align: right;\">\n",
              "      <th></th>\n",
              "      <th>text</th>\n",
              "      <th>toxic</th>\n",
              "    </tr>\n",
              "  </thead>\n",
              "  <tbody>\n",
              "    <tr>\n",
              "      <th>0</th>\n",
              "      <td>you have yet to identify where my edits violat...</td>\n",
              "      <td>0</td>\n",
              "    </tr>\n",
              "    <tr>\n",
              "      <th>1</th>\n",
              "      <td>\"\\n as i have already said,wp:rfc or wp:ani. (...</td>\n",
              "      <td>0</td>\n",
              "    </tr>\n",
              "    <tr>\n",
              "      <th>2</th>\n",
              "      <td>your vote on wikiquote simple english when it ...</td>\n",
              "      <td>0</td>\n",
              "    </tr>\n",
              "    <tr>\n",
              "      <th>3</th>\n",
              "      <td>your stalking of my edits i've opened a thread...</td>\n",
              "      <td>0</td>\n",
              "    </tr>\n",
              "    <tr>\n",
              "      <th>4</th>\n",
              "      <td>straight from the smear site itself. the perso...</td>\n",
              "      <td>1</td>\n",
              "    </tr>\n",
              "  </tbody>\n",
              "</table>\n",
              "</div>\n",
              "      <button class=\"colab-df-convert\" onclick=\"convertToInteractive('df-9c967648-398a-4233-908d-1ba8d4c912c0')\"\n",
              "              title=\"Convert this dataframe to an interactive table.\"\n",
              "              style=\"display:none;\">\n",
              "        \n",
              "  <svg xmlns=\"http://www.w3.org/2000/svg\" height=\"24px\"viewBox=\"0 0 24 24\"\n",
              "       width=\"24px\">\n",
              "    <path d=\"M0 0h24v24H0V0z\" fill=\"none\"/>\n",
              "    <path d=\"M18.56 5.44l.94 2.06.94-2.06 2.06-.94-2.06-.94-.94-2.06-.94 2.06-2.06.94zm-11 1L8.5 8.5l.94-2.06 2.06-.94-2.06-.94L8.5 2.5l-.94 2.06-2.06.94zm10 10l.94 2.06.94-2.06 2.06-.94-2.06-.94-.94-2.06-.94 2.06-2.06.94z\"/><path d=\"M17.41 7.96l-1.37-1.37c-.4-.4-.92-.59-1.43-.59-.52 0-1.04.2-1.43.59L10.3 9.45l-7.72 7.72c-.78.78-.78 2.05 0 2.83L4 21.41c.39.39.9.59 1.41.59.51 0 1.02-.2 1.41-.59l7.78-7.78 2.81-2.81c.8-.78.8-2.07 0-2.86zM5.41 20L4 18.59l7.72-7.72 1.47 1.35L5.41 20z\"/>\n",
              "  </svg>\n",
              "      </button>\n",
              "      \n",
              "  <style>\n",
              "    .colab-df-container {\n",
              "      display:flex;\n",
              "      flex-wrap:wrap;\n",
              "      gap: 12px;\n",
              "    }\n",
              "\n",
              "    .colab-df-convert {\n",
              "      background-color: #E8F0FE;\n",
              "      border: none;\n",
              "      border-radius: 50%;\n",
              "      cursor: pointer;\n",
              "      display: none;\n",
              "      fill: #1967D2;\n",
              "      height: 32px;\n",
              "      padding: 0 0 0 0;\n",
              "      width: 32px;\n",
              "    }\n",
              "\n",
              "    .colab-df-convert:hover {\n",
              "      background-color: #E2EBFA;\n",
              "      box-shadow: 0px 1px 2px rgba(60, 64, 67, 0.3), 0px 1px 3px 1px rgba(60, 64, 67, 0.15);\n",
              "      fill: #174EA6;\n",
              "    }\n",
              "\n",
              "    [theme=dark] .colab-df-convert {\n",
              "      background-color: #3B4455;\n",
              "      fill: #D2E3FC;\n",
              "    }\n",
              "\n",
              "    [theme=dark] .colab-df-convert:hover {\n",
              "      background-color: #434B5C;\n",
              "      box-shadow: 0px 1px 3px 1px rgba(0, 0, 0, 0.15);\n",
              "      filter: drop-shadow(0px 1px 2px rgba(0, 0, 0, 0.3));\n",
              "      fill: #FFFFFF;\n",
              "    }\n",
              "  </style>\n",
              "\n",
              "      <script>\n",
              "        const buttonEl =\n",
              "          document.querySelector('#df-9c967648-398a-4233-908d-1ba8d4c912c0 button.colab-df-convert');\n",
              "        buttonEl.style.display =\n",
              "          google.colab.kernel.accessAllowed ? 'block' : 'none';\n",
              "\n",
              "        async function convertToInteractive(key) {\n",
              "          const element = document.querySelector('#df-9c967648-398a-4233-908d-1ba8d4c912c0');\n",
              "          const dataTable =\n",
              "            await google.colab.kernel.invokeFunction('convertToInteractive',\n",
              "                                                     [key], {});\n",
              "          if (!dataTable) return;\n",
              "\n",
              "          const docLinkHtml = 'Like what you see? Visit the ' +\n",
              "            '<a target=\"_blank\" href=https://colab.research.google.com/notebooks/data_table.ipynb>data table notebook</a>'\n",
              "            + ' to learn more about interactive tables.';\n",
              "          element.innerHTML = '';\n",
              "          dataTable['output_type'] = 'display_data';\n",
              "          await google.colab.output.renderOutput(dataTable, element);\n",
              "          const docLink = document.createElement('div');\n",
              "          docLink.innerHTML = docLinkHtml;\n",
              "          element.appendChild(docLink);\n",
              "        }\n",
              "      </script>\n",
              "    </div>\n",
              "  </div>\n",
              "  "
            ]
          },
          "metadata": {},
          "execution_count": 68
        }
      ]
    },
    {
      "cell_type": "code",
      "source": [
        "index = ['comment{}{}'.format(i, '!'*j) for (i,j) in zip(range(len(comments)), comments.toxic)]\n"
      ],
      "metadata": {
        "id": "dQ6UyWiy88x2"
      },
      "execution_count": 77,
      "outputs": []
    },
    {
      "cell_type": "code",
      "source": [
        "comments.toxic"
      ],
      "metadata": {
        "id": "j479NSGQ9B6v",
        "outputId": "bed8208a-0ca2-4f9b-f496-f280ce5b874b",
        "colab": {
          "base_uri": "https://localhost:8080/"
        }
      },
      "execution_count": 74,
      "outputs": [
        {
          "output_type": "execute_result",
          "data": {
            "text/plain": [
              "0       0\n",
              "1       0\n",
              "2       0\n",
              "3       0\n",
              "4       1\n",
              "       ..\n",
              "4995    0\n",
              "4996    0\n",
              "4997    1\n",
              "4998    1\n",
              "4999    0\n",
              "Name: toxic, Length: 5000, dtype: int64"
            ]
          },
          "metadata": {},
          "execution_count": 74
        }
      ]
    },
    {
      "cell_type": "code",
      "source": [
        "comments = pd.DataFrame(comments.values, columns=comments.columns, index=index)\n"
      ],
      "metadata": {
        "id": "vP6HrsW28-XQ"
      },
      "execution_count": 79,
      "outputs": []
    },
    {
      "cell_type": "code",
      "source": [
        "mask = comments.toxic.astype(bool).values\n"
      ],
      "metadata": {
        "id": "W_wHvPqC9mOS"
      },
      "execution_count": 81,
      "outputs": []
    },
    {
      "cell_type": "code",
      "source": [
        "comments['toxic'] = comments.toxic.astype(int)\n",
        "len(comments)\n",
        "comments.toxic.sum()\n",
        "comments.head(6)"
      ],
      "metadata": {
        "id": "2MRN5FWl9vUd",
        "outputId": "e259b215-a806-4dde-c053-b96e12ceb7c5",
        "colab": {
          "base_uri": "https://localhost:8080/",
          "height": 238
        }
      },
      "execution_count": 83,
      "outputs": [
        {
          "output_type": "execute_result",
          "data": {
            "text/plain": [
              "                                                        text  toxic\n",
              "comment0   you have yet to identify where my edits violat...      0\n",
              "comment1   \"\\n as i have already said,wp:rfc or wp:ani. (...      0\n",
              "comment2   your vote on wikiquote simple english when it ...      0\n",
              "comment3   your stalking of my edits i've opened a thread...      0\n",
              "comment4!  straight from the smear site itself. the perso...      1\n",
              "comment5   no, i can't see it either - and i've gone back...      0"
            ],
            "text/html": [
              "\n",
              "  <div id=\"df-83826ac3-7b03-4ffb-83f2-eb12b0ab038e\">\n",
              "    <div class=\"colab-df-container\">\n",
              "      <div>\n",
              "<style scoped>\n",
              "    .dataframe tbody tr th:only-of-type {\n",
              "        vertical-align: middle;\n",
              "    }\n",
              "\n",
              "    .dataframe tbody tr th {\n",
              "        vertical-align: top;\n",
              "    }\n",
              "\n",
              "    .dataframe thead th {\n",
              "        text-align: right;\n",
              "    }\n",
              "</style>\n",
              "<table border=\"1\" class=\"dataframe\">\n",
              "  <thead>\n",
              "    <tr style=\"text-align: right;\">\n",
              "      <th></th>\n",
              "      <th>text</th>\n",
              "      <th>toxic</th>\n",
              "    </tr>\n",
              "  </thead>\n",
              "  <tbody>\n",
              "    <tr>\n",
              "      <th>comment0</th>\n",
              "      <td>you have yet to identify where my edits violat...</td>\n",
              "      <td>0</td>\n",
              "    </tr>\n",
              "    <tr>\n",
              "      <th>comment1</th>\n",
              "      <td>\"\\n as i have already said,wp:rfc or wp:ani. (...</td>\n",
              "      <td>0</td>\n",
              "    </tr>\n",
              "    <tr>\n",
              "      <th>comment2</th>\n",
              "      <td>your vote on wikiquote simple english when it ...</td>\n",
              "      <td>0</td>\n",
              "    </tr>\n",
              "    <tr>\n",
              "      <th>comment3</th>\n",
              "      <td>your stalking of my edits i've opened a thread...</td>\n",
              "      <td>0</td>\n",
              "    </tr>\n",
              "    <tr>\n",
              "      <th>comment4!</th>\n",
              "      <td>straight from the smear site itself. the perso...</td>\n",
              "      <td>1</td>\n",
              "    </tr>\n",
              "    <tr>\n",
              "      <th>comment5</th>\n",
              "      <td>no, i can't see it either - and i've gone back...</td>\n",
              "      <td>0</td>\n",
              "    </tr>\n",
              "  </tbody>\n",
              "</table>\n",
              "</div>\n",
              "      <button class=\"colab-df-convert\" onclick=\"convertToInteractive('df-83826ac3-7b03-4ffb-83f2-eb12b0ab038e')\"\n",
              "              title=\"Convert this dataframe to an interactive table.\"\n",
              "              style=\"display:none;\">\n",
              "        \n",
              "  <svg xmlns=\"http://www.w3.org/2000/svg\" height=\"24px\"viewBox=\"0 0 24 24\"\n",
              "       width=\"24px\">\n",
              "    <path d=\"M0 0h24v24H0V0z\" fill=\"none\"/>\n",
              "    <path d=\"M18.56 5.44l.94 2.06.94-2.06 2.06-.94-2.06-.94-.94-2.06-.94 2.06-2.06.94zm-11 1L8.5 8.5l.94-2.06 2.06-.94-2.06-.94L8.5 2.5l-.94 2.06-2.06.94zm10 10l.94 2.06.94-2.06 2.06-.94-2.06-.94-.94-2.06-.94 2.06-2.06.94z\"/><path d=\"M17.41 7.96l-1.37-1.37c-.4-.4-.92-.59-1.43-.59-.52 0-1.04.2-1.43.59L10.3 9.45l-7.72 7.72c-.78.78-.78 2.05 0 2.83L4 21.41c.39.39.9.59 1.41.59.51 0 1.02-.2 1.41-.59l7.78-7.78 2.81-2.81c.8-.78.8-2.07 0-2.86zM5.41 20L4 18.59l7.72-7.72 1.47 1.35L5.41 20z\"/>\n",
              "  </svg>\n",
              "      </button>\n",
              "      \n",
              "  <style>\n",
              "    .colab-df-container {\n",
              "      display:flex;\n",
              "      flex-wrap:wrap;\n",
              "      gap: 12px;\n",
              "    }\n",
              "\n",
              "    .colab-df-convert {\n",
              "      background-color: #E8F0FE;\n",
              "      border: none;\n",
              "      border-radius: 50%;\n",
              "      cursor: pointer;\n",
              "      display: none;\n",
              "      fill: #1967D2;\n",
              "      height: 32px;\n",
              "      padding: 0 0 0 0;\n",
              "      width: 32px;\n",
              "    }\n",
              "\n",
              "    .colab-df-convert:hover {\n",
              "      background-color: #E2EBFA;\n",
              "      box-shadow: 0px 1px 2px rgba(60, 64, 67, 0.3), 0px 1px 3px 1px rgba(60, 64, 67, 0.15);\n",
              "      fill: #174EA6;\n",
              "    }\n",
              "\n",
              "    [theme=dark] .colab-df-convert {\n",
              "      background-color: #3B4455;\n",
              "      fill: #D2E3FC;\n",
              "    }\n",
              "\n",
              "    [theme=dark] .colab-df-convert:hover {\n",
              "      background-color: #434B5C;\n",
              "      box-shadow: 0px 1px 3px 1px rgba(0, 0, 0, 0.15);\n",
              "      filter: drop-shadow(0px 1px 2px rgba(0, 0, 0, 0.3));\n",
              "      fill: #FFFFFF;\n",
              "    }\n",
              "  </style>\n",
              "\n",
              "      <script>\n",
              "        const buttonEl =\n",
              "          document.querySelector('#df-83826ac3-7b03-4ffb-83f2-eb12b0ab038e button.colab-df-convert');\n",
              "        buttonEl.style.display =\n",
              "          google.colab.kernel.accessAllowed ? 'block' : 'none';\n",
              "\n",
              "        async function convertToInteractive(key) {\n",
              "          const element = document.querySelector('#df-83826ac3-7b03-4ffb-83f2-eb12b0ab038e');\n",
              "          const dataTable =\n",
              "            await google.colab.kernel.invokeFunction('convertToInteractive',\n",
              "                                                     [key], {});\n",
              "          if (!dataTable) return;\n",
              "\n",
              "          const docLinkHtml = 'Like what you see? Visit the ' +\n",
              "            '<a target=\"_blank\" href=https://colab.research.google.com/notebooks/data_table.ipynb>data table notebook</a>'\n",
              "            + ' to learn more about interactive tables.';\n",
              "          element.innerHTML = '';\n",
              "          dataTable['output_type'] = 'display_data';\n",
              "          await google.colab.output.renderOutput(dataTable, element);\n",
              "          const docLink = document.createElement('div');\n",
              "          docLink.innerHTML = docLinkHtml;\n",
              "          element.appendChild(docLink);\n",
              "        }\n",
              "      </script>\n",
              "    </div>\n",
              "  </div>\n",
              "  "
            ]
          },
          "metadata": {},
          "execution_count": 83
        }
      ]
    },
    {
      "cell_type": "code",
      "source": [
        "comments.toxic.sum()"
      ],
      "metadata": {
        "id": "4R0OdwiD9587",
        "outputId": "4f20471e-02fc-48f3-81e7-b58659ab8708",
        "colab": {
          "base_uri": "https://localhost:8080/"
        }
      },
      "execution_count": 84,
      "outputs": [
        {
          "output_type": "execute_result",
          "data": {
            "text/plain": [
              "650"
            ]
          },
          "metadata": {},
          "execution_count": 84
        }
      ]
    },
    {
      "cell_type": "code",
      "source": [
        "from sklearn.feature_extraction.text import TfidfVectorizer\n",
        "import spacy\n",
        "nlp = spacy.load(\"en_core_web_sm\")"
      ],
      "metadata": {
        "id": "4zQrYs9O99Ph"
      },
      "execution_count": 85,
      "outputs": []
    },
    {
      "cell_type": "code",
      "source": [
        "def spacy_tokenize(sentence):\n",
        "  return [token.text for token in nlp(sentence.lower())]"
      ],
      "metadata": {
        "id": "Ik5ODEyC-K6O"
      },
      "execution_count": 86,
      "outputs": []
    },
    {
      "cell_type": "code",
      "source": [
        "tfidf_model = TfidfVectorizer(tokenizer=spacy_tokenize)"
      ],
      "metadata": {
        "id": "GfO19aPzE4-X"
      },
      "execution_count": 87,
      "outputs": []
    },
    {
      "cell_type": "code",
      "source": [
        "tfidf_docs = tfidf_model.fit_transform(raw_documents=comments.text).toarray()"
      ],
      "metadata": {
        "id": "xveN2pykE9Qy",
        "outputId": "cc69a1fb-06a1-43aa-fcc8-adb29dad1b16",
        "colab": {
          "base_uri": "https://localhost:8080/"
        }
      },
      "execution_count": 88,
      "outputs": [
        {
          "output_type": "stream",
          "name": "stderr",
          "text": [
            "/usr/local/lib/python3.10/dist-packages/sklearn/feature_extraction/text.py:528: UserWarning: The parameter 'token_pattern' will not be used since 'tokenizer' is not None'\n",
            "  warnings.warn(\n"
          ]
        }
      ]
    },
    {
      "cell_type": "code",
      "source": [
        "mask = comments.toxic.astype(bool).values"
      ],
      "metadata": {
        "id": "1GQkEcm3FDFY"
      },
      "execution_count": 89,
      "outputs": []
    },
    {
      "cell_type": "code",
      "source": [
        "mask"
      ],
      "metadata": {
        "id": "6t1rFztoN0k4",
        "outputId": "157bda85-ae8b-44fd-987b-2932599fe810",
        "colab": {
          "base_uri": "https://localhost:8080/"
        }
      },
      "execution_count": 90,
      "outputs": [
        {
          "output_type": "execute_result",
          "data": {
            "text/plain": [
              "array([False, False, False, ...,  True,  True, False])"
            ]
          },
          "metadata": {},
          "execution_count": 90
        }
      ]
    },
    {
      "cell_type": "code",
      "source": [
        "toxic_centroid = tfidf_docs[mask].mean(axis=0)"
      ],
      "metadata": {
        "id": "a_M8M-V1N1PH"
      },
      "execution_count": 91,
      "outputs": []
    },
    {
      "cell_type": "code",
      "source": [
        "nontoxic_centroid = tfidf_docs[~mask].mean(axis=0)"
      ],
      "metadata": {
        "id": "uzw8tN0xN35C"
      },
      "execution_count": 93,
      "outputs": []
    },
    {
      "cell_type": "code",
      "source": [
        "nontoxic_centroid"
      ],
      "metadata": {
        "id": "vyxTA5WhN5By",
        "outputId": "b1269ee1-ea1c-470c-98ee-cad1ab3ecd54",
        "colab": {
          "base_uri": "https://localhost:8080/"
        }
      },
      "execution_count": 94,
      "outputs": [
        {
          "output_type": "execute_result",
          "data": {
            "text/plain": [
              "array([1.89710535e-02, 4.58793799e-03, 2.57451586e-04, ...,\n",
              "       2.47852092e-05, 1.78452160e-05, 6.71831573e-05])"
            ]
          },
          "metadata": {},
          "execution_count": 94
        }
      ]
    },
    {
      "cell_type": "code",
      "source": [
        "centroid_axis = toxic_centroid - nontoxic_centroid\n",
        "toxicity_score = tfidf_docs.dot(centroid_axis)\n",
        "toxicity_score.round(3)"
      ],
      "metadata": {
        "id": "rw09tfidRfQL",
        "outputId": "4da14266-165c-4f9b-e4b1-8b3ee12fc06a",
        "colab": {
          "base_uri": "https://localhost:8080/"
        }
      },
      "execution_count": 95,
      "outputs": [
        {
          "output_type": "execute_result",
          "data": {
            "text/plain": [
              "array([-0.008, -0.022, -0.014, ..., -0.025, -0.001, -0.022])"
            ]
          },
          "metadata": {},
          "execution_count": 95
        }
      ]
    },
    {
      "cell_type": "code",
      "source": [
        "from sklearn.preprocessing import MinMaxScaler\n",
        "comments['manual_score'] = MinMaxScaler().fit_transform(toxicity_score.reshape(-1,1))\n",
        "comments['manual_predict'] = (comments.manual_score > .5).astype(int)\n",
        "comments['toxic manual_predict manual_score'.split()].round(2).head(6)\n"
      ],
      "metadata": {
        "id": "1je-gaQNRuir",
        "outputId": "d3e11013-41d1-4909-9056-0f235bf45558",
        "colab": {
          "base_uri": "https://localhost:8080/",
          "height": 238
        }
      },
      "execution_count": 96,
      "outputs": [
        {
          "output_type": "execute_result",
          "data": {
            "text/plain": [
              "           toxic  manual_predict  manual_score\n",
              "comment0       0               0          0.41\n",
              "comment1       0               0          0.27\n",
              "comment2       0               0          0.35\n",
              "comment3       0               0          0.47\n",
              "comment4!      1               0          0.48\n",
              "comment5       0               0          0.31"
            ],
            "text/html": [
              "\n",
              "  <div id=\"df-8c836320-2901-4a48-9e31-e8b2908eaac5\">\n",
              "    <div class=\"colab-df-container\">\n",
              "      <div>\n",
              "<style scoped>\n",
              "    .dataframe tbody tr th:only-of-type {\n",
              "        vertical-align: middle;\n",
              "    }\n",
              "\n",
              "    .dataframe tbody tr th {\n",
              "        vertical-align: top;\n",
              "    }\n",
              "\n",
              "    .dataframe thead th {\n",
              "        text-align: right;\n",
              "    }\n",
              "</style>\n",
              "<table border=\"1\" class=\"dataframe\">\n",
              "  <thead>\n",
              "    <tr style=\"text-align: right;\">\n",
              "      <th></th>\n",
              "      <th>toxic</th>\n",
              "      <th>manual_predict</th>\n",
              "      <th>manual_score</th>\n",
              "    </tr>\n",
              "  </thead>\n",
              "  <tbody>\n",
              "    <tr>\n",
              "      <th>comment0</th>\n",
              "      <td>0</td>\n",
              "      <td>0</td>\n",
              "      <td>0.41</td>\n",
              "    </tr>\n",
              "    <tr>\n",
              "      <th>comment1</th>\n",
              "      <td>0</td>\n",
              "      <td>0</td>\n",
              "      <td>0.27</td>\n",
              "    </tr>\n",
              "    <tr>\n",
              "      <th>comment2</th>\n",
              "      <td>0</td>\n",
              "      <td>0</td>\n",
              "      <td>0.35</td>\n",
              "    </tr>\n",
              "    <tr>\n",
              "      <th>comment3</th>\n",
              "      <td>0</td>\n",
              "      <td>0</td>\n",
              "      <td>0.47</td>\n",
              "    </tr>\n",
              "    <tr>\n",
              "      <th>comment4!</th>\n",
              "      <td>1</td>\n",
              "      <td>0</td>\n",
              "      <td>0.48</td>\n",
              "    </tr>\n",
              "    <tr>\n",
              "      <th>comment5</th>\n",
              "      <td>0</td>\n",
              "      <td>0</td>\n",
              "      <td>0.31</td>\n",
              "    </tr>\n",
              "  </tbody>\n",
              "</table>\n",
              "</div>\n",
              "      <button class=\"colab-df-convert\" onclick=\"convertToInteractive('df-8c836320-2901-4a48-9e31-e8b2908eaac5')\"\n",
              "              title=\"Convert this dataframe to an interactive table.\"\n",
              "              style=\"display:none;\">\n",
              "        \n",
              "  <svg xmlns=\"http://www.w3.org/2000/svg\" height=\"24px\"viewBox=\"0 0 24 24\"\n",
              "       width=\"24px\">\n",
              "    <path d=\"M0 0h24v24H0V0z\" fill=\"none\"/>\n",
              "    <path d=\"M18.56 5.44l.94 2.06.94-2.06 2.06-.94-2.06-.94-.94-2.06-.94 2.06-2.06.94zm-11 1L8.5 8.5l.94-2.06 2.06-.94-2.06-.94L8.5 2.5l-.94 2.06-2.06.94zm10 10l.94 2.06.94-2.06 2.06-.94-2.06-.94-.94-2.06-.94 2.06-2.06.94z\"/><path d=\"M17.41 7.96l-1.37-1.37c-.4-.4-.92-.59-1.43-.59-.52 0-1.04.2-1.43.59L10.3 9.45l-7.72 7.72c-.78.78-.78 2.05 0 2.83L4 21.41c.39.39.9.59 1.41.59.51 0 1.02-.2 1.41-.59l7.78-7.78 2.81-2.81c.8-.78.8-2.07 0-2.86zM5.41 20L4 18.59l7.72-7.72 1.47 1.35L5.41 20z\"/>\n",
              "  </svg>\n",
              "      </button>\n",
              "      \n",
              "  <style>\n",
              "    .colab-df-container {\n",
              "      display:flex;\n",
              "      flex-wrap:wrap;\n",
              "      gap: 12px;\n",
              "    }\n",
              "\n",
              "    .colab-df-convert {\n",
              "      background-color: #E8F0FE;\n",
              "      border: none;\n",
              "      border-radius: 50%;\n",
              "      cursor: pointer;\n",
              "      display: none;\n",
              "      fill: #1967D2;\n",
              "      height: 32px;\n",
              "      padding: 0 0 0 0;\n",
              "      width: 32px;\n",
              "    }\n",
              "\n",
              "    .colab-df-convert:hover {\n",
              "      background-color: #E2EBFA;\n",
              "      box-shadow: 0px 1px 2px rgba(60, 64, 67, 0.3), 0px 1px 3px 1px rgba(60, 64, 67, 0.15);\n",
              "      fill: #174EA6;\n",
              "    }\n",
              "\n",
              "    [theme=dark] .colab-df-convert {\n",
              "      background-color: #3B4455;\n",
              "      fill: #D2E3FC;\n",
              "    }\n",
              "\n",
              "    [theme=dark] .colab-df-convert:hover {\n",
              "      background-color: #434B5C;\n",
              "      box-shadow: 0px 1px 3px 1px rgba(0, 0, 0, 0.15);\n",
              "      filter: drop-shadow(0px 1px 2px rgba(0, 0, 0, 0.3));\n",
              "      fill: #FFFFFF;\n",
              "    }\n",
              "  </style>\n",
              "\n",
              "      <script>\n",
              "        const buttonEl =\n",
              "          document.querySelector('#df-8c836320-2901-4a48-9e31-e8b2908eaac5 button.colab-df-convert');\n",
              "        buttonEl.style.display =\n",
              "          google.colab.kernel.accessAllowed ? 'block' : 'none';\n",
              "\n",
              "        async function convertToInteractive(key) {\n",
              "          const element = document.querySelector('#df-8c836320-2901-4a48-9e31-e8b2908eaac5');\n",
              "          const dataTable =\n",
              "            await google.colab.kernel.invokeFunction('convertToInteractive',\n",
              "                                                     [key], {});\n",
              "          if (!dataTable) return;\n",
              "\n",
              "          const docLinkHtml = 'Like what you see? Visit the ' +\n",
              "            '<a target=\"_blank\" href=https://colab.research.google.com/notebooks/data_table.ipynb>data table notebook</a>'\n",
              "            + ' to learn more about interactive tables.';\n",
              "          element.innerHTML = '';\n",
              "          dataTable['output_type'] = 'display_data';\n",
              "          await google.colab.output.renderOutput(dataTable, element);\n",
              "          const docLink = document.createElement('div');\n",
              "          docLink.innerHTML = docLinkHtml;\n",
              "          element.appendChild(docLink);\n",
              "        }\n",
              "      </script>\n",
              "    </div>\n",
              "  </div>\n",
              "  "
            ]
          },
          "metadata": {},
          "execution_count": 96
        }
      ]
    },
    {
      "cell_type": "code",
      "source": [
        "from sklearn.discriminant_analysis import LinearDiscriminantAnalysis as LDA\n",
        "lda_tfidf = LDA(n_components=1)\n",
        "lda_tfidf = lda_tfidf.fit(tfidf_docs, comments['toxic'])\n",
        "comments['tfidf_predict'] = lda_tfidf.predict(tfidf_docs)\n",
        "round(float(lda_tfidf.score(tfidf_docs, comments['toxic'])), 3)"
      ],
      "metadata": {
        "id": "jKzvFe8BSAA9",
        "outputId": "79fb90cc-e5bf-402c-d11a-5f5dffcbc882",
        "colab": {
          "base_uri": "https://localhost:8080/"
        }
      },
      "execution_count": 98,
      "outputs": [
        {
          "output_type": "execute_result",
          "data": {
            "text/plain": [
              "0.999"
            ]
          },
          "metadata": {},
          "execution_count": 98
        }
      ]
    },
    {
      "cell_type": "code",
      "source": [
        "from sklearn.model_selection import train_test_split\n",
        "X_train, X_test, y_train, y_test = train_test_split(tfidf_docs,comments.toxic.values, test_size=0.5, random_state=271828)\n",
        "lda_tfidf = LDA(n_components=1)\n",
        "lda = lda_tfidf.fit(X_train, y_train)\n",
        "round(float(lda.score(X_train, y_train)), 3)\n",
        "\n"
      ],
      "metadata": {
        "id": "SI7BgEEXSKpS",
        "outputId": "9d503ab8-59af-4171-c997-5cd592d11b48",
        "colab": {
          "base_uri": "https://localhost:8080/"
        }
      },
      "execution_count": 99,
      "outputs": [
        {
          "output_type": "execute_result",
          "data": {
            "text/plain": [
              "0.999"
            ]
          },
          "metadata": {},
          "execution_count": 99
        }
      ]
    },
    {
      "cell_type": "code",
      "source": [
        "from sklearn.metrics import confusion_matrix\n",
        "import matplotlib.pyplot as plt\n",
        "from sklearn.metrics import ConfusionMatrixDisplay"
      ],
      "metadata": {
        "id": "xnO2ux7OUQzC"
      },
      "execution_count": 109,
      "outputs": []
    },
    {
      "cell_type": "code",
      "source": [
        "cm = confusion_matrix(y_test, lda.predict(X_test))\n",
        "\n",
        "# Plot\n",
        "disp = ConfusionMatrixDisplay(confusion_matrix=cm, display_labels=['non-toxic', 'toxic'])\n",
        "disp.plot()"
      ],
      "metadata": {
        "id": "YGexFHPhVJbW",
        "outputId": "3a784602-3eb2-4841-d97f-b2536e3ff6ea",
        "colab": {
          "base_uri": "https://localhost:8080/",
          "height": 467
        }
      },
      "execution_count": 111,
      "outputs": [
        {
          "output_type": "execute_result",
          "data": {
            "text/plain": [
              "<sklearn.metrics._plot.confusion_matrix.ConfusionMatrixDisplay at 0x7ff2a8615330>"
            ]
          },
          "metadata": {},
          "execution_count": 111
        },
        {
          "output_type": "display_data",
          "data": {
            "text/plain": [
              "<Figure size 640x480 with 2 Axes>"
            ],
            "image/png": "[encoded data removed]"
          },
          "metadata": {}
        }
      ]
    },
    {
      "cell_type": "code",
      "source": [
        "import pandas as pd\n",
        "pd.set_option('display.max_columns', 6)\n",
        "from sklearn.decomposition import PCA\n",
        "import seaborn\n",
        "from matplotlib import pyplot as plt\n",
        "\n",
        "DATA_DIR = ('https://gitlab.com/tangibleai/nlpia/-/raw/master/src/nlpia/data')\n",
        "df = pd.read_csv(DATA_DIR + '/pointcloud.csv.gz', index_col=0)\n",
        "\n",
        "\n",
        "pca = PCA(n_components=2)\n",
        "df2d = pd.DataFrame(pca.fit_transform(df), columns=list('xy'))\n",
        "df2d.plot(kind='scatter', x='x', y='y')\n",
        "plt.show()"
      ],
      "metadata": {
        "id": "IrPdC-WZVXc-",
        "outputId": "4d4211b8-c3b6-4ba1-9b00-4c1b75205df5",
        "colab": {
          "base_uri": "https://localhost:8080/",
          "height": 534
        }
      },
      "execution_count": 123,
      "outputs": [
        {
          "output_type": "error",
          "ename": "ImportError",
          "evalue": "ignored",
          "traceback": [
            "\u001b[0;31m---------------------------------------------------------------------------\u001b[0m",
            "\u001b[0;31mImportError\u001b[0m                               Traceback (most recent call last)",
            "\u001b[0;32m<ipython-input-123-b7d12ea3dccf>\u001b[0m in \u001b[0;36m<cell line: 3>\u001b[0;34m()\u001b[0m\n\u001b[1;32m      1\u001b[0m \u001b[0;32mimport\u001b[0m \u001b[0mpandas\u001b[0m \u001b[0;32mas\u001b[0m \u001b[0mpd\u001b[0m\u001b[0;34m\u001b[0m\u001b[0;34m\u001b[0m\u001b[0m\n\u001b[1;32m      2\u001b[0m \u001b[0mpd\u001b[0m\u001b[0;34m.\u001b[0m\u001b[0mset_option\u001b[0m\u001b[0;34m(\u001b[0m\u001b[0;34m'display.max_columns'\u001b[0m\u001b[0;34m,\u001b[0m \u001b[0;36m6\u001b[0m\u001b[0;34m)\u001b[0m\u001b[0;34m\u001b[0m\u001b[0;34m\u001b[0m\u001b[0m\n\u001b[0;32m----> 3\u001b[0;31m \u001b[0;32mfrom\u001b[0m \u001b[0msklearn\u001b[0m\u001b[0;34m.\u001b[0m\u001b[0mdecomposition\u001b[0m \u001b[0;32mimport\u001b[0m \u001b[0mPCA\u001b[0m\u001b[0;34m\u001b[0m\u001b[0;34m\u001b[0m\u001b[0m\n\u001b[0m\u001b[1;32m      4\u001b[0m \u001b[0;32mimport\u001b[0m \u001b[0mseaborn\u001b[0m\u001b[0;34m\u001b[0m\u001b[0;34m\u001b[0m\u001b[0m\n\u001b[1;32m      5\u001b[0m \u001b[0;32mfrom\u001b[0m \u001b[0mmatplotlib\u001b[0m \u001b[0;32mimport\u001b[0m \u001b[0mpyplot\u001b[0m \u001b[0;32mas\u001b[0m \u001b[0mplt\u001b[0m\u001b[0;34m\u001b[0m\u001b[0;34m\u001b[0m\u001b[0m\n",
            "\u001b[0;32m/usr/local/lib/python3.10/dist-packages/sklearn/decomposition/__init__.py\u001b[0m in \u001b[0;36m<module>\u001b[0;34m\u001b[0m\n\u001b[1;32m      7\u001b[0m \u001b[0;34m\u001b[0m\u001b[0m\n\u001b[1;32m      8\u001b[0m \u001b[0;32mfrom\u001b[0m \u001b[0;34m.\u001b[0m\u001b[0;34m.\u001b[0m\u001b[0mutils\u001b[0m\u001b[0;34m.\u001b[0m\u001b[0mextmath\u001b[0m \u001b[0;32mimport\u001b[0m \u001b[0mrandomized_svd\u001b[0m\u001b[0;34m\u001b[0m\u001b[0;34m\u001b[0m\u001b[0m\n\u001b[0;32m----> 9\u001b[0;31m from ._dict_learning import (\n\u001b[0m\u001b[1;32m     10\u001b[0m     \u001b[0mDictionaryLearning\u001b[0m\u001b[0;34m,\u001b[0m\u001b[0;34m\u001b[0m\u001b[0;34m\u001b[0m\u001b[0m\n\u001b[1;32m     11\u001b[0m     \u001b[0mMiniBatchDictionaryLearning\u001b[0m\u001b[0;34m,\u001b[0m\u001b[0;34m\u001b[0m\u001b[0;34m\u001b[0m\u001b[0m\n",
            "\u001b[0;32m/usr/local/lib/python3.10/dist-packages/sklearn/decomposition/_dict_learning.py\u001b[0m in \u001b[0;36m<module>\u001b[0;34m\u001b[0m\n\u001b[1;32m     15\u001b[0m \u001b[0;32mfrom\u001b[0m \u001b[0mscipy\u001b[0m \u001b[0;32mimport\u001b[0m \u001b[0mlinalg\u001b[0m\u001b[0;34m\u001b[0m\u001b[0;34m\u001b[0m\u001b[0m\n\u001b[1;32m     16\u001b[0m \u001b[0;34m\u001b[0m\u001b[0m\n\u001b[0;32m---> 17\u001b[0;31m from ..base import (\n\u001b[0m\u001b[1;32m     18\u001b[0m     \u001b[0mBaseEstimator\u001b[0m\u001b[0;34m,\u001b[0m\u001b[0;34m\u001b[0m\u001b[0;34m\u001b[0m\u001b[0m\n\u001b[1;32m     19\u001b[0m     \u001b[0mClassNamePrefixFeaturesOutMixin\u001b[0m\u001b[0;34m,\u001b[0m\u001b[0;34m\u001b[0m\u001b[0;34m\u001b[0m\u001b[0m\n",
            "\u001b[0;31mImportError\u001b[0m: cannot import name '_fit_context' from 'sklearn.base' (/usr/local/lib/python3.10/dist-packages/sklearn/base.py)",
            "",
            "\u001b[0;31m---------------------------------------------------------------------------\u001b[0;32m\nNOTE: If your import is failing due to a missing package, you can\nmanually install dependencies using either !pip or !apt.\n\nTo view examples of installing some common dependencies, click the\n\"Open Examples\" button below.\n\u001b[0;31m---------------------------------------------------------------------------\u001b[0m\n"
          ],
          "errorDetails": {
            "actions": [
              {
                "action": "open_url",
                "actionText": "Open Examples",
                "url": "/notebooks/snippets/importing_libraries.ipynb"
              }
            ]
          }
        }
      ]
    },
    {
      "cell_type": "code",
      "source": [
        "!pip  install -U scikit-learn"
      ],
      "metadata": {
        "id": "a9MwDy8tVnkT",
        "outputId": "d5ef0a1e-a0d3-45dd-fcdc-e0e8bc0cf942",
        "colab": {
          "base_uri": "https://localhost:8080/"
        }
      },
      "execution_count": 122,
      "outputs": [
        {
          "output_type": "stream",
          "name": "stdout",
          "text": [
            "Requirement already satisfied: scikit-learn in /usr/local/lib/python3.10/dist-packages (1.3.0)\n",
            "Requirement already satisfied: numpy>=1.17.3 in /usr/local/lib/python3.10/dist-packages (from scikit-learn) (1.22.4)\n",
            "Requirement already satisfied: scipy>=1.5.0 in /usr/local/lib/python3.10/dist-packages (from scikit-learn) (1.10.1)\n",
            "Requirement already satisfied: joblib>=1.1.1 in /usr/local/lib/python3.10/dist-packages (from scikit-learn) (1.2.0)\n",
            "Requirement already satisfied: threadpoolctl>=2.0.0 in /usr/local/lib/python3.10/dist-packages (from scikit-learn) (3.1.0)\n"
          ]
        }
      ]
    },
    {
      "cell_type": "code",
      "source": [
        "skdec.pca"
      ],
      "metadata": {
        "id": "XYEvxQNDV1zm",
        "outputId": "4588a0ed-e0ea-4ff7-d779-4a5e5185712e",
        "colab": {
          "base_uri": "https://localhost:8080/",
          "height": 171
        }
      },
      "execution_count": 118,
      "outputs": [
        {
          "output_type": "error",
          "ename": "AttributeError",
          "evalue": "ignored",
          "traceback": [
            "\u001b[0;31m---------------------------------------------------------------------------\u001b[0m",
            "\u001b[0;31mAttributeError\u001b[0m                            Traceback (most recent call last)",
            "\u001b[0;32m<ipython-input-118-fa6798d8368b>\u001b[0m in \u001b[0;36m<cell line: 1>\u001b[0;34m()\u001b[0m\n\u001b[0;32m----> 1\u001b[0;31m \u001b[0mskdec\u001b[0m\u001b[0;34m.\u001b[0m\u001b[0mpca\u001b[0m\u001b[0;34m\u001b[0m\u001b[0;34m\u001b[0m\u001b[0m\n\u001b[0m",
            "\u001b[0;31mAttributeError\u001b[0m: module 'sklearn' has no attribute 'pca'"
          ]
        }
      ]
    },
    {
      "cell_type": "code",
      "source": [
        "REPO_URL = 'https://gitlab.com/tangibleai/qary/-/raw/main'\n",
        "FAQ_DIR = 'src/qary/data/faq'\n",
        "FAQ_FILENAME = 'short-faqs.csv'\n",
        "DS_FAQ_URL = '/'.join([REPO_URL, FAQ_DIR, FAQ_FILENAME])\n",
        "df = pd.read_csv(DS_FAQ_URL)"
      ],
      "metadata": {
        "id": "qsXHl2Y2cPw3"
      },
      "execution_count": 126,
      "outputs": []
    },
    {
      "cell_type": "code",
      "source": [
        "df"
      ],
      "metadata": {
        "id": "_jClpSsZdX0P",
        "outputId": "f1d6e659-b00c-4e95-a340-e47cd65154d5",
        "colab": {
          "base_uri": "https://localhost:8080/",
          "height": 424
        }
      },
      "execution_count": 127,
      "outputs": [
        {
          "output_type": "execute_result",
          "data": {
            "text/plain": [
              "                                             question                                             answer\n",
              "0   What kinds of data can a machine learning mode...  Machine learning models can only train on nume...\n",
              "1   What are the basic variable data types in python?                  `float`, `int`, `str`, and `bool`\n",
              "2             What is a static model or distribution?  A probability distribution or model whose unde...\n",
              "3   What is a leverage plot and what should I look...                                      I don't know.\n",
              "4   What are replicants in the context of bootstra...  I don't know but I imagine they are the duplic...\n",
              "..                                                ...                                                ...\n",
              "67  What do I need to create a natural language pi...  You need a collection of texts labeled with wh...\n",
              "68  Can I use a collection of YouTube comments to ...  Only if you have a numerical or categorical ra...\n",
              "69  How can I count the number of records for a pa...  `[(country, len(group)) for country, group df....\n",
              "70  What is a CDF (Cumulative Distribution Functio...  To estimate the probability or confidence inte...\n",
              "71  How to reduce overfitting and improve test set...  Decrease the C value, this increases the regul...\n",
              "\n",
              "[72 rows x 2 columns]"
            ],
            "text/html": [
              "\n",
              "  <div id=\"df-6b2c7e23-e736-4bfc-9bc3-f8b83b968238\">\n",
              "    <div class=\"colab-df-container\">\n",
              "      <div>\n",
              "<style scoped>\n",
              "    .dataframe tbody tr th:only-of-type {\n",
              "        vertical-align: middle;\n",
              "    }\n",
              "\n",
              "    .dataframe tbody tr th {\n",
              "        vertical-align: top;\n",
              "    }\n",
              "\n",
              "    .dataframe thead th {\n",
              "        text-align: right;\n",
              "    }\n",
              "</style>\n",
              "<table border=\"1\" class=\"dataframe\">\n",
              "  <thead>\n",
              "    <tr style=\"text-align: right;\">\n",
              "      <th></th>\n",
              "      <th>question</th>\n",
              "      <th>answer</th>\n",
              "    </tr>\n",
              "  </thead>\n",
              "  <tbody>\n",
              "    <tr>\n",
              "      <th>0</th>\n",
              "      <td>What kinds of data can a machine learning mode...</td>\n",
              "      <td>Machine learning models can only train on nume...</td>\n",
              "    </tr>\n",
              "    <tr>\n",
              "      <th>1</th>\n",
              "      <td>What are the basic variable data types in python?</td>\n",
              "      <td>`float`, `int`, `str`, and `bool`</td>\n",
              "    </tr>\n",
              "    <tr>\n",
              "      <th>2</th>\n",
              "      <td>What is a static model or distribution?</td>\n",
              "      <td>A probability distribution or model whose unde...</td>\n",
              "    </tr>\n",
              "    <tr>\n",
              "      <th>3</th>\n",
              "      <td>What is a leverage plot and what should I look...</td>\n",
              "      <td>I don't know.</td>\n",
              "    </tr>\n",
              "    <tr>\n",
              "      <th>4</th>\n",
              "      <td>What are replicants in the context of bootstra...</td>\n",
              "      <td>I don't know but I imagine they are the duplic...</td>\n",
              "    </tr>\n",
              "    <tr>\n",
              "      <th>...</th>\n",
              "      <td>...</td>\n",
              "      <td>...</td>\n",
              "    </tr>\n",
              "    <tr>\n",
              "      <th>67</th>\n",
              "      <td>What do I need to create a natural language pi...</td>\n",
              "      <td>You need a collection of texts labeled with wh...</td>\n",
              "    </tr>\n",
              "    <tr>\n",
              "      <th>68</th>\n",
              "      <td>Can I use a collection of YouTube comments to ...</td>\n",
              "      <td>Only if you have a numerical or categorical ra...</td>\n",
              "    </tr>\n",
              "    <tr>\n",
              "      <th>69</th>\n",
              "      <td>How can I count the number of records for a pa...</td>\n",
              "      <td>`[(country, len(group)) for country, group df....</td>\n",
              "    </tr>\n",
              "    <tr>\n",
              "      <th>70</th>\n",
              "      <td>What is a CDF (Cumulative Distribution Functio...</td>\n",
              "      <td>To estimate the probability or confidence inte...</td>\n",
              "    </tr>\n",
              "    <tr>\n",
              "      <th>71</th>\n",
              "      <td>How to reduce overfitting and improve test set...</td>\n",
              "      <td>Decrease the C value, this increases the regul...</td>\n",
              "    </tr>\n",
              "  </tbody>\n",
              "</table>\n",
              "<p>72 rows × 2 columns</p>\n",
              "</div>\n",
              "      <button class=\"colab-df-convert\" onclick=\"convertToInteractive('df-6b2c7e23-e736-4bfc-9bc3-f8b83b968238')\"\n",
              "              title=\"Convert this dataframe to an interactive table.\"\n",
              "              style=\"display:none;\">\n",
              "        \n",
              "  <svg xmlns=\"http://www.w3.org/2000/svg\" height=\"24px\"viewBox=\"0 0 24 24\"\n",
              "       width=\"24px\">\n",
              "    <path d=\"M0 0h24v24H0V0z\" fill=\"none\"/>\n",
              "    <path d=\"M18.56 5.44l.94 2.06.94-2.06 2.06-.94-2.06-.94-.94-2.06-.94 2.06-2.06.94zm-11 1L8.5 8.5l.94-2.06 2.06-.94-2.06-.94L8.5 2.5l-.94 2.06-2.06.94zm10 10l.94 2.06.94-2.06 2.06-.94-2.06-.94-.94-2.06-.94 2.06-2.06.94z\"/><path d=\"M17.41 7.96l-1.37-1.37c-.4-.4-.92-.59-1.43-.59-.52 0-1.04.2-1.43.59L10.3 9.45l-7.72 7.72c-.78.78-.78 2.05 0 2.83L4 21.41c.39.39.9.59 1.41.59.51 0 1.02-.2 1.41-.59l7.78-7.78 2.81-2.81c.8-.78.8-2.07 0-2.86zM5.41 20L4 18.59l7.72-7.72 1.47 1.35L5.41 20z\"/>\n",
              "  </svg>\n",
              "      </button>\n",
              "      \n",
              "  <style>\n",
              "    .colab-df-container {\n",
              "      display:flex;\n",
              "      flex-wrap:wrap;\n",
              "      gap: 12px;\n",
              "    }\n",
              "\n",
              "    .colab-df-convert {\n",
              "      background-color: #E8F0FE;\n",
              "      border: none;\n",
              "      border-radius: 50%;\n",
              "      cursor: pointer;\n",
              "      display: none;\n",
              "      fill: #1967D2;\n",
              "      height: 32px;\n",
              "      padding: 0 0 0 0;\n",
              "      width: 32px;\n",
              "    }\n",
              "\n",
              "    .colab-df-convert:hover {\n",
              "      background-color: #E2EBFA;\n",
              "      box-shadow: 0px 1px 2px rgba(60, 64, 67, 0.3), 0px 1px 3px 1px rgba(60, 64, 67, 0.15);\n",
              "      fill: #174EA6;\n",
              "    }\n",
              "\n",
              "    [theme=dark] .colab-df-convert {\n",
              "      background-color: #3B4455;\n",
              "      fill: #D2E3FC;\n",
              "    }\n",
              "\n",
              "    [theme=dark] .colab-df-convert:hover {\n",
              "      background-color: #434B5C;\n",
              "      box-shadow: 0px 1px 3px 1px rgba(0, 0, 0, 0.15);\n",
              "      filter: drop-shadow(0px 1px 2px rgba(0, 0, 0, 0.3));\n",
              "      fill: #FFFFFF;\n",
              "    }\n",
              "  </style>\n",
              "\n",
              "      <script>\n",
              "        const buttonEl =\n",
              "          document.querySelector('#df-6b2c7e23-e736-4bfc-9bc3-f8b83b968238 button.colab-df-convert');\n",
              "        buttonEl.style.display =\n",
              "          google.colab.kernel.accessAllowed ? 'block' : 'none';\n",
              "\n",
              "        async function convertToInteractive(key) {\n",
              "          const element = document.querySelector('#df-6b2c7e23-e736-4bfc-9bc3-f8b83b968238');\n",
              "          const dataTable =\n",
              "            await google.colab.kernel.invokeFunction('convertToInteractive',\n",
              "                                                     [key], {});\n",
              "          if (!dataTable) return;\n",
              "\n",
              "          const docLinkHtml = 'Like what you see? Visit the ' +\n",
              "            '<a target=\"_blank\" href=https://colab.research.google.com/notebooks/data_table.ipynb>data table notebook</a>'\n",
              "            + ' to learn more about interactive tables.';\n",
              "          element.innerHTML = '';\n",
              "          dataTable['output_type'] = 'display_data';\n",
              "          await google.colab.output.renderOutput(dataTable, element);\n",
              "          const docLink = document.createElement('div');\n",
              "          docLink.innerHTML = docLinkHtml;\n",
              "          element.appendChild(docLink);\n",
              "        }\n",
              "      </script>\n",
              "    </div>\n",
              "  </div>\n",
              "  "
            ]
          },
          "metadata": {},
          "execution_count": 127
        }
      ]
    },
    {
      "cell_type": "code",
      "source": [
        "from sklearn.decomposition import TruncatedSVD\n",
        "\n",
        "vectorizer = TfidfVectorizer()\n",
        "vectorizer.fit(df['question'])\n",
        "tfidfvectors = vectorizer.transform(df['question'])\n",
        "svd = TruncatedSVD(n_components=16, n_iterations=100)\n",
        "tfidfvectors_16d = svd.fit_transform(tfidfvectors)\n",
        "\n",
        "def bot_reply(question):\n",
        "  question_tfidf = vectorizer.transform([question]).todense()\n",
        "  question_16d = svd.transform(question_tfidf)\n",
        "  idx = question_16d.dot(tfidfvectors_16d.T).argmax()\n",
        "  print(\n",
        "    f\"Your question:\\n {question}\\n\\n\"\n",
        "    f\"Most similar FAQ question:\\n {df['question'][idx]}\\n\\n\"\n",
        "    f\"Answer to that FAQ question:\\n {df['answer'][idx]}\\n\\n\"\n",
        "  )"
      ],
      "metadata": {
        "id": "CnlBN4UzdbrP",
        "outputId": "ab251725-cf03-471e-fb76-0f62c4b4eb7e",
        "colab": {
          "base_uri": "https://localhost:8080/",
          "height": 534
        }
      },
      "execution_count": 130,
      "outputs": [
        {
          "output_type": "error",
          "ename": "ImportError",
          "evalue": "ignored",
          "traceback": [
            "\u001b[0;31m---------------------------------------------------------------------------\u001b[0m",
            "\u001b[0;31mImportError\u001b[0m                               Traceback (most recent call last)",
            "\u001b[0;32m<ipython-input-130-02a5c44bd479>\u001b[0m in \u001b[0;36m<cell line: 1>\u001b[0;34m()\u001b[0m\n\u001b[0;32m----> 1\u001b[0;31m \u001b[0;32mfrom\u001b[0m \u001b[0msklearn\u001b[0m\u001b[0;34m.\u001b[0m\u001b[0mdecomposition\u001b[0m \u001b[0;32mimport\u001b[0m \u001b[0mTruncatedSVD\u001b[0m\u001b[0;34m\u001b[0m\u001b[0;34m\u001b[0m\u001b[0m\n\u001b[0m\u001b[1;32m      2\u001b[0m \u001b[0;34m\u001b[0m\u001b[0m\n\u001b[1;32m      3\u001b[0m \u001b[0mvectorizer\u001b[0m \u001b[0;34m=\u001b[0m \u001b[0mTfidfVectorizer\u001b[0m\u001b[0;34m(\u001b[0m\u001b[0;34m)\u001b[0m\u001b[0;34m\u001b[0m\u001b[0;34m\u001b[0m\u001b[0m\n\u001b[1;32m      4\u001b[0m \u001b[0mvectorizer\u001b[0m\u001b[0;34m.\u001b[0m\u001b[0mfit\u001b[0m\u001b[0;34m(\u001b[0m\u001b[0mdf\u001b[0m\u001b[0;34m[\u001b[0m\u001b[0;34m'question'\u001b[0m\u001b[0;34m]\u001b[0m\u001b[0;34m)\u001b[0m\u001b[0;34m\u001b[0m\u001b[0;34m\u001b[0m\u001b[0m\n\u001b[1;32m      5\u001b[0m \u001b[0mtfidfvectors\u001b[0m \u001b[0;34m=\u001b[0m \u001b[0mvectorizer\u001b[0m\u001b[0;34m.\u001b[0m\u001b[0mtransform\u001b[0m\u001b[0;34m(\u001b[0m\u001b[0mdf\u001b[0m\u001b[0;34m[\u001b[0m\u001b[0;34m'question'\u001b[0m\u001b[0;34m]\u001b[0m\u001b[0;34m)\u001b[0m\u001b[0;34m\u001b[0m\u001b[0;34m\u001b[0m\u001b[0m\n",
            "\u001b[0;32m/usr/local/lib/python3.10/dist-packages/sklearn/decomposition/__init__.py\u001b[0m in \u001b[0;36m<module>\u001b[0;34m\u001b[0m\n\u001b[1;32m      7\u001b[0m \u001b[0;34m\u001b[0m\u001b[0m\n\u001b[1;32m      8\u001b[0m \u001b[0;32mfrom\u001b[0m \u001b[0;34m.\u001b[0m\u001b[0;34m.\u001b[0m\u001b[0mutils\u001b[0m\u001b[0;34m.\u001b[0m\u001b[0mextmath\u001b[0m \u001b[0;32mimport\u001b[0m \u001b[0mrandomized_svd\u001b[0m\u001b[0;34m\u001b[0m\u001b[0;34m\u001b[0m\u001b[0m\n\u001b[0;32m----> 9\u001b[0;31m from ._dict_learning import (\n\u001b[0m\u001b[1;32m     10\u001b[0m     \u001b[0mDictionaryLearning\u001b[0m\u001b[0;34m,\u001b[0m\u001b[0;34m\u001b[0m\u001b[0;34m\u001b[0m\u001b[0m\n\u001b[1;32m     11\u001b[0m     \u001b[0mMiniBatchDictionaryLearning\u001b[0m\u001b[0;34m,\u001b[0m\u001b[0;34m\u001b[0m\u001b[0;34m\u001b[0m\u001b[0m\n",
            "\u001b[0;32m/usr/local/lib/python3.10/dist-packages/sklearn/decomposition/_dict_learning.py\u001b[0m in \u001b[0;36m<module>\u001b[0;34m\u001b[0m\n\u001b[1;32m     15\u001b[0m \u001b[0;32mfrom\u001b[0m \u001b[0mscipy\u001b[0m \u001b[0;32mimport\u001b[0m \u001b[0mlinalg\u001b[0m\u001b[0;34m\u001b[0m\u001b[0;34m\u001b[0m\u001b[0m\n\u001b[1;32m     16\u001b[0m \u001b[0;34m\u001b[0m\u001b[0m\n\u001b[0;32m---> 17\u001b[0;31m from ..base import (\n\u001b[0m\u001b[1;32m     18\u001b[0m     \u001b[0mBaseEstimator\u001b[0m\u001b[0;34m,\u001b[0m\u001b[0;34m\u001b[0m\u001b[0;34m\u001b[0m\u001b[0m\n\u001b[1;32m     19\u001b[0m     \u001b[0mClassNamePrefixFeaturesOutMixin\u001b[0m\u001b[0;34m,\u001b[0m\u001b[0;34m\u001b[0m\u001b[0;34m\u001b[0m\u001b[0m\n",
            "\u001b[0;31mImportError\u001b[0m: cannot import name '_fit_context' from 'sklearn.base' (/usr/local/lib/python3.10/dist-packages/sklearn/base.py)",
            "",
            "\u001b[0;31m---------------------------------------------------------------------------\u001b[0;32m\nNOTE: If your import is failing due to a missing package, you can\nmanually install dependencies using either !pip or !apt.\n\nTo view examples of installing some common dependencies, click the\n\"Open Examples\" button below.\n\u001b[0;31m---------------------------------------------------------------------------\u001b[0m\n"
          ],
          "errorDetails": {
            "actions": [
              {
                "action": "open_url",
                "actionText": "Open Examples",
                "url": "/notebooks/snippets/importing_libraries.ipynb"
              }
            ]
          }
        }
      ]
    },
    {
      "cell_type": "code",
      "source": [],
      "metadata": {
        "id": "JHUMbgzEdpwz"
      },
      "execution_count": null,
      "outputs": []
    }
  ]
}